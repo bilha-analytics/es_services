{
 "cells": [
  {
   "cell_type": "markdown",
   "metadata": {},
   "source": [
    "# 1. Intro\n",
    "\n",
    "**FAQ style retrieval based chat bot**\n",
    "- Train three model types (in different configurations) to figure out user input and map to a response class. Let's see which one does well. The models are\n",
    "    - a TF-IDF similarity measure doc classifier \n",
    "    - a TFIDF based n-gram MLP multi-class classifier (supervised)\n",
    "    - an RNN classifier (unsupervised)\n",
    "\n",
    "**The Data**\n",
    "- Pulling data from known disease/pandemic authorities such as CDC and WHO\n",
    "\n",
    "- Also getting KE national government content. These are static data; knowledge already in place. TODO: a channel for news updates \n",
    "\n",
    "- Data is maintained in a Gsheet and can make updates/additions/etc from there\n",
    "\n",
    "- Clean and classify the above data to have two datasets\n",
    "    - FAQ_db: This is the knowledge base. One to one mapping of class categories and response paragraphs. Has two main fields: class_category, response_p. Additional fields: src, src_link \n",
    "    - Phrases_db: This is the training set on questions/input that users may present to the bot. Has two main fields: input_phrase, class_category \n",
    "    \n",
    "**Approach**\n",
    "- Retrieval based chat bot. \n"
   ]
  },
  {
   "cell_type": "raw",
   "metadata": {},
   "source": [
    "<script>\n",
    "code_show=true; \n",
    "function code_toggle() {\n",
    " if (code_show){\n",
    " $('div.input').hide();\n",
    " } else {\n",
    " $('div.input').show();\n",
    " }\n",
    " code_show = !code_show\n",
    "} \n",
    "$( document ).ready(code_toggle);\n",
    "</script>\n",
    "<a href=\"javascript:code_toggle()\">Show/Hide Code</a>."
   ]
  },
  {
   "cell_type": "markdown",
   "metadata": {},
   "source": [
    "# 2. Corana Dashboard by John Hopkins Uni\n",
    "\n",
    "[Link to map FAQ](https://coronavirus.jhu.edu/map-faq)"
   ]
  },
  {
   "cell_type": "code",
   "execution_count": 1,
   "metadata": {},
   "outputs": [
    {
     "data": {
      "text/html": [
       "\n",
       "        <iframe\n",
       "            width=\"650\"\n",
       "            height=\"400\"\n",
       "            src=\"//arcgis.com/apps/Embed/index.html?webmap=14aa9e5660cf42b5b4b546dec6ceec7c&extent=77.3846,11.535,163.5174,52.8632&center=28.8189834,-2.5117154&zoom=true&previewImage=false&scale=true&disable_scroll=true&theme=light?frameborder=0&scrolling=no&marginheight=0&marginwidth=0&title=2019-nCoV\"\n",
       "            frameborder=\"0\"\n",
       "            allowfullscreen\n",
       "        ></iframe>\n",
       "        "
      ],
      "text/plain": [
       "<IPython.lib.display.IFrame at 0x281b32279c8>"
      ]
     },
     "execution_count": 1,
     "metadata": {},
     "output_type": "execute_result"
    }
   ],
   "source": [
    "### John Hopkins Dashboard - https://coronavirus.jhu.edu/map.html\n",
    "from IPython.display import IFrame\n",
    "## default 77.3846,11.535 \n",
    "start_coordz = \"77.3846,11.535\"  # rabat, morocco\"33.9693414,-6.9273026\"\n",
    "center_coordz = \"28.8189834,-2.5117154\" #center Bukavu, DRC \"-2.5117154,28.8189834\"\n",
    "\n",
    "IFrame(src=\"//arcgis.com/apps/Embed/index.html?webmap=14aa9e5660cf42b5b4b546dec6ceec7c&extent=\"+start_coordz+\",163.5174,52.8632\"+\n",
    "       \"&center=\"+center_coordz+\n",
    "       \"&zoom=true&previewImage=false&scale=true&disable_scroll=true&theme=light\", \n",
    "    width=\"650\", height=\"400\", frameborder=\"0\", scrolling=\"no\", marginheight=\"0\", marginwidth=\"0\", title=\"2019-nCoV\" )"
   ]
  },
  {
   "cell_type": "markdown",
   "metadata": {},
   "source": [
    "# 3. FAQ Chat bot"
   ]
  },
  {
   "cell_type": "markdown",
   "metadata": {},
   "source": [
    "## 3.1. Explore the data "
   ]
  },
  {
   "cell_type": "code",
   "execution_count": 2,
   "metadata": {},
   "outputs": [],
   "source": [
    "import numpy as np\n",
    "import pandas as pd\n",
    "\n",
    "import nltk\n",
    "\n",
    "import matplotlib.pyplot as plt\n",
    "%matplotlib inline\n",
    "\n",
    "import warnings\n",
    "warnings.filterwarnings('ignore')"
   ]
  },
  {
   "cell_type": "code",
   "execution_count": 3,
   "metadata": {},
   "outputs": [],
   "source": [
    "import sys\n",
    "sys.path.append(\"../../../shared\") \n",
    "import zdataset, zdata_source\n",
    "from zdataset import ZGsheetFaqDataSet\n",
    "\n",
    "\n",
    "import warnings\n",
    "warnings.filterwarnings('ignore')"
   ]
  },
  {
   "cell_type": "code",
   "execution_count": 4,
   "metadata": {},
   "outputs": [],
   "source": [
    "## some helper functions @ view db\n",
    "\n",
    "## requires zdataset object . Forcing Abstract vs gsheet subclass<< TODO reflection at abstract class\n",
    "def preview_gsheet_faq(db):\n",
    "    ### What does an faq response record look like\n",
    "    try:\n",
    "        k= list(db.faq_db.keys())[0]\n",
    "        v = db.faq_db[ k ] \n",
    "        print( \"FAQ db Item: (k ==> v)\" )\n",
    "        print(\"{} ==> {}\".format( k, v   ) )\n",
    "    except:\n",
    "        pass\n",
    "    ### What does a phrase record look like\n",
    "    try:\n",
    "        k = list(db.data.keys())[0]\n",
    "        v = db.data[ k ] \n",
    "        print(\"\\n\\nPhrases db Item: (k ==> v)\") \n",
    "        print(\"{} ==> {}\".format( k, v   ) )\n",
    "    except:\n",
    "        k = 0\n",
    "        v = db.data[ k ] \n",
    "        print(\"\\n\\nPhrases db Item: (k ==> v)\") \n",
    "        print(\"{} ==> {}\".format( k, v   ) )\n",
    "        \n",
    "        \n",
    "## given a sequence do FreqDist and report\n",
    "def doFreqDist( list_text ):\n",
    "    fq = nltk.FreqDist( list_text )\n",
    "    print( \"FreqDist of {} tokens.\".format( fq.N() ) )\n",
    "    print( \"Top 10 common tokens: \\n{}\".format( fq.most_common(10) ) )\n",
    "    # plot most common\n",
    "    fq.plot( 15) \n",
    "    return fq\n",
    "\n",
    "## plot multiple seqence in same \n",
    "def fq_plotMultiple(fqz, namez):\n",
    "    df = pd.DataFrame( fqz, columns=namez)\n",
    "    print( \"shape: {}, columns: {} Sample: \\n{}\".format(  df.shape, df.columns, df.head(2), )) "
   ]
  },
  {
   "cell_type": "code",
   "execution_count": 5,
   "metadata": {},
   "outputs": [
    {
     "name": "stdout",
     "output_type": "stream",
     "text": [
      "nb.load_data Loading Gsheet FAQ db\n",
      "Tokens len: 1207\n",
      "['what' 'is' 'a' 'pandemic' 'what' 'cause' 'pandemic' 'what' 'doe']\n",
      "\n"
     ]
    }
   ],
   "source": [
    "print('nb.load_data', \"Loading Gsheet FAQ db\")\n",
    "faq_path = [ ('1EuvcPe9WXSQTsmSqhq0LWJG4xz2ZRQ1FEdnQ_LQ-_Ks', 'FAQ responses!A1:G1000'), ('1EuvcPe9WXSQTsmSqhq0LWJG4xz2ZRQ1FEdnQ_LQ-_Ks', 'Classify_Phrases!A1:G1000')]\n",
    "faq_typ = zdata_source.zGSHEET_FAQ\n",
    "\n",
    "\n",
    "dset = ZGsheetFaqDataSet()\n",
    "dset.initFromResource(faq_path, faq_typ)  \n",
    "dset.preprocess()     \n",
    "dlen =  len(dset.clean_data) \n",
    "print( \"Tokens len: {}\\n{}\\n\".format(dlen, dset.clean_data[: min(dlen, 10) - 1 ] ) ) "
   ]
  },
  {
   "cell_type": "code",
   "execution_count": 6,
   "metadata": {},
   "outputs": [
    {
     "name": "stdout",
     "output_type": "stream",
     "text": [
      "FAQ db Item: (k ==> v)\n",
      "pandemic_define ==> ['A pandemic is an epidemic (infectious disease outbreak) that spreads on a global scale. Pandemics usually occur when a new infectious disease emerges that can spread rapidly around the world.\\r\\n\\r\\nThe World Health Organization (WHO) declared the outbreak of COVID-19 a pandemic on 11 March 2020. This COVID-19 pandemic is the first caused by a coronavirus. (WHO)', 'Australian Govt', 'https://www.health.nsw.gov.au/Infectious/alerts/Pages/coronavirus-faqs.aspx#8-1']\n",
      "\n",
      "\n",
      "Phrases db Item: (k ==> v)\n",
      "what is a pandemic? ==> pandemic_define\n"
     ]
    }
   ],
   "source": [
    "### What does an faq response and phrase record look like\n",
    "preview_gsheet_faq(dset)"
   ]
  },
  {
   "cell_type": "markdown",
   "metadata": {},
   "source": [
    "## Preprocessing & Stats on the data\n",
    "\n",
    "Data refers to the phrases, on which user input is determined. \n",
    "\n",
    "**Preprocessing**\n",
    "- Clean: words to lower, remove punkts, keep numbers.\n",
    "- Option to lemmatize or use phrases as is.\n",
    "\n",
    "\n",
    "\n",
    "**Data Stats** \n",
    "- number of records, train Vs test\n",
    "- lexical diversity, train Vs test \n",
    "- \n"
   ]
  },
  {
   "cell_type": "code",
   "execution_count": 7,
   "metadata": {},
   "outputs": [
    {
     "name": "stderr",
     "output_type": "stream",
     "text": [
      "INFOR   : 2020-04-04 17:04:32.332702 [\u001b[34msplitTrainTest\u001b[0m] Provided data size = 1208\n",
      "what\n"
     ]
    },
    {
     "name": "stdout",
     "output_type": "stream",
     "text": [
      "1. Wordz: count = 1207, sample = ['what' 'is' 'a' 'pandemic']\n",
      "2. Lemmaz: count = 1207, sample = ['what' 'is' 'a' 'pandemic']\n",
      "3. Vocab Wordz: count = 338, sample = ['14' '19' 'a' 'about']\n",
      "4. Vocab Lemmaz: count = 320, sample = ['14' '19' 'a' 'about']\n",
      "5. Lemmaz/Wordz ratio = 1.0\n",
      "6. Vocab/Wordz ratio = 0.28003314001657\n",
      "7. Vocab/Lemmaz ratio = 0.2651201325600663\n",
      "Size = 1207\n",
      "\n",
      " ----- train Dataset -----\n",
      "Size = 967\n",
      "1. Wordz: count = 967, sample = ['some' 'covid19' 'from' 'do']\n",
      "2. Lemmaz: count = 967, sample = ['some' 'covid19' 'from' 'do']\n",
      "3. Vocab Wordz: count = 289, sample = ['14' '19' 'a' 'about']\n",
      "4. Vocab Lemmaz: count = 289, sample = ['14' '19' 'a' 'about']\n",
      "5. Lemmaz/Wordz ratio = 1.0\n",
      "6. Vocab/Wordz ratio = 0.2988624612202689\n",
      "7. Vocab/Lemmaz ratio = 0.2988624612202689\n",
      "\n",
      " ----- test Dataset -----\n",
      "Size = 241\n",
      "1. Wordz: count = 241, sample = ['if' 'dog' 'spread' 'sanitizer']\n",
      "2. Lemmaz: count = 241, sample = ['if' 'dog' 'spread' 'sanitizer']\n",
      "3. Vocab Wordz: count = 121, sample = ['02' '14' 'a' 'about']\n",
      "4. Vocab Lemmaz: count = 121, sample = ['02' '14' 'a' 'about']\n",
      "5. Lemmaz/Wordz ratio = 1.0\n",
      "6. Vocab/Wordz ratio = 0.5020746887966805\n",
      "7. Vocab/Lemmaz ratio = 0.5020746887966805\n"
     ]
    }
   ],
   "source": [
    "### clean_data_and_lemmatize Vs no lemmatized.\n",
    "## at this point it's just bag of words. @model can decide if BOW or Sequence\n",
    "\n",
    "def show_basic_stats(db_wordz, db_lemmaz, vocab_wordz, vocab_lemmaz):\n",
    "    print( \"1. Wordz: count = {}, sample = {}\".format( len(db_wordz), db_wordz[:4]))\n",
    "    print( \"2. Lemmaz: count = {}, sample = {}\".format( len(db_lemmaz), db_lemmaz[:4]))\n",
    "\n",
    "    print( \"3. Vocab Wordz: count = {}, sample = {}\".format( len(vocab_wordz), vocab_wordz[:4]))\n",
    "    print( \"4. Vocab Lemmaz: count = {}, sample = {}\".format( len(vocab_lemmaz), vocab_lemmaz[:4]))\n",
    "\n",
    "    # lexical diversity\n",
    "    print( \"5. Lemmaz/Wordz ratio = {}\".format( len(db_lemmaz) / len(db_wordz) ))\n",
    "    print( \"6. Vocab/Wordz ratio = {}\".format(  len(vocab_wordz) / len(db_wordz) ) ) \n",
    "    print( \"7. Vocab/Lemmaz ratio = {}\".format( len(vocab_lemmaz)/len(db_lemmaz) ) )\n",
    "\n",
    "\n",
    "## 1. no_lemmatization\n",
    "dset.preprocess( lemmatized=False)\n",
    "db_wordz = dset.clean_data\n",
    "vocab_wordz = dset.getVocab()\n",
    "\n",
    "## 2. yes lemmatization \n",
    "dset.preprocess( lemmatized=True)\n",
    "db_lemmaz = dset.clean_data\n",
    "vocab_lemmaz = dset.getVocab()\n",
    "\n",
    "## 3. Show full db stats\n",
    "show_basic_stats(db_wordz, db_lemmaz, vocab_wordz, vocab_lemmaz)\n",
    "\n",
    "## 4. Split train and test \n",
    "print( \"Size = {}\".format( len(dset.clean_data) ) )\n",
    "db_train, db_test = dset.splitIntoTrainTest()\n",
    "\n",
    "## 3. Show train, test stats\n",
    "for i, db in enumerate([db_train, db_test]) :\n",
    "    print(\"\\n {0} {1} Dataset {0}\".format(\"-\"*5, \"train\" if i == 0 else \"test\"))\n",
    "#     preview_gsheet_faq(db)\n",
    "    print( \"Size = {}\".format( len(db.data) ) )\n",
    "    \n",
    "    ## 1. no_lemmatization\n",
    "    db.preprocess( lemmatized=False)\n",
    "    db_wordz = db.clean_data\n",
    "    vocab_wordz = db.getVocab()\n",
    "\n",
    "    ## 2. yes lemmatization \n",
    "    db.preprocess( lemmatized=True)\n",
    "    db_lemmaz = db.clean_data\n",
    "    vocab_lemmaz = db.getVocab()\n",
    "    \n",
    "    show_basic_stats(db_wordz, db_lemmaz, vocab_wordz, vocab_lemmaz)\n",
    "\n"
   ]
  },
  {
   "cell_type": "code",
   "execution_count": 11,
   "metadata": {},
   "outputs": [
    {
     "name": "stdout",
     "output_type": "stream",
     "text": [
      "FreqDist of 1207 tokens.\n",
      "Top 10 common tokens: \n",
      "[('i', 74), ('the', 41), ('what', 37), ('covid19', 36), ('is', 34), ('can', 32), ('how', 29), ('my', 28), ('virus', 27), ('do', 26)]\n"
     ]
    },
    {
     "data": {
      "image/png": "[encoded data removed]",
      "text/plain": [
       "<Figure size 432x288 with 1 Axes>"
      ]
     },
     "metadata": {
      "needs_background": "light"
     },
     "output_type": "display_data"
    },
    {
     "name": "stdout",
     "output_type": "stream",
     "text": [
      "\n",
      " ----- train Dataset -----\n",
      "FreqDist of 967 tokens.\n",
      "Top 10 common tokens: \n",
      "[('i', 52), ('the', 34), ('is', 31), ('covid19', 30), ('what', 29), ('do', 23), ('or', 23), ('can', 23), ('virus', 22), ('should', 22)]\n"
     ]
    },
    {
     "data": {
      "image/png": "[encoded data removed]",
      "text/plain": [
       "<Figure size 432x288 with 1 Axes>"
      ]
     },
     "metadata": {
      "needs_background": "light"
     },
     "output_type": "display_data"
    },
    {
     "name": "stdout",
     "output_type": "stream",
     "text": [
      "\n",
      " ----- test Dataset -----\n",
      "FreqDist of 241 tokens.\n",
      "Top 10 common tokens: \n",
      "[('i', 22), ('can', 9), ('how', 8), ('what', 8), ('the', 7), ('to', 7), ('my', 7), ('covid19', 6), ('are', 5), ('virus', 5)]\n"
     ]
    },
    {
     "data": {
      "image/png": "[encoded data removed]",
      "text/plain": [
       "<Figure size 432x288 with 1 Axes>"
      ]
     },
     "metadata": {
      "needs_background": "light"
     },
     "output_type": "display_data"
    }
   ],
   "source": [
    "fqz = []\n",
    "namez = ['all', 'train', 'test']\n",
    "## Frequency Distributions\n",
    "fqz.append( doFreqDist( list(dset.clean_data ) ) )\n",
    "\n",
    "## @ train, test \n",
    "for i, db in enumerate([db_train, db_test]) :\n",
    "    print(\"\\n {0} {1} Dataset {0}\".format(\"-\"*5, \"train\" if i == 0 else \"test\"))\n",
    "    fqz.append( doFreqDist( list(db.data ) ) )"
   ]
  },
  {
   "cell_type": "code",
   "execution_count": 9,
   "metadata": {},
   "outputs": [
    {
     "name": "stdout",
     "output_type": "stream",
     "text": [
      "shape: (3, 3), columns: Index(['all', 'train', 'test'], dtype='object') Sample: \n",
      "   all  train  test\n",
      "0  1.0    NaN     4\n",
      "1  NaN    NaN     3\n"
     ]
    }
   ],
   "source": [
    "fq_plotMultiple( fqz, namez)"
   ]
  },
  {
   "cell_type": "code",
   "execution_count": 14,
   "metadata": {},
   "outputs": [
    {
     "data": {
      "text/html": [
       "<div>\n",
       "<style scoped>\n",
       "    .dataframe tbody tr th:only-of-type {\n",
       "        vertical-align: middle;\n",
       "    }\n",
       "\n",
       "    .dataframe tbody tr th {\n",
       "        vertical-align: top;\n",
       "    }\n",
       "\n",
       "    .dataframe thead th {\n",
       "        text-align: right;\n",
       "    }\n",
       "</style>\n",
       "<table border=\"1\" class=\"dataframe\">\n",
       "  <thead>\n",
       "    <tr style=\"text-align: right;\">\n",
       "      <th></th>\n",
       "      <th>token</th>\n",
       "      <th>freq</th>\n",
       "    </tr>\n",
       "  </thead>\n",
       "  <tbody>\n",
       "  </tbody>\n",
       "</table>\n",
       "</div>"
      ],
      "text/plain": [
       "Empty DataFrame\n",
       "Columns: [token, freq]\n",
       "Index: []"
      ]
     },
     "execution_count": 14,
     "metadata": {},
     "output_type": "execute_result"
    }
   ],
   "source": [
    "pd.DataFrame( fqz[0], columns=['token', 'freq'])"
   ]
  },
  {
   "cell_type": "code",
   "execution_count": null,
   "metadata": {},
   "outputs": [],
   "source": []
  }
 ],
 "metadata": {
  "kernelspec": {
   "display_name": "Python 3",
   "language": "python",
   "name": "python3"
  },
  "language_info": {
   "codemirror_mode": {
    "name": "ipython",
    "version": 3
   },
   "file_extension": ".py",
   "mimetype": "text/x-python",
   "name": "python",
   "nbconvert_exporter": "python",
   "pygments_lexer": "ipython3",
   "version": "3.7.4"
  }
 },
 "nbformat": 4,
 "nbformat_minor": 2
}
