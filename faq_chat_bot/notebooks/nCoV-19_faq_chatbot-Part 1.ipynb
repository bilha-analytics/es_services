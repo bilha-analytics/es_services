{
 "cells": [
  {
   "cell_type": "markdown",
   "metadata": {},
   "source": [
    "# 1. Intro\n",
    "\n",
    "**FAQ style retrieval based chat bot**\n",
    "- Train three model types (in different configurations) to figure out user input and map to a response class. Let's see which one does well. The models are\n",
    "    - a TF-IDF similarity measure doc classifier \n",
    "    - a TFIDF based n-gram MLP multi-class classifier (supervised)\n",
    "    - an RNN classifier (unsupervised)\n",
    "\n",
    "**The Data**\n",
    "- Pulling data from known disease/pandemic authorities such as CDC and WHO\n",
    "\n",
    "- Also getting KE national government content. These are static data; knowledge already in place. TODO: a channel for news updates \n",
    "\n",
    "- Data is maintained in a Gsheet and can make updates/additions/etc from there\n",
    "\n",
    "- Clean and classify the above data to have two datasets\n",
    "    - FAQ_db: This is the knowledge base. One to one mapping of class categories and response paragraphs. Has two main fields: class_category, response_p. Additional fields: src, src_link \n",
    "    - Phrases_db: This is the training set on questions/input that users may present to the bot. Has two main fields: input_phrase, class_category \n",
    "    \n",
    "**Approach**\n",
    "- Retrieval based chat bot. \n"
   ]
  },
  {
   "cell_type": "raw",
   "metadata": {},
   "source": [
    "<script>\n",
    "code_show=true; \n",
    "function code_toggle() {\n",
    " if (code_show){\n",
    " $('div.input').hide();\n",
    " } else {\n",
    " $('div.input').show();\n",
    " }\n",
    " code_show = !code_show\n",
    "} \n",
    "$( document ).ready(code_toggle);\n",
    "</script>\n",
    "<a href=\"javascript:code_toggle()\">Show/Hide Code</a>."
   ]
  },
  {
   "cell_type": "markdown",
   "metadata": {},
   "source": [
    "# 2. Corana Dashboard by John Hopkins Uni\n",
    "\n",
    "[Link to map FAQ](https://coronavirus.jhu.edu/map-faq)"
   ]
  },
  {
   "cell_type": "code",
   "execution_count": 1,
   "metadata": {
    "scrolled": false
   },
   "outputs": [
    {
     "data": {
      "text/html": [
       "\n",
       "        <iframe\n",
       "            width=\"650\"\n",
       "            height=\"400\"\n",
       "            src=\"//arcgis.com/apps/Embed/index.html?webmap=14aa9e5660cf42b5b4b546dec6ceec7c&extent=77.3846,11.535,163.5174,52.8632&center=28.8189834,-2.5117154&zoom=true&previewImage=false&scale=true&disable_scroll=true&theme=light?frameborder=0&scrolling=no&marginheight=0&marginwidth=0&title=2019-nCoV\"\n",
       "            frameborder=\"0\"\n",
       "            allowfullscreen\n",
       "        ></iframe>\n",
       "        "
      ],
      "text/plain": [
       "<IPython.lib.display.IFrame at 0x173e52da988>"
      ]
     },
     "execution_count": 1,
     "metadata": {},
     "output_type": "execute_result"
    }
   ],
   "source": [
    "### John Hopkins Dashboard - https://coronavirus.jhu.edu/map.html\n",
    "from IPython.display import IFrame\n",
    "## default 77.3846,11.535 \n",
    "start_coordz = \"77.3846,11.535\"  # rabat, morocco\"33.9693414,-6.9273026\"\n",
    "center_coordz = \"28.8189834,-2.5117154\" #center Bukavu, DRC \"-2.5117154,28.8189834\"\n",
    "\n",
    "IFrame(src=\"//arcgis.com/apps/Embed/index.html?webmap=14aa9e5660cf42b5b4b546dec6ceec7c&extent=\"+start_coordz+\",163.5174,52.8632\"+\n",
    "       \"&center=\"+center_coordz+\n",
    "       \"&zoom=true&previewImage=false&scale=true&disable_scroll=true&theme=light\", \n",
    "    width=\"650\", height=\"400\", frameborder=\"0\", scrolling=\"no\", marginheight=\"0\", marginwidth=\"0\", title=\"2019-nCoV\" )"
   ]
  },
  {
   "cell_type": "markdown",
   "metadata": {},
   "source": [
    "# 3. FAQ Chat bot - Part 1\n",
    "- Find suitable data and format "
   ]
  },
  {
   "cell_type": "markdown",
   "metadata": {},
   "source": [
    "## 3.1. Explore the data "
   ]
  },
  {
   "cell_type": "code",
   "execution_count": 2,
   "metadata": {},
   "outputs": [],
   "source": [
    "import numpy as np\n",
    "import pandas as pd\n",
    "\n",
    "import nltk\n",
    "\n",
    "import matplotlib.pyplot as plt\n",
    "import seaborn as sns\n",
    "%matplotlib inline\n",
    "\n",
    "import warnings\n",
    "warnings.filterwarnings('ignore')"
   ]
  },
  {
   "cell_type": "code",
   "execution_count": 3,
   "metadata": {},
   "outputs": [],
   "source": [
    "import sys\n",
    "sys.path.append(\"../../../shared\") \n",
    "import zdataset, zdata_source\n",
    "from zdataset import ZGsheetFaqDataSet\n",
    "\n",
    "\n",
    "import warnings\n",
    "warnings.filterwarnings('ignore')"
   ]
  },
  {
   "cell_type": "code",
   "execution_count": 4,
   "metadata": {},
   "outputs": [],
   "source": [
    "## plot settings\n",
    "params = {\n",
    "    'font.size' : 14.0,\n",
    "    'figure.figsize': (20.0, 12.0),\n",
    "    'figure.dpi' : 40\n",
    "}\n",
    "plt.rcParams.update(params)\n",
    "plt.style.use('fivethirtyeight') #tableau-colorblind10 ggplot"
   ]
  },
  {
   "cell_type": "code",
   "execution_count": 5,
   "metadata": {},
   "outputs": [],
   "source": [
    "## some helper functions @ view db\n",
    "\n",
    "## requires zdataset object . Forcing Abstract vs gsheet subclass<< TODO reflection at abstract class\n",
    "def preview_gsheet_faq(db):\n",
    "    ### What does an faq response record look like\n",
    "    try:\n",
    "        k= list(db.faq_db.keys())[0]\n",
    "        v = db.faq_db[ k ] \n",
    "        print( \"FAQ db Item: (k ==> v)\" )\n",
    "        print(\"{} ==> {}\".format( k, v   ) )\n",
    "    except:\n",
    "        pass\n",
    "    ### What does a phrase record look like\n",
    "    try:\n",
    "        k = list(db.data.keys())[0]\n",
    "        v = db.data[ k ] \n",
    "        print(\"\\n\\nPhrases db Item: (k ==> v)\") \n",
    "        print(\"{} ==> {}\".format( k, v   ) )\n",
    "    except:\n",
    "        k = 0\n",
    "        v = db.data[ k ] \n",
    "        print(\"\\n\\nPhrases db Item: (k ==> v)\") \n",
    "        print(\"{} ==> {}\".format( k, v   ) )\n",
    "        \n",
    "\n",
    "def show_basic_stats(db_wordz, db_lemmaz, vocab_wordz, vocab_lemmaz):\n",
    "    print( \"1. Wordz: count = {}, sample = {}\".format( len(db_wordz), db_wordz[:4]))\n",
    "    print( \"2. Lemmaz: count = {}, sample = {}\".format( len(db_lemmaz), db_lemmaz[:4]))\n",
    "\n",
    "    print( \"3. Vocab Wordz: count = {}, sample = {}\".format( len(vocab_wordz), vocab_wordz[:4]))\n",
    "    print( \"4. Vocab Lemmaz: count = {}, sample = {}\".format( len(vocab_lemmaz), vocab_lemmaz[:4]))\n",
    "\n",
    "    # lexical diversity\n",
    "    print( \"5. Lemmaz/Wordz ratio = {}\".format( len(db_lemmaz) / len(db_wordz) if len(db_wordz) > 0 else 'N/A' ))\n",
    "    print( \"6. Vocab/Wordz ratio = {}\".format(  len(vocab_wordz) / len(db_wordz) if len(db_wordz) > 0 else 'N/A') ) \n",
    "    print( \"7. Vocab/Lemmaz ratio = {}\".format( len(vocab_lemmaz)/len(db_lemmaz) if len(db_lemmaz) > 0 else 'N/A') )\n",
    "    \n",
    "## given a sequence do FreqDist and report\n",
    "def doFreqDist( list_text ):\n",
    "    fq = nltk.FreqDist( list_text )\n",
    "    print( \"FreqDist of {} tokens.\".format( fq.N() ) )\n",
    "    print( \"Top 10 common tokens: \\n{}\".format( fq.most_common(10) ) )\n",
    "    # plot most common\n",
    "#     fq.plot( 15) \n",
    "    return fq\n",
    "\n",
    "## plot multiple seqence in same \n",
    "## returns top most_fq_n words for if we want to clean further\n",
    "def fq_plotMultiple(fqz, namez, most_fq_n=15):\n",
    "    colz = ['token', 'freq']    \n",
    "    \n",
    "    df = pd.DataFrame( fqz[0].most_common(most_fq_n), columns=['token', 'freq'])\n",
    "    df['dset'] = namez[0]\n",
    "    \n",
    "    for i, fq in enumerate(fqz[1:]):        \n",
    "        j = i+1\n",
    "        tmp = pd.DataFrame( fq.most_common(most_fq_n), columns=['token', 'freq'])\n",
    "        tmp['dset'] = namez[j] \n",
    "        df = pd.concat([df, tmp])\n",
    "#         print( \"{}: shape: {}, columns: {} Sample: \\n{}\".format(namez[j], tmp.shape, tmp.columns, tmp.head(2), )) \n",
    "    \n",
    "#     print( \"FIN>>> shape: {}, columns: {} Sample: \\n{}\".format( df.shape, df.columns, df.head(2), ))     \n",
    "    g = sns.barplot( x='token', y='freq', hue='dset', dodge=False, data=df)\n",
    "    g.set_title(\"Top {} words distribution by dataset allocation\".format(most_fq_n))\n",
    "    g.set_xticklabels(g.get_xticklabels(), rotation=45, horizontalalignment='center')\n",
    "#     plt.xticks( rotation = 45)\n",
    "    plt.legend(loc='upper right')\n",
    "    plt.show()\n",
    "    \n",
    "    return df"
   ]
  },
  {
   "cell_type": "code",
   "execution_count": 6,
   "metadata": {
    "scrolled": false
   },
   "outputs": [
    {
     "name": "stdout",
     "output_type": "stream",
     "text": [
      "nb.load_data Loading Gsheet FAQ db\n",
      "Tokens len: recs=141, words=1167, vocab=320\n",
      "['what is a pandemic' 'what cause pandemic'\n",
      " 'what doe it mean that who ha declared a pandemic'\n",
      " 'why do pandemic occur' 'how serious will the impact be'\n",
      " 'what are corona virus' 'what is covid19 virus' 'what is corana 19 virus'\n",
      " 'what is ncov19 virus']\n",
      "\n"
     ]
    }
   ],
   "source": [
    "print('nb.load_data', \"Loading Gsheet FAQ db\")\n",
    "faq_path = [ ('1EuvcPe9WXSQTsmSqhq0LWJG4xz2ZRQ1FEdnQ_LQ-_Ks', 'FAQ responses!A1:G1000'), ('1EuvcPe9WXSQTsmSqhq0LWJG4xz2ZRQ1FEdnQ_LQ-_Ks', 'Classify_Phrases!A1:G1000')]\n",
    "faq_typ = zdata_source.zGSHEET_FAQ\n",
    "\n",
    "\n",
    "dset = ZGsheetFaqDataSet()\n",
    "dset.initFromResource(faq_path, faq_typ)  \n",
    "dset.preprocess()     \n",
    "dlen =  len(dset.clean_data) \n",
    "dwords = dset.getWords()\n",
    "dvocab = dset.getVocab()\n",
    "print( \"Tokens len: recs={}, words={}, vocab={}\\n{}\\n\".format(dlen, len(dwords), len(dvocab), dset.clean_data[: min(dlen, 10) - 1 ] ) ) "
   ]
  },
  {
   "cell_type": "code",
   "execution_count": 7,
   "metadata": {},
   "outputs": [
    {
     "name": "stdout",
     "output_type": "stream",
     "text": [
      "FAQ db Item: (k ==> v)\n",
      "pandemic_define ==> ['A pandemic is an epidemic (infectious disease outbreak) that spreads on a global scale. Pandemics usually occur when a new infectious disease emerges that can spread rapidly around the world.\\r\\n\\r\\nThe World Health Organization (WHO) declared the outbreak of COVID-19 a pandemic on 11 March 2020. This COVID-19 pandemic is the first caused by a coronavirus. (WHO)', 'Australian Govt', 'https://www.health.nsw.gov.au/Infectious/alerts/Pages/coronavirus-faqs.aspx#8-1']\n",
      "\n",
      "\n",
      "Phrases db Item: (k ==> v)\n",
      "0 ==> what is a pandemic?\n"
     ]
    }
   ],
   "source": [
    "### What does an faq response and phrase record look like\n",
    "preview_gsheet_faq(dset)"
   ]
  },
  {
   "cell_type": "markdown",
   "metadata": {},
   "source": [
    "## 3.2. Preprocessing & Stats on the data\n",
    "\n",
    "Data refers to the phrases, on which user input is determined. \n",
    "\n",
    "**Preprocessing**\n",
    "- Clean: words to lower, remove punkts, keep numbers.\n",
    "- Option to lemmatize or use phrases as is.\n",
    "- Remove words that are common within this corpus\n",
    "\n",
    "\n",
    "\n",
    "**Data Stats** \n",
    "- number of records, train Vs test\n",
    "- lexical diversity, train Vs test \n",
    "- \n"
   ]
  },
  {
   "cell_type": "code",
   "execution_count": 19,
   "metadata": {
    "scrolled": false
   },
   "outputs": [
    {
     "name": "stdout",
     "output_type": "stream",
     "text": [
      "1. Wordz: count = 544, sample = ['pandemic' 'causes' 'pandemics' 'declared']\n",
      "2. Lemmaz: count = 544, sample = ['pandemic', 'cause', 'pandemic', 'declared']\n",
      "3. Vocab Wordz: count = 270, sample = ['access' 'adhere' 'adults' 'affected']\n",
      "4. Vocab Lemmaz: count = 254, sample = ['access', 'adhere', 'adult', 'affected']\n",
      "5. Lemmaz/Wordz ratio = 1.0\n",
      "6. Vocab/Wordz ratio = 0.4963235294117647\n",
      "7. Vocab/Lemmaz ratio = 0.46691176470588236\n"
     ]
    }
   ],
   "source": [
    "### clean_data_and_lemmatize Vs no lemmatized.\n",
    "## at this point it's just bag of words. @model can decide if BOW or Sequence\n",
    "###### UPDATES after EDA rounds\n",
    "## - remove stop words and numbers\n",
    "\n",
    "dict_preprocess_argz = {\n",
    "    'remove_stopwordz' : True, \n",
    "    'remove_numberz' : True\n",
    "}\n",
    "\n",
    "## 1. no_lemmatization\n",
    "dset.preprocess( lemmatized=False, **dict_preprocess_argz )\n",
    "db_wordz = np.copy( dset.getWords() )\n",
    "vocab_wordz = np.copy(  dset.getVocab() )\n",
    "# print(\"\\n================== ON TO LEMMATIZATION ===============\")\n",
    "## 2. yes lemmatization \n",
    "dset.preprocess( lemmatized=True, **dict_preprocess_argz)\n",
    "db_lemmaz = dset.getWords()\n",
    "vocab_lemmaz = dset.getVocab()\n",
    "\n",
    "## 3. Show full db stats\n",
    "show_basic_stats(db_wordz, db_lemmaz, vocab_wordz, vocab_lemmaz)\n"
   ]
  },
  {
   "cell_type": "code",
   "execution_count": 20,
   "metadata": {
    "scrolled": false
   },
   "outputs": [
    {
     "name": "stderr",
     "output_type": "stream",
     "text": [
      "INFOR   : 2020-04-07 01:14:18.448027 [\u001b[34msplitTrainTest\u001b[0m] Provided data size = 141\n",
      "pandemic\n"
     ]
    },
    {
     "name": "stdout",
     "output_type": "stream",
     "text": [
      "Size = 141\n",
      "\n",
      " ----- train Dataset -----\n",
      "Size = 113\n",
      "1. Wordz: count = 430, sample = ['case' 'child' 'community' 'covid']\n",
      "2. Lemmaz: count = 430, sample = ['case' 'child' 'community' 'covid']\n",
      "3. Vocab Wordz: count = 223, sample = ['access' 'adhere' 'adult' 'affected']\n",
      "4. Vocab Lemmaz: count = 223, sample = ['access' 'adhere' 'adult' 'affected']\n",
      "5. Lemmaz/Wordz ratio = 1.0\n",
      "6. Vocab/Wordz ratio = 0.5186046511627908\n",
      "7. Vocab/Lemmaz ratio = 0.5186046511627908\n",
      "\n",
      " ----- test Dataset -----\n",
      "Size = 28\n",
      "1. Wordz: count = 113, sample = ['come' 'contact' 'contanct' 'identified']\n",
      "2. Lemmaz: count = 113, sample = ['come' 'contact' 'contanct' 'identified']\n",
      "3. Vocab Wordz: count = 88, sample = ['adult' 'area' 'away' 'blood']\n",
      "4. Vocab Lemmaz: count = 88, sample = ['adult' 'area' 'away' 'blood']\n",
      "5. Lemmaz/Wordz ratio = 1.0\n",
      "6. Vocab/Wordz ratio = 0.7787610619469026\n",
      "7. Vocab/Lemmaz ratio = 0.7787610619469026\n"
     ]
    }
   ],
   "source": [
    "## 4. Split train and test \n",
    "print( \"Size = {}\".format( len(dset.clean_data) ) )\n",
    "db_train, db_test = dset.splitIntoTrainTest()\n",
    "\n",
    "## 3. Show train, test stats\n",
    "for i, db in enumerate([db_train, db_test]) :\n",
    "    print(\"\\n {0} {1} Dataset {0}\".format(\"-\"*5, \"train\" if i == 0 else \"test\"))\n",
    "#     preview_gsheet_faq(db)\n",
    "    print( \"Size = {}\".format( len(db.data) ) )\n",
    "    \n",
    "    ## 1. no_lemmatization\n",
    "    db.preprocess( lemmatized=False, **dict_preprocess_argz)\n",
    "    db_wordz = np.copy( db.getWords() )\n",
    "    vocab_wordz = np.copy( db.getVocab() )\n",
    "\n",
    "    ## 2. yes lemmatization \n",
    "    db.preprocess( lemmatized=True, **dict_preprocess_argz)\n",
    "    db_lemmaz = np.copy( db.getWords() )\n",
    "    vocab_lemmaz = np.copy( db.getVocab() )\n",
    "    \n",
    "    show_basic_stats(db_wordz, db_lemmaz, vocab_wordz, vocab_lemmaz)\n",
    "\n"
   ]
  },
  {
   "cell_type": "code",
   "execution_count": 21,
   "metadata": {},
   "outputs": [],
   "source": [
    "## Compare freq of top n words; default n = 15\n",
    "namez = ['all', 'train', 'test']\n",
    "\n",
    "def getFreqDist(dbz, dbnamez=namez):\n",
    "    fqz = []    \n",
    "    ## Frequency Distributions\n",
    "    fqz.append( doFreqDist( list(dbz[0].getWords() ) ) )\n",
    "\n",
    "    ## @ train, test \n",
    "    for i, db in enumerate(dbz[1:]) :\n",
    "        print(\"\\n {0} {1} Dataset {0}\".format(\"-\"*5, \"train\" if i == 0 else \"test\"))\n",
    "        fqz.append( doFreqDist( list(db.getWords() ) ) )\n",
    "    \n",
    "    most_wordz = fq_plotMultiple( fqz, namez)\n",
    "    \n",
    "    return most_wordz"
   ]
  },
  {
   "cell_type": "code",
   "execution_count": 22,
   "metadata": {
    "scrolled": true
   },
   "outputs": [
    {
     "name": "stdout",
     "output_type": "stream",
     "text": [
      "FreqDist of 544 tokens.\n",
      "Top 10 common tokens: \n",
      "[('covid', 36), ('virus', 27), ('risk', 10), ('child', 9), ('spread', 8), ('sanitizer', 8), ('hand', 7), ('corana', 6), ('im', 6), ('infected', 6)]\n",
      "\n",
      " ----- train Dataset -----\n",
      "FreqDist of 430 tokens.\n",
      "Top 10 common tokens: \n",
      "[('covid', 30), ('virus', 23), ('child', 8), ('infected', 6), ('protect', 6), ('risk', 6), ('spread', 6), ('sanitizer', 6), ('long', 5), ('im', 5)]\n",
      "\n",
      " ----- test Dataset -----\n",
      "FreqDist of 113 tokens.\n",
      "Top 10 common tokens: \n",
      "[('covid', 6), ('risk', 4), ('virus', 4), ('safe', 4), ('cat', 2), ('dog', 2), ('make', 2), ('pet', 2), ('case', 2), ('school', 2)]\n"
     ]
    },
    {
     "data": {
      "image/png": "[encoded data removed]",
      "text/plain": [
       "<Figure size 800x480 with 1 Axes>"
      ]
     },
     "metadata": {},
     "output_type": "display_data"
    }
   ],
   "source": [
    "most_wordz = getFreqDist( [dset, db_train, db_test] )"
   ]
  },
  {
   "cell_type": "markdown",
   "metadata": {},
   "source": [
    "## 3.3. Final clean up; Vectorize/Model use ready\n"
   ]
  },
  {
   "cell_type": "code",
   "execution_count": 12,
   "metadata": {
    "scrolled": true
   },
   "outputs": [],
   "source": [
    "###### 1. remove words that are common within this corpus\n",
    "# most_wordz.head() <<< TODO\n",
    "new_stopz = dset.getStopWords(['covid', 'risk']) \n",
    "\n",
    "dict_preprocess_argz = {\n",
    "    'remove_stopwordz' : True, \n",
    "    'remove_numberz' : True, \n",
    "    'stop_wordz' : new_stopz\n",
    "}"
   ]
  },
  {
   "cell_type": "code",
   "execution_count": 13,
   "metadata": {},
   "outputs": [
    {
     "name": "stdout",
     "output_type": "stream",
     "text": [
      "Threshold Ratio: 36.345521023766\n"
     ]
    }
   ],
   "source": [
    "##### 2. CHECK THRESHOLD : RATIO of n_observations / avg_words_per_observation\n",
    "##    - If less than 1500 then use n-gram approach \n",
    "##    - ElIf 1500 < x < use sequence e.g. SepCNN with existing embeddings\n",
    "##    - Else use sequence and learn embeddings from scratch \n",
    "\n",
    "t_ratio = dset.thresholdRatio()\n",
    "print( \"Threshold Ratio: {}\".format( t_ratio))"
   ]
  },
  {
   "cell_type": "code",
   "execution_count": 14,
   "metadata": {},
   "outputs": [
    {
     "name": "stderr",
     "output_type": "stream",
     "text": [
      "INFOR   : 2020-04-07 01:14:11.073178 [\u001b[34msplitTrainTest\u001b[0m] Provided data size = 141\n",
      "pandemic\n"
     ]
    },
    {
     "name": "stdout",
     "output_type": "stream",
     "text": [
      "AFTER Tokens len: recs=141, words=534, vocab=253\n",
      "['pandemic' 'cause pandemic']\n",
      "\n",
      "Vocab/Wordz ratio = 0.4737827715355805\n",
      "AFTER: train size = 423, test size = 111\n"
     ]
    }
   ],
   "source": [
    "####. 3 Regenerate \n",
    "## Can lemmatize iff n-gram \n",
    "## n-gram range on cleaned data ???\n",
    "dset.preprocess( lemmatized=(t_ratio <= 1500), **dict_preprocess_argz) \n",
    "\n",
    "## new stats \n",
    "dlen =  len(dset.clean_data) \n",
    "dwords = dset.getWords()\n",
    "dvocab = dset.getVocab()\n",
    "print( \"AFTER Tokens len: recs={}, words={}, vocab={}\\n{}\\n\".format(dlen, len(dwords), len(dvocab), dset.clean_data[: min(dlen, 3) - 1 ] ) ) \n",
    "# lexical diversity\n",
    "print( \"Vocab/Wordz ratio = {}\".format(  len(dvocab) / len(dwords) if len(dwords) > 0 else 'N/A') ) \n",
    "\n",
    "\n",
    "db_train, db_test = dset.splitIntoTrainTest()\n",
    "print(\"AFTER: train size = {}, test size = {}\".format(\n",
    "        len( db_train.getWords() ),\n",
    "        len( db_test.getWords() )\n",
    "    ))"
   ]
  },
  {
   "cell_type": "code",
   "execution_count": 15,
   "metadata": {},
   "outputs": [
    {
     "name": "stdout",
     "output_type": "stream",
     "text": [
      "FreqDist of 534 tokens.\n",
      "Top 10 common tokens: \n",
      "[('covid', 36), ('virus', 27), ('child', 9), ('spread', 8), ('sanitizer', 8), ('hand', 7), ('corana', 6), ('im', 6), ('infected', 6), ('someone', 6)]\n",
      "\n",
      " ----- train Dataset -----\n",
      "FreqDist of 423 tokens.\n",
      "Top 10 common tokens: \n",
      "[('covid', 30), ('virus', 23), ('child', 7), ('tested', 6), ('use', 6), ('hand', 6), ('sanitizer', 6), ('spread', 6), ('get', 5), ('protect', 5)]\n",
      "\n",
      " ----- test Dataset -----\n",
      "FreqDist of 111 tokens.\n",
      "Top 10 common tokens: \n",
      "[('covid', 6), ('virus', 4), ('pandemic', 3), ('people', 3), ('make', 3), ('arrangement', 2), ('checking', 2), ('place', 2), ('screening', 2), ('infection', 2)]\n"
     ]
    },
    {
     "data": {
      "image/png": "[encoded data removed]",
      "text/plain": [
       "<Figure size 800x480 with 1 Axes>"
      ]
     },
     "metadata": {},
     "output_type": "display_data"
    }
   ],
   "source": [
    "## Compare freq of top n words; default n = 15\n",
    "most_wordz = getFreqDist( [dset, db_train, db_test] )"
   ]
  },
  {
   "cell_type": "markdown",
   "metadata": {},
   "source": [
    "## 3.4 Save for modelling"
   ]
  },
  {
   "cell_type": "code",
   "execution_count": 16,
   "metadata": {},
   "outputs": [
    {
     "name": "stderr",
     "output_type": "stream",
     "text": [
      "INFOR   : 2020-04-07 01:14:11.421248 [\u001b[34mdataSource.writeTo\u001b[0m] dpath = cleaned_phrases.xftz\n",
      "INFOR   : 2020-04-07 01:14:11.422274 [\u001b[34mdataSource.writeTo\u001b[0m] dpath = cleaned_phrases.xidx\n",
      "INFOR   : 2020-04-07 01:14:11.424270 [\u001b[34mdataSource.writeTo\u001b[0m] dpath = cleaned_phrases.ylbz\n",
      "INFOR   : 2020-04-07 01:14:11.424270 [\u001b[34mdataSource.writeTo\u001b[0m] dpath = cleaned_phrases.argz\n",
      "INFOR   : 2020-04-07 01:14:11.425237 [\u001b[34mdataSource.writeTo\u001b[0m] dpath = cleaned_phrases.stpz\n",
      "INFOR   : 2020-04-07 01:14:11.426237 [\u001b[34mdataSource.writeTo\u001b[0m] dpath = cleaned_phrases.faqdb\n",
      "INFOR   : 2020-04-07 01:14:11.428230 [\u001b[34mdataSource.writeTo\u001b[0m] dpath = cleaned_phrases.phrdb\n"
     ]
    }
   ],
   "source": [
    "dset.dumpSave('cleaned_phrases', zdata_source.zSERIALIZED)\n"
   ]
  },
  {
   "cell_type": "code",
   "execution_count": 17,
   "metadata": {},
   "outputs": [
    {
     "name": "stdout",
     "output_type": "stream",
     "text": [
      "Example Featurez: ['pandemic' 'cause pandemic' 'mean declared pandemic']\n",
      "Example Label: ['pandemic_define' 'pandemic_causes' 'pandemic_WHO']\n",
      "Example Featurez: ['make cat dog pet sick']\n",
      "Example Label: ['pets_infection_cdc']\n"
     ]
    }
   ],
   "source": [
    "print(\"Example Featurez: {}\".format( dset.clean_data[:3] ) )\n",
    "print(\"Example Label: {}\".format( dset.y_labelz[:3] ) )\n",
    "\n",
    "print(\"Example Featurez: {}\".format( dset.clean_data[-1:] ) )\n",
    "print(\"Example Label: {}\".format( dset.y_labelz[-1:] ) )"
   ]
  },
  {
   "cell_type": "code",
   "execution_count": 18,
   "metadata": {},
   "outputs": [],
   "source": [
    "# TODO: \n",
    "## Don't know why the stop words are failing and yet the last stop has the correct list :( \n",
    "## set a seed at shuffle dataset for train ,test split "
   ]
  },
  {
   "cell_type": "code",
   "execution_count": null,
   "metadata": {},
   "outputs": [],
   "source": []
  }
 ],
 "metadata": {
  "kernelspec": {
   "display_name": "Python 3",
   "language": "python",
   "name": "python3"
  },
  "language_info": {
   "codemirror_mode": {
    "name": "ipython",
    "version": 3
   },
   "file_extension": ".py",
   "mimetype": "text/x-python",
   "name": "python",
   "nbconvert_exporter": "python",
   "pygments_lexer": "ipython3",
   "version": "3.7.4"
  }
 },
 "nbformat": 4,
 "nbformat_minor": 2
}
