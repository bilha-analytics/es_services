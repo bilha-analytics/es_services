{
 "cells": [
  {
   "cell_type": "code",
   "execution_count": null,
   "metadata": {},
   "outputs": [],
   "source": [
    "import pandas as pd\n",
    "import numpy as np\n",
    "import matplotlib.pyplot as plt\n",
    "import seaborn as sns\n",
    "%matplotlib inline\n",
    "from statsmodels.graphics.mosaicplot import mosaic"
   ]
  },
  {
   "cell_type": "markdown",
   "metadata": {},
   "source": [
    "# Measures taken"
   ]
  },
  {
   "cell_type": "code",
   "execution_count": null,
   "metadata": {},
   "outputs": [],
   "source": [
    "# govt measures - 2020 03 17\n",
    "xlfile  = pd.ExcelFile(\"https://data.humdata.org/dataset/e1a91ae0-292d-4434-bc75-bf863d4608ba/resource/8a98c9cd-2c49-41fb-9a8e-6c76821c4d72/download/20200317-acaps-covid-19_goverment-measures-dataset.xlsx\")\n",
    "dfs = { sht : xlfile.parse(sht) for sht in xlfile.sheet_names}\n",
    "#dfs"
   ]
  },
  {
   "cell_type": "code",
   "execution_count": null,
   "metadata": {
    "scrolled": true
   },
   "outputs": [],
   "source": [
    "df = dfs[\"Database\"]\n",
    "print( df.shape ) \n",
    "df.head(2)"
   ]
  },
  {
   "cell_type": "code",
   "execution_count": null,
   "metadata": {},
   "outputs": [],
   "source": [
    "def setClassType( mstr):\n",
    "    mstr = mstr.lower() \n",
    "    if \"border\" in mstr  or \"checkpoints\"  in mstr or \"arrival\" in mstr or \"travel\" in mstr or \"flights\" in mstr or \"visa\" in mstr:\n",
    "        return \"Border Movements Action\"\n",
    "    elif \"econom\" in mstr or \"imports\" in mstr:\n",
    "        return \"Economic Action\"\n",
    "    elif \"citizen\" in mstr  or \"surveilance\" in mstr  or \"lockdown\" in mstr  or \"state of emergency\" in mstr or \"awareness\" in mstr or \"psychological\" in mstr:\n",
    "        return \"Internal Movement & Individual Support\"\n",
    "#         return \"Restrict Internal Movement\"\n",
    "#     elif  \"awareness\" in mstr or \"psychological\" in mstr:\n",
    "#         return \"Empower Individual Responsibility\"\n",
    "    elif \"policies\" in mstr or \"structures\" in mstr  or \"system\"  in mstr: \n",
    "        return \"Setup Policies & Structures\"       \n",
    "    elif \"closure\" in mstr or \"gatherings\" in mstr :\n",
    "        return \"Service Closure\" #\"Systems Setup & Service Closure\"\n",
    "    else:\n",
    "        return \"Other\"\n",
    "    \n",
    "df[ 'MEASURE_TYPES'] = df.apply( lambda x: setClassType(x['MEASURE']), axis=1)"
   ]
  },
  {
   "cell_type": "code",
   "execution_count": null,
   "metadata": {},
   "outputs": [],
   "source": [
    "params = {\n",
    "          'font.size' : 10.0,\n",
    "          'figure.figsize': (12.0, 7.0),\n",
    "}\n",
    "plt.rcParams.update(params)\n",
    "plt.style.use('fivethirtyeight') #tableau-colorblind10 ggplot"
   ]
  },
  {
   "cell_type": "code",
   "execution_count": null,
   "metadata": {
    "scrolled": false
   },
   "outputs": [],
   "source": [
    "#df.DATE_IMPLEMENTED.value_counts().plot(kind='line')\n",
    "#df.groupby( ['ID','REGION', 'DATE_IMPLEMENTED']).size().unstack(fill_value=0)\n",
    "dtmp = df.groupby( ['REGION', 'DATE_IMPLEMENTED']).size().reset_index()\n",
    "# dtmp\n",
    "dtmp = dtmp.pivot(columns='REGION', index='DATE_IMPLEMENTED', values=0)\n",
    "dtmp.plot(kind='line')\n",
    "plt.title( \"Timeline - When countries took action\")"
   ]
  },
  {
   "cell_type": "code",
   "execution_count": null,
   "metadata": {},
   "outputs": [],
   "source": [
    "dtmp = df.groupby( ['MEASURE_TYPES', 'DATE_IMPLEMENTED']).size().reset_index()\n",
    "\n",
    "dtmp = dtmp.pivot(columns='MEASURE_TYPES', index='DATE_IMPLEMENTED', values=0)\n",
    "dtmp.plot(kind='line')\n",
    "plt.title( \"Timeline - When Different Actions Were Initiated\")\n",
    "\n",
    "# df.MEASURE.value_counts()"
   ]
  },
  {
   "cell_type": "code",
   "execution_count": null,
   "metadata": {},
   "outputs": [],
   "source": [
    "# dtmp = df.groupby( ['REGION', 'DATE_IMPLEMENTED', 'MEASURE_TYPES']).size().reset_index()\n",
    "# dtmp\n",
    "\n",
    "# g = sns.FacetGrid( col=\"REGION\", data=dtmp, col_wrap=2, size=8, aspect=1.25)\n",
    "# g.fig.suptitle('Timeline - When Different Action Types were Taken')\n",
    "# fg = g.map(sns.lineplot, x='DATE_IMPLEMENTED', y=0, hue='REGION', data=dtmp)\n",
    "# fg.add_legend()\n",
    "# dtmp"
   ]
  },
  {
   "cell_type": "code",
   "execution_count": null,
   "metadata": {},
   "outputs": [],
   "source": [
    "#df.MEASURE.value_counts().plot(kind='bar')\n",
    "#df.groupby('REGION').size().plot(kind='bar')\n",
    "\n",
    "sns.countplot( y=\"MEASURE\", hue=\"TARGETED_POP_GROUP\", data=df, order = df.MEASURE.value_counts().index ) #hue='REGION', \n",
    "plt.title( \"Detailed Type of Action Taken by Target Population\")"
   ]
  },
  {
   "cell_type": "code",
   "execution_count": null,
   "metadata": {},
   "outputs": [],
   "source": [
    "\n",
    "sns.countplot( y=\"MEASURE_TYPES\", hue=\"TARGETED_POP_GROUP\", data=df, order = df.MEASURE_TYPES.value_counts().index ) #hue='REGION', \n",
    "plt.title( \"Type of Action Taken by Targeted Population\")"
   ]
  },
  {
   "cell_type": "code",
   "execution_count": null,
   "metadata": {},
   "outputs": [],
   "source": [
    "plt.rcParams['font.size'] = 10.0\n",
    "def cplot(x, **kwargs):\n",
    "    sns.countplot(y=x,  **kwargs, palette= sns.husl_palette(9, s=0.7 )) #'TARGETED_POP_GROUP',\n",
    "    \n",
    "g = sns.FacetGrid( col=\"REGION\", data=df, col_wrap=3, size=4, aspect=1.25)\n",
    "fg = g.map(cplot, \"MEASURE_TYPES\",  order = df.MEASURE_TYPES.value_counts().index )\n",
    "# g.fig.suptitle( 'Type of Action Taken by Region')\n",
    "\n",
    "# fg.add_legend() "
   ]
  },
  {
   "cell_type": "code",
   "execution_count": null,
   "metadata": {},
   "outputs": [],
   "source": []
  }
 ],
 "metadata": {
  "kernelspec": {
   "display_name": "Python 3",
   "language": "python",
   "name": "python3"
  },
  "language_info": {
   "codemirror_mode": {
    "name": "ipython",
    "version": 3
   },
   "file_extension": ".py",
   "mimetype": "text/x-python",
   "name": "python",
   "nbconvert_exporter": "python",
   "pygments_lexer": "ipython3",
   "version": "3.7.4"
  }
 },
 "nbformat": 4,
 "nbformat_minor": 2
}
