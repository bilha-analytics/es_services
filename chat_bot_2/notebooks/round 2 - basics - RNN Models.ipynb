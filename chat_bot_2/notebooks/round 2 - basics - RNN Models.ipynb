{
 "cells": [
  {
   "cell_type": "markdown",
   "metadata": {},
   "source": [
    "# Introduction\n",
    "- Text classification and generation using RNNs\n",
    "- Types/modes of RNNs\n",
    "- Using IMDB reviews dataset \n",
    "- [Ref: Tensor Guide](https://www.tensorflow.org/tutorials/text/text_classification_rnn)"
   ]
  },
  {
   "cell_type": "raw",
   "metadata": {},
   "source": [
    "<script>\n",
    "code_show=true; \n",
    "function code_toggle() {\n",
    " if (code_show){\n",
    " $('div.input').hide();\n",
    " } else {\n",
    " $('div.input').show();\n",
    " }\n",
    " code_show = !code_show\n",
    "} \n",
    "$( document ).ready(code_toggle);\n",
    "</script>\n",
    "<a href=\"javascript:code_toggle()\">Show/Hide Code</a>."
   ]
  },
  {
   "cell_type": "code",
   "execution_count": 8,
   "metadata": {},
   "outputs": [],
   "source": [
    "import pandas as pd\n",
    "import numpy as np\n",
    "import matplotlib.pyplot as plt\n",
    "import nltk\n",
    "\n",
    "import os, random, pickle \n",
    "\n",
    "from termcolor import colored\n",
    "\n",
    "%matplotlib inline\n",
    "\n",
    "import warnings\n",
    "warnings.filterwarnings('ignore')"
   ]
  },
  {
   "cell_type": "markdown",
   "metadata": {},
   "source": [
    "# 1. Load Data - TFDS \n",
    "TFDS = Public datasets in an easy to use format"
   ]
  },
  {
   "cell_type": "code",
   "execution_count": 9,
   "metadata": {},
   "outputs": [],
   "source": [
    "import tensorflow as tf\n",
    "# a collection of ready to use datasets of type tf.data.Datasets\n",
    "import tensorflow_datasets as tfds "
   ]
  },
  {
   "cell_type": "code",
   "execution_count": 10,
   "metadata": {},
   "outputs": [],
   "source": [
    "##### Helper functions\n",
    "## Plot graphs \n",
    "def plot_graphs(fhist, metric): \n",
    "    plt.plot(fhist[ metric ] )\n",
    "    plt.plot( fhist['val_'+metric ] , '')\n",
    "    plt.xlabel('Epochs')\n",
    "    plt.ylabel( metric )\n",
    "    plt.legend( [ metric, 'val_'+metric ] )\n",
    "    plt.show()\n",
    "    "
   ]
  },
  {
   "cell_type": "code",
   "execution_count": 11,
   "metadata": {},
   "outputs": [],
   "source": [
    "###### Download IMDB dataset using TFDS\n",
    "dataset, infor = tfds.load(\"imdb_reviews/subwords8k\", with_info=True, as_supervised=True)\n",
    "\n",
    "train_x, test_x = dataset['train'], dataset['test']\n",
    "\n",
    "# info has the text encoder, in this case tfds.features.text.SubwordTextEncoder \n",
    "encoder = infor.features['text'].encoder"
   ]
  },
  {
   "cell_type": "code",
   "execution_count": 12,
   "metadata": {},
   "outputs": [
    {
     "name": "stdout",
     "output_type": "stream",
     "text": [
      "Dataset Infor: tfds.core.DatasetInfo(\n",
      "    name='imdb_reviews',\n",
      "    version=1.0.0,\n",
      "    description='Large Movie Review Dataset.\n",
      "This is a dataset for binary sentiment classification containing substantially more data than previous benchmark datasets. We provide a set of 25,000 highly polar movie reviews for training, and 25,000 for testing. There is additional unlabeled data for use as well.',\n",
      "    homepage='http://ai.stanford.edu/~amaas/data/sentiment/',\n",
      "    features=FeaturesDict({\n",
      "        'label': ClassLabel(shape=(), dtype=tf.int64, num_classes=2),\n",
      "        'text': Text(shape=(None,), dtype=tf.int64, encoder=<SubwordTextEncoder vocab_size=8185>),\n",
      "    }),\n",
      "    total_num_examples=100000,\n",
      "    splits={\n",
      "        'test': 25000,\n",
      "        'train': 25000,\n",
      "        'unsupervised': 50000,\n",
      "    },\n",
      "    supervised_keys=('text', 'label'),\n",
      "    citation=\"\"\"@InProceedings{maas-EtAl:2011:ACL-HLT2011,\n",
      "      author    = {Maas, Andrew L.  and  Daly, Raymond E.  and  Pham, Peter T.  and  Huang, Dan  and  Ng, Andrew Y.  and  Potts, Christopher},\n",
      "      title     = {Learning Word Vectors for Sentiment Analysis},\n",
      "      booktitle = {Proceedings of the 49th Annual Meeting of the Association for Computational Linguistics: Human Language Technologies},\n",
      "      month     = {June},\n",
      "      year      = {2011},\n",
      "      address   = {Portland, Oregon, USA},\n",
      "      publisher = {Association for Computational Linguistics},\n",
      "      pages     = {142--150},\n",
      "      url       = {http://www.aclweb.org/anthology/P11-1015}\n",
      "    }\"\"\",\n",
      "    redistribution_info=,\n",
      ")\n",
      "\n",
      "Number of training observations: 25000\n",
      "Number of testing observations: 25000\n",
      "Number of unique labels/classes: 2\n",
      "\tClass Labels: ['neg', 'pos']\n",
      "\n",
      "Encoder: <SubwordTextEncoder vocab_size=8185>\n",
      "Encoder.Vocab_size: 8185\n",
      "Encoder.example: The quick brown fox ==> [19, 5161, 5798, 102, 1169, 8049]\n",
      "\t19 -->The \t5161 -->quick \t5798 -->brow\t102 -->n \t1169 -->fo\t8049 -->x\n",
      "Sample text: <generator object _eager_dataset_iterator at 0x000001D595B06F48>\n"
     ]
    }
   ],
   "source": [
    "print(\"{} {}\".format( colored(\"Dataset Infor:\", \"blue\"), infor) ) \n",
    "      \n",
    "      \n",
    "print(\"Number of training observations: {}\".format( infor.splits['train'].num_examples  ) )\n",
    "print(\"Number of testing observations: {}\".format( infor.splits['test'].num_examples ) )\n",
    "\n",
    "print(\"Number of unique labels/classes: {}\\n\\tClass Labels: {}\".format( \n",
    "    infor.features['label'].num_classes, infor.features['label'].names ) )\n",
    "\n",
    "print(\"\\nEncoder: {}\".format(encoder) ) \n",
    "print(\"Encoder.Vocab_size: {}\".format(encoder.vocab_size ) ) \n",
    "s = \"The quick brown fox\" \n",
    "es = encoder.encode(s)\n",
    "print(\"Encoder.example: {} ==> {}\".format(s, es ) ) \n",
    "for i in es:\n",
    "    e = encoder.decode([i])\n",
    "    print(\"\\t{} -->{}\".format(i, e ), end=\"\" ) \n",
    "\n",
    "print(\"\\nSample text: {}\".format( tfds.as_numpy(train_x) ) )"
   ]
  },
  {
   "cell_type": "markdown",
   "metadata": {},
   "source": [
    "# 2. Prepare Data"
   ]
  },
  {
   "cell_type": "code",
   "execution_count": 13,
   "metadata": {},
   "outputs": [],
   "source": [
    "##### \n",
    "# 1. Batch datasets and zero pad sequence lengths to longest len or max size \n",
    "\n",
    "BUFFER_SIZE = 10000\n",
    "BATCH_SIZE = 64\n",
    "\n",
    "train_x = (train_x.shuffle(BUFFER_SIZE).padded_batch(BATCH_SIZE, padded_shapes=([None], [])))\n",
    "test_x = (test_x.padded_batch(BATCH_SIZE, padded_shapes=([None], [])))\n"
   ]
  },
  {
   "cell_type": "markdown",
   "metadata": {},
   "source": [
    "# 3. Build Model\n",
    "LSTM RNN\n",
    "- Model Arch = \\[ embed, LSTM RNN, Dense, Output(1, p(x)) \\]\n",
    "- Wrap the LSTM with Bidirectional layer so as to learn long range dependencies "
   ]
  },
  {
   "cell_type": "code",
   "execution_count": 14,
   "metadata": {},
   "outputs": [],
   "source": [
    "#### Model Arch = [ embed, LSTM RNN, Dense, Output(1, p(x)) ]\n",
    "# Wrap the LSTM with Bidirectional layer so as to learn long range dependencies \n",
    "\n",
    "def get_lstm_model(emb_vocab_size, unitz=64, wrap_bidirection=True, n_lstmz=1):\n",
    "        \n",
    "    md = tf.keras.Sequential()\n",
    "    # embedding \n",
    "    md.add( tf.keras.layers.Embedding( emb_vocab_size, unitz) )\n",
    "    # n lstm layers \n",
    "    if n_lstmz == 1:\n",
    "        lstm = tf.keras.layers.LSTM(unitz)\n",
    "        md.add( tf.keras.layers.Bidirectional(lstm) if wrap_bidirection else lstm )\n",
    "    else:\n",
    "        f_l = 1\n",
    "        # full unitz on first n-1 and return sequence << TODO: the matrix dimensions math and see how to change unitz\n",
    "        lstm = tf.keras.layers.LSTM(unitz, return_sequences=True)\n",
    "        for _ in range(n_lstmz-f_l):  ## less first and last layers\n",
    "            md.add( tf.keras.layers.Bidirectional(lstm) if wrap_bidirection else lstm )\n",
    "        \n",
    "        # half unitz on last \n",
    "        md.add( tf.keras.layers.Bidirectional(lstm) if wrap_bidirection else lstm )\n",
    "        \n",
    "    # outputs @ relu, dropout=0.5 and p(x)\n",
    "    md.add(tf.keras.layers.Dense(unitz, activation='relu') )\n",
    "    if n_lstmz > 1:\n",
    "        md.add( tf.keras.layers.Dropout(rate=0.5) ) #TODO: move out \n",
    "    md.add( tf.keras.layers.Dense( 1 ) )\n",
    "\n",
    "    return md\n",
    "\n",
    "def compile_2class_lstm_model(emb_vocab_size, unitz=64, wrap_bidirection=True, n_lstmz=1):\n",
    "    md = get_lstm_model(emb_vocab_size, unitz, wrap_bidirection, n_lstmz)\n",
    "    \n",
    "    loss = tf.keras.losses.BinaryCrossentropy(from_logits=True)\n",
    "    optimizer = tf.keras.optimizers.Adam(1e-4)\n",
    "    metrics = ['accuracy']\n",
    "    md.compile(loss=loss, optimizer=optimizer, metrics=metrics)\n",
    "\n",
    "    return md"
   ]
  },
  {
   "cell_type": "code",
   "execution_count": 8,
   "metadata": {},
   "outputs": [
    {
     "name": "stdout",
     "output_type": "stream",
     "text": [
      "Model: \"sequential\"\n",
      "_________________________________________________________________\n",
      "Layer (type)                 Output Shape              Param #   \n",
      "=================================================================\n",
      "embedding (Embedding)        (None, None, 64)          523840    \n",
      "_________________________________________________________________\n",
      "bidirectional (Bidirectional (None, 128)               66048     \n",
      "_________________________________________________________________\n",
      "dense (Dense)                (None, 64)                8256      \n",
      "_________________________________________________________________\n",
      "dense_1 (Dense)              (None, 1)                 65        \n",
      "=================================================================\n",
      "Total params: 598,209\n",
      "Trainable params: 598,209\n",
      "Non-trainable params: 0\n",
      "_________________________________________________________________\n"
     ]
    }
   ],
   "source": [
    "model = compile_2class_lstm_model( encoder.vocab_size)\n",
    "model.summary()"
   ]
  },
  {
   "cell_type": "markdown",
   "metadata": {},
   "source": [
    "# 4. Train Model"
   ]
  },
  {
   "cell_type": "code",
   "execution_count": 15,
   "metadata": {},
   "outputs": [],
   "source": [
    "##### A. Train \n",
    "def train_model( model, train_x, epochs=10, test_epochs=3, batch_size=64 ):\n",
    "    # 1. create callback for early stopping on validation loss if not loss decrease in two consecutive tries\n",
    "    callbacks = [\n",
    "        tf.keras.callbacks.EarlyStopping(monitor='val_loss', patience=2)\n",
    "    ]\n",
    "    \n",
    "    # 2. train unsupervised?? \n",
    "    train_history = model.fit(\n",
    "        train_x, \n",
    "        epochs = epochs,\n",
    "        callbacks=callbacks,\n",
    "        validation_data=test_x, \n",
    "        verbose=2, # log once per epoch = 2       \n",
    "#         batch_size=batch_size\n",
    "    )\n",
    "\n",
    "    # 3. save model\n",
    "    model.save( 'IMDB_ltsm_model.rnn') \n",
    "    \n",
    "    return train_history.history\n"
   ]
  },
  {
   "cell_type": "code",
   "execution_count": 9,
   "metadata": {},
   "outputs": [
    {
     "name": "stdout",
     "output_type": "stream",
     "text": [
      "Epoch 1/10\n",
      "391/391 - 2491s - loss: 0.6332 - accuracy: 0.5751 - val_loss: 0.5095 - val_accuracy: 0.7885\n",
      "Epoch 2/10\n",
      "391/391 - 2661s - loss: 0.3552 - accuracy: 0.8546 - val_loss: 0.3397 - val_accuracy: 0.8434\n",
      "Epoch 3/10\n",
      "391/391 - 2656s - loss: 0.2642 - accuracy: 0.8955 - val_loss: 0.3411 - val_accuracy: 0.8692\n",
      "Epoch 4/10\n",
      "391/391 - 2750s - loss: 0.2174 - accuracy: 0.9184 - val_loss: 0.3383 - val_accuracy: 0.8637\n",
      "Epoch 5/10\n",
      "391/391 - 2681s - loss: 0.1899 - accuracy: 0.9326 - val_loss: 0.3649 - val_accuracy: 0.8672\n",
      "Epoch 6/10\n",
      "391/391 - 2677s - loss: 0.1669 - accuracy: 0.9417 - val_loss: 0.3514 - val_accuracy: 0.8522\n",
      "WARNING:tensorflow:From C:\\Users\\bilha\\Anaconda3\\lib\\site-packages\\tensorflow_core\\python\\ops\\resource_variable_ops.py:1786: calling BaseResourceVariable.__init__ (from tensorflow.python.ops.resource_variable_ops) with constraint is deprecated and will be removed in a future version.\n",
      "Instructions for updating:\n",
      "If using Keras pass *_constraint arguments to layers.\n"
     ]
    },
    {
     "name": "stderr",
     "output_type": "stream",
     "text": [
      "WARNING:tensorflow:From C:\\Users\\bilha\\Anaconda3\\lib\\site-packages\\tensorflow_core\\python\\ops\\resource_variable_ops.py:1786: calling BaseResourceVariable.__init__ (from tensorflow.python.ops.resource_variable_ops) with constraint is deprecated and will be removed in a future version.\n",
      "Instructions for updating:\n",
      "If using Keras pass *_constraint arguments to layers.\n"
     ]
    },
    {
     "name": "stdout",
     "output_type": "stream",
     "text": [
      "INFO:tensorflow:Assets written to: IMDB_ltsm_model.rnn\\assets\n"
     ]
    },
    {
     "name": "stderr",
     "output_type": "stream",
     "text": [
      "INFO:tensorflow:Assets written to: IMDB_ltsm_model.rnn\\assets\n"
     ]
    },
    {
     "name": "stdout",
     "output_type": "stream",
     "text": [
      "\n",
      "{'loss': [0.6332095468330383, 0.355236678981781, 0.2641312261772156, 0.21746712403297425, 0.18987553018569947, 0.16681041774749755], 'accuracy': [0.57508, 0.85464, 0.89548, 0.91836, 0.93256, 0.94172], 'val_loss': [0.5095122615852015, 0.33966407366573353, 0.34110175145556554, 0.3382590269417409, 0.3648962079907012, 0.35136735389757034], 'val_accuracy': [0.78848, 0.8434, 0.86916, 0.86368, 0.86724, 0.85216]}\n",
      "\n"
     ]
    }
   ],
   "source": [
    "fhist = train_model(model, train_x)\n",
    "\n",
    "print(\"\\n{}\\n\".format( fhist ) )"
   ]
  },
  {
   "cell_type": "code",
   "execution_count": 10,
   "metadata": {},
   "outputs": [
    {
     "name": "stdout",
     "output_type": "stream",
     "text": [
      "    167/Unknown - 0s 241ms/step - loss: 0.2250 - accuracy: 0.906 - 1s 256ms/step - loss: 0.2982 - accuracy: 0.875 - 1s 262ms/step - loss: 0.3736 - accuracy: 0.854 - 1s 264ms/step - loss: 0.4011 - accuracy: 0.839 - 1s 272ms/step - loss: 0.4013 - accuracy: 0.843 - 2s 274ms/step - loss: 0.3844 - accuracy: 0.841 - 2s 279ms/step - loss: 0.3947 - accuracy: 0.834 - 2s 288ms/step - loss: 0.3899 - accuracy: 0.834 - 3s 286ms/step - loss: 0.3929 - accuracy: 0.833 - 3s 285ms/step - loss: 0.3951 - accuracy: 0.829 - 3s 291ms/step - loss: 0.4030 - accuracy: 0.828 - 3s 284ms/step - loss: 0.4026 - accuracy: 0.830 - 4s 288ms/step - loss: 0.4000 - accuracy: 0.830 - 4s 291ms/step - loss: 0.3915 - accuracy: 0.833 - 4s 284ms/step - loss: 0.4017 - accuracy: 0.829 - 5s 282ms/step - loss: 0.3985 - accuracy: 0.830 - 5s 283ms/step - loss: 0.3889 - accuracy: 0.831 - 5s 286ms/step - loss: 0.3869 - accuracy: 0.834 - 5s 284ms/step - loss: 0.3771 - accuracy: 0.839 - 6s 286ms/step - loss: 0.3783 - accuracy: 0.837 - 6s 291ms/step - loss: 0.3747 - accuracy: 0.840 - 6s 291ms/step - loss: 0.3807 - accuracy: 0.838 - 7s 289ms/step - loss: 0.3834 - accuracy: 0.837 - 7s 286ms/step - loss: 0.3807 - accuracy: 0.839 - 7s 280ms/step - loss: 0.3845 - accuracy: 0.838 - 7s 275ms/step - loss: 0.3789 - accuracy: 0.840 - 7s 274ms/step - loss: 0.3815 - accuracy: 0.839 - 8s 275ms/step - loss: 0.3804 - accuracy: 0.839 - 8s 273ms/step - loss: 0.3832 - accuracy: 0.838 - 8s 269ms/step - loss: 0.3781 - accuracy: 0.839 - 8s 267ms/step - loss: 0.3761 - accuracy: 0.838 - 8s 265ms/step - loss: 0.3768 - accuracy: 0.838 - 9s 265ms/step - loss: 0.3772 - accuracy: 0.837 - 9s 262ms/step - loss: 0.3782 - accuracy: 0.837 - 9s 259ms/step - loss: 0.3724 - accuracy: 0.840 - 9s 260ms/step - loss: 0.3680 - accuracy: 0.841 - 10s 258ms/step - loss: 0.3672 - accuracy: 0.84 - 10s 260ms/step - loss: 0.3659 - accuracy: 0.84 - 10s 260ms/step - loss: 0.3658 - accuracy: 0.84 - 10s 260ms/step - loss: 0.3636 - accuracy: 0.84 - 11s 260ms/step - loss: 0.3647 - accuracy: 0.84 - 11s 260ms/step - loss: 0.3642 - accuracy: 0.84 - 11s 260ms/step - loss: 0.3688 - accuracy: 0.84 - 12s 261ms/step - loss: 0.3693 - accuracy: 0.84 - 12s 261ms/step - loss: 0.3709 - accuracy: 0.83 - 12s 260ms/step - loss: 0.3708 - accuracy: 0.83 - 12s 260ms/step - loss: 0.3702 - accuracy: 0.84 - 12s 260ms/step - loss: 0.3697 - accuracy: 0.83 - 13s 258ms/step - loss: 0.3680 - accuracy: 0.84 - 13s 259ms/step - loss: 0.3681 - accuracy: 0.83 - 13s 258ms/step - loss: 0.3664 - accuracy: 0.84 - 13s 257ms/step - loss: 0.3694 - accuracy: 0.83 - 14s 258ms/step - loss: 0.3688 - accuracy: 0.83 - 14s 259ms/step - loss: 0.3705 - accuracy: 0.83 - 14s 259ms/step - loss: 0.3702 - accuracy: 0.84 - 14s 258ms/step - loss: 0.3763 - accuracy: 0.83 - 15s 259ms/step - loss: 0.3734 - accuracy: 0.83 - 15s 258ms/step - loss: 0.3723 - accuracy: 0.83 - 15s 258ms/step - loss: 0.3739 - accuracy: 0.83 - 15s 258ms/step - loss: 0.3737 - accuracy: 0.83 - 16s 258ms/step - loss: 0.3735 - accuracy: 0.83 - 16s 257ms/step - loss: 0.3725 - accuracy: 0.83 - 16s 256ms/step - loss: 0.3729 - accuracy: 0.83 - 16s 256ms/step - loss: 0.3722 - accuracy: 0.83 - 17s 256ms/step - loss: 0.3712 - accuracy: 0.83 - 17s 257ms/step - loss: 0.3698 - accuracy: 0.83 - 17s 257ms/step - loss: 0.3675 - accuracy: 0.84 - 17s 257ms/step - loss: 0.3674 - accuracy: 0.84 - 18s 258ms/step - loss: 0.3672 - accuracy: 0.84 - 18s 257ms/step - loss: 0.3699 - accuracy: 0.83 - 18s 256ms/step - loss: 0.3687 - accuracy: 0.84 - 18s 255ms/step - loss: 0.3688 - accuracy: 0.84 - 19s 255ms/step - loss: 0.3674 - accuracy: 0.84 - 19s 255ms/step - loss: 0.3686 - accuracy: 0.84 - 19s 256ms/step - loss: 0.3687 - accuracy: 0.84 - 20s 257ms/step - loss: 0.3695 - accuracy: 0.84 - 20s 256ms/step - loss: 0.3687 - accuracy: 0.84 - 20s 255ms/step - loss: 0.3691 - accuracy: 0.84 - 20s 255ms/step - loss: 0.3691 - accuracy: 0.84 - 20s 254ms/step - loss: 0.3695 - accuracy: 0.84 - 21s 254ms/step - loss: 0.3708 - accuracy: 0.84 - 21s 254ms/step - loss: 0.3694 - accuracy: 0.84 - 21s 254ms/step - loss: 0.3686 - accuracy: 0.84 - 21s 255ms/step - loss: 0.3686 - accuracy: 0.84 - 22s 255ms/step - loss: 0.3689 - accuracy: 0.84 - 22s 256ms/step - loss: 0.3674 - accuracy: 0.84 - 22s 257ms/step - loss: 0.3673 - accuracy: 0.84 - 23s 257ms/step - loss: 0.3647 - accuracy: 0.84 - 23s 256ms/step - loss: 0.3644 - accuracy: 0.84 - 23s 257ms/step - loss: 0.3648 - accuracy: 0.84 - 23s 257ms/step - loss: 0.3630 - accuracy: 0.84 - 24s 257ms/step - loss: 0.3642 - accuracy: 0.84 - 24s 257ms/step - loss: 0.3636 - accuracy: 0.84 - 24s 258ms/step - loss: 0.3645 - accuracy: 0.84 - 25s 258ms/step - loss: 0.3652 - accuracy: 0.84 - 25s 257ms/step - loss: 0.3649 - accuracy: 0.84 - 25s 257ms/step - loss: 0.3645 - accuracy: 0.84 - 25s 256ms/step - loss: 0.3633 - accuracy: 0.84 - 25s 256ms/step - loss: 0.3640 - accuracy: 0.84 - 26s 256ms/step - loss: 0.3644 - accuracy: 0.84 - 26s 257ms/step - loss: 0.3630 - accuracy: 0.84 - 26s 258ms/step - loss: 0.3622 - accuracy: 0.84 - 27s 258ms/step - loss: 0.3630 - accuracy: 0.84 - 27s 258ms/step - loss: 0.3637 - accuracy: 0.84 - 27s 258ms/step - loss: 0.3621 - accuracy: 0.84 - 27s 258ms/step - loss: 0.3626 - accuracy: 0.84 - 28s 258ms/step - loss: 0.3623 - accuracy: 0.84 - 28s 257ms/step - loss: 0.3615 - accuracy: 0.84 - 28s 257ms/step - loss: 0.3619 - accuracy: 0.84 - 28s 258ms/step - loss: 0.3610 - accuracy: 0.84 - 29s 258ms/step - loss: 0.3626 - accuracy: 0.84 - 29s 259ms/step - loss: 0.3616 - accuracy: 0.84 - 29s 260ms/step - loss: 0.3605 - accuracy: 0.84 - 30s 259ms/step - loss: 0.3604 - accuracy: 0.84 - 31s 267ms/step - loss: 0.3620 - accuracy: 0.84 - 31s 267ms/step - loss: 0.3637 - accuracy: 0.84 - 31s 267ms/step - loss: 0.3635 - accuracy: 0.84 - 31s 266ms/step - loss: 0.3625 - accuracy: 0.84 - 32s 266ms/step - loss: 0.3618 - accuracy: 0.84 - 32s 266ms/step - loss: 0.3610 - accuracy: 0.84 - 32s 265ms/step - loss: 0.3623 - accuracy: 0.84 - 32s 265ms/step - loss: 0.3608 - accuracy: 0.84 - 33s 264ms/step - loss: 0.3608 - accuracy: 0.84 - 33s 265ms/step - loss: 0.3604 - accuracy: 0.84 - 33s 265ms/step - loss: 0.3597 - accuracy: 0.84 - 33s 265ms/step - loss: 0.3596 - accuracy: 0.84 - 34s 265ms/step - loss: 0.3599 - accuracy: 0.84 - 34s 265ms/step - loss: 0.3595 - accuracy: 0.84 - 34s 264ms/step - loss: 0.3593 - accuracy: 0.84 - 34s 265ms/step - loss: 0.3597 - accuracy: 0.84 - 35s 264ms/step - loss: 0.3606 - accuracy: 0.84 - 35s 264ms/step - loss: 0.3596 - accuracy: 0.84 - 35s 264ms/step - loss: 0.3583 - accuracy: 0.84 - 35s 263ms/step - loss: 0.3581 - accuracy: 0.84 - 35s 263ms/step - loss: 0.3579 - accuracy: 0.84 - 36s 263ms/step - loss: 0.3574 - accuracy: 0.84 - 36s 263ms/step - loss: 0.3557 - accuracy: 0.84 - 36s 263ms/step - loss: 0.3565 - accuracy: 0.84 - 36s 262ms/step - loss: 0.3567 - accuracy: 0.84 - 37s 262ms/step - loss: 0.3566 - accuracy: 0.84 - 37s 263ms/step - loss: 0.3573 - accuracy: 0.84 - 37s 263ms/step - loss: 0.3574 - accuracy: 0.84 - 38s 263ms/step - loss: 0.3573 - accuracy: 0.84 - 38s 262ms/step - loss: 0.3565 - accuracy: 0.84 - 38s 262ms/step - loss: 0.3563 - accuracy: 0.84 - 38s 263ms/step - loss: 0.3553 - accuracy: 0.84 - 39s 262ms/step - loss: 0.3556 - accuracy: 0.84 - 39s 262ms/step - loss: 0.3564 - accuracy: 0.84 - 39s 263ms/step - loss: 0.3564 - accuracy: 0.84 - 39s 262ms/step - loss: 0.3566 - accuracy: 0.84 - 40s 262ms/step - loss: 0.3575 - accuracy: 0.84 - 40s 262ms/step - loss: 0.3569 - accuracy: 0.84 - 40s 262ms/step - loss: 0.3561 - accuracy: 0.84 - 40s 261ms/step - loss: 0.3560 - accuracy: 0.84 - 41s 262ms/step - loss: 0.3558 - accuracy: 0.84 - 41s 261ms/step - loss: 0.3556 - accuracy: 0.84 - 41s 261ms/step - loss: 0.3555 - accuracy: 0.84 - 41s 261ms/step - loss: 0.3553 - accuracy: 0.84 - 41s 261ms/step - loss: 0.3555 - accuracy: 0.84 - 42s 260ms/step - loss: 0.3556 - accuracy: 0.84 - 42s 260ms/step - loss: 0.3548 - accuracy: 0.84 - 42s 260ms/step - loss: 0.3544 - accuracy: 0.84 - 42s 259ms/step - loss: 0.3547 - accuracy: 0.84 - 43s 260ms/step - loss: 0.3552 - accuracy: 0.84 - 43s 259ms/step - loss: 0.3558 - accuracy: 0.84 - 43s 259ms/step - loss: 0.3559 - accuracy: 0.84 - 43s 259ms/step - loss: 0.3558 - accuracy: 0.8491"
     ]
    },
    {
     "name": "stdout",
     "output_type": "stream",
     "text": [
      "    334/Unknown - 43s 259ms/step - loss: 0.3556 - accuracy: 0.84 - 44s 259ms/step - loss: 0.3559 - accuracy: 0.84 - 44s 259ms/step - loss: 0.3558 - accuracy: 0.84 - 44s 259ms/step - loss: 0.3555 - accuracy: 0.84 - 45s 259ms/step - loss: 0.3555 - accuracy: 0.84 - 45s 259ms/step - loss: 0.3556 - accuracy: 0.84 - 45s 259ms/step - loss: 0.3558 - accuracy: 0.84 - 46s 263ms/step - loss: 0.3558 - accuracy: 0.84 - 46s 263ms/step - loss: 0.3555 - accuracy: 0.84 - 46s 262ms/step - loss: 0.3552 - accuracy: 0.84 - 47s 262ms/step - loss: 0.3550 - accuracy: 0.84 - 47s 262ms/step - loss: 0.3546 - accuracy: 0.84 - 47s 262ms/step - loss: 0.3556 - accuracy: 0.84 - 48s 263ms/step - loss: 0.3555 - accuracy: 0.84 - 48s 262ms/step - loss: 0.3552 - accuracy: 0.84 - 48s 262ms/step - loss: 0.3545 - accuracy: 0.84 - 48s 262ms/step - loss: 0.3543 - accuracy: 0.84 - 48s 262ms/step - loss: 0.3544 - accuracy: 0.84 - 49s 261ms/step - loss: 0.3535 - accuracy: 0.84 - 49s 261ms/step - loss: 0.3542 - accuracy: 0.84 - 49s 261ms/step - loss: 0.3543 - accuracy: 0.84 - 49s 261ms/step - loss: 0.3545 - accuracy: 0.84 - 50s 261ms/step - loss: 0.3545 - accuracy: 0.84 - 50s 261ms/step - loss: 0.3542 - accuracy: 0.84 - 50s 261ms/step - loss: 0.3543 - accuracy: 0.84 - 50s 261ms/step - loss: 0.3555 - accuracy: 0.84 - 51s 261ms/step - loss: 0.3559 - accuracy: 0.84 - 51s 261ms/step - loss: 0.3566 - accuracy: 0.84 - 51s 260ms/step - loss: 0.3567 - accuracy: 0.84 - 51s 260ms/step - loss: 0.3565 - accuracy: 0.84 - 51s 260ms/step - loss: 0.3569 - accuracy: 0.84 - 52s 260ms/step - loss: 0.3569 - accuracy: 0.84 - 52s 260ms/step - loss: 0.3573 - accuracy: 0.84 - 52s 260ms/step - loss: 0.3574 - accuracy: 0.84 - 53s 260ms/step - loss: 0.3570 - accuracy: 0.84 - 53s 260ms/step - loss: 0.3567 - accuracy: 0.84 - 53s 260ms/step - loss: 0.3565 - accuracy: 0.84 - 53s 260ms/step - loss: 0.3563 - accuracy: 0.84 - 53s 259ms/step - loss: 0.3555 - accuracy: 0.84 - 54s 259ms/step - loss: 0.3550 - accuracy: 0.84 - 54s 259ms/step - loss: 0.3546 - accuracy: 0.84 - 54s 259ms/step - loss: 0.3552 - accuracy: 0.84 - 54s 259ms/step - loss: 0.3557 - accuracy: 0.84 - 55s 259ms/step - loss: 0.3555 - accuracy: 0.84 - 55s 259ms/step - loss: 0.3559 - accuracy: 0.84 - 55s 259ms/step - loss: 0.3557 - accuracy: 0.84 - 55s 259ms/step - loss: 0.3556 - accuracy: 0.84 - 56s 259ms/step - loss: 0.3561 - accuracy: 0.84 - 56s 259ms/step - loss: 0.3568 - accuracy: 0.84 - 56s 259ms/step - loss: 0.3566 - accuracy: 0.84 - 56s 259ms/step - loss: 0.3567 - accuracy: 0.84 - 57s 259ms/step - loss: 0.3575 - accuracy: 0.84 - 57s 259ms/step - loss: 0.3578 - accuracy: 0.84 - 57s 260ms/step - loss: 0.3577 - accuracy: 0.84 - 58s 259ms/step - loss: 0.3579 - accuracy: 0.84 - 58s 260ms/step - loss: 0.3572 - accuracy: 0.84 - 58s 260ms/step - loss: 0.3571 - accuracy: 0.84 - 58s 259ms/step - loss: 0.3567 - accuracy: 0.84 - 59s 260ms/step - loss: 0.3565 - accuracy: 0.84 - 59s 260ms/step - loss: 0.3567 - accuracy: 0.84 - 59s 260ms/step - loss: 0.3562 - accuracy: 0.84 - 60s 260ms/step - loss: 0.3563 - accuracy: 0.84 - 60s 261ms/step - loss: 0.3562 - accuracy: 0.84 - 60s 261ms/step - loss: 0.3558 - accuracy: 0.84 - 60s 261ms/step - loss: 0.3553 - accuracy: 0.84 - 61s 261ms/step - loss: 0.3549 - accuracy: 0.84 - 61s 261ms/step - loss: 0.3551 - accuracy: 0.84 - 61s 261ms/step - loss: 0.3547 - accuracy: 0.84 - 62s 261ms/step - loss: 0.3540 - accuracy: 0.84 - 62s 261ms/step - loss: 0.3540 - accuracy: 0.84 - 62s 261ms/step - loss: 0.3539 - accuracy: 0.84 - 62s 261ms/step - loss: 0.3539 - accuracy: 0.84 - 63s 261ms/step - loss: 0.3545 - accuracy: 0.84 - 63s 261ms/step - loss: 0.3542 - accuracy: 0.84 - 63s 261ms/step - loss: 0.3541 - accuracy: 0.84 - 63s 261ms/step - loss: 0.3537 - accuracy: 0.84 - 64s 260ms/step - loss: 0.3533 - accuracy: 0.84 - 64s 261ms/step - loss: 0.3531 - accuracy: 0.84 - 64s 260ms/step - loss: 0.3523 - accuracy: 0.84 - 64s 261ms/step - loss: 0.3515 - accuracy: 0.85 - 65s 260ms/step - loss: 0.3517 - accuracy: 0.85 - 65s 260ms/step - loss: 0.3511 - accuracy: 0.85 - 65s 260ms/step - loss: 0.3509 - accuracy: 0.85 - 65s 261ms/step - loss: 0.3500 - accuracy: 0.85 - 66s 261ms/step - loss: 0.3496 - accuracy: 0.85 - 66s 261ms/step - loss: 0.3491 - accuracy: 0.85 - 66s 261ms/step - loss: 0.3489 - accuracy: 0.85 - 66s 261ms/step - loss: 0.3493 - accuracy: 0.85 - 67s 261ms/step - loss: 0.3494 - accuracy: 0.85 - 67s 261ms/step - loss: 0.3489 - accuracy: 0.85 - 67s 261ms/step - loss: 0.3486 - accuracy: 0.85 - 67s 260ms/step - loss: 0.3483 - accuracy: 0.85 - 68s 260ms/step - loss: 0.3483 - accuracy: 0.85 - 68s 260ms/step - loss: 0.3478 - accuracy: 0.85 - 68s 260ms/step - loss: 0.3479 - accuracy: 0.85 - 68s 260ms/step - loss: 0.3478 - accuracy: 0.85 - 69s 260ms/step - loss: 0.3479 - accuracy: 0.85 - 69s 260ms/step - loss: 0.3481 - accuracy: 0.85 - 69s 260ms/step - loss: 0.3481 - accuracy: 0.85 - 69s 260ms/step - loss: 0.3489 - accuracy: 0.85 - 70s 260ms/step - loss: 0.3493 - accuracy: 0.85 - 70s 260ms/step - loss: 0.3492 - accuracy: 0.85 - 70s 260ms/step - loss: 0.3490 - accuracy: 0.85 - 70s 260ms/step - loss: 0.3487 - accuracy: 0.85 - 71s 260ms/step - loss: 0.3490 - accuracy: 0.85 - 71s 259ms/step - loss: 0.3495 - accuracy: 0.85 - 71s 259ms/step - loss: 0.3496 - accuracy: 0.85 - 72s 261ms/step - loss: 0.3493 - accuracy: 0.85 - 72s 261ms/step - loss: 0.3495 - accuracy: 0.85 - 72s 262ms/step - loss: 0.3491 - accuracy: 0.85 - 73s 261ms/step - loss: 0.3494 - accuracy: 0.85 - 73s 261ms/step - loss: 0.3492 - accuracy: 0.85 - 73s 261ms/step - loss: 0.3487 - accuracy: 0.85 - 73s 261ms/step - loss: 0.3484 - accuracy: 0.85 - 74s 261ms/step - loss: 0.3488 - accuracy: 0.85 - 74s 261ms/step - loss: 0.3487 - accuracy: 0.85 - 74s 261ms/step - loss: 0.3486 - accuracy: 0.85 - 74s 261ms/step - loss: 0.3487 - accuracy: 0.85 - 75s 261ms/step - loss: 0.3481 - accuracy: 0.85 - 75s 261ms/step - loss: 0.3478 - accuracy: 0.85 - 75s 261ms/step - loss: 0.3476 - accuracy: 0.85 - 75s 261ms/step - loss: 0.3469 - accuracy: 0.85 - 76s 261ms/step - loss: 0.3472 - accuracy: 0.85 - 76s 261ms/step - loss: 0.3475 - accuracy: 0.85 - 76s 261ms/step - loss: 0.3474 - accuracy: 0.85 - 76s 260ms/step - loss: 0.3475 - accuracy: 0.85 - 77s 260ms/step - loss: 0.3475 - accuracy: 0.85 - 77s 261ms/step - loss: 0.3475 - accuracy: 0.85 - 77s 261ms/step - loss: 0.3473 - accuracy: 0.85 - 77s 261ms/step - loss: 0.3473 - accuracy: 0.85 - 78s 261ms/step - loss: 0.3470 - accuracy: 0.85 - 78s 261ms/step - loss: 0.3471 - accuracy: 0.85 - 78s 261ms/step - loss: 0.3475 - accuracy: 0.85 - 78s 261ms/step - loss: 0.3475 - accuracy: 0.85 - 79s 261ms/step - loss: 0.3473 - accuracy: 0.85 - 79s 261ms/step - loss: 0.3473 - accuracy: 0.85 - 79s 261ms/step - loss: 0.3475 - accuracy: 0.85 - 80s 261ms/step - loss: 0.3475 - accuracy: 0.85 - 80s 261ms/step - loss: 0.3475 - accuracy: 0.85 - 80s 261ms/step - loss: 0.3477 - accuracy: 0.85 - 80s 261ms/step - loss: 0.3473 - accuracy: 0.85 - 81s 261ms/step - loss: 0.3473 - accuracy: 0.85 - 81s 261ms/step - loss: 0.3473 - accuracy: 0.85 - 81s 261ms/step - loss: 0.3481 - accuracy: 0.85 - 81s 261ms/step - loss: 0.3480 - accuracy: 0.85 - 82s 260ms/step - loss: 0.3480 - accuracy: 0.85 - 82s 260ms/step - loss: 0.3485 - accuracy: 0.85 - 82s 260ms/step - loss: 0.3482 - accuracy: 0.85 - 82s 260ms/step - loss: 0.3484 - accuracy: 0.85 - 82s 260ms/step - loss: 0.3484 - accuracy: 0.85 - 83s 260ms/step - loss: 0.3484 - accuracy: 0.85 - 83s 260ms/step - loss: 0.3485 - accuracy: 0.85 - 83s 260ms/step - loss: 0.3483 - accuracy: 0.85 - 83s 260ms/step - loss: 0.3482 - accuracy: 0.85 - 84s 260ms/step - loss: 0.3491 - accuracy: 0.85 - 84s 260ms/step - loss: 0.3488 - accuracy: 0.85 - 84s 260ms/step - loss: 0.3490 - accuracy: 0.85 - 84s 260ms/step - loss: 0.3484 - accuracy: 0.85 - 85s 260ms/step - loss: 0.3482 - accuracy: 0.85 - 85s 260ms/step - loss: 0.3487 - accuracy: 0.85 - 85s 259ms/step - loss: 0.3490 - accuracy: 0.85 - 85s 259ms/step - loss: 0.3496 - accuracy: 0.85 - 86s 260ms/step - loss: 0.3501 - accuracy: 0.85 - 86s 259ms/step - loss: 0.3502 - accuracy: 0.85 - 86s 259ms/step - loss: 0.3500 - accuracy: 0.85 - 86s 259ms/step - loss: 0.3497 - accuracy: 0.85 - 87s 259ms/step - loss: 0.3498 - accuracy: 0.8517"
     ]
    },
    {
     "name": "stdout",
     "output_type": "stream",
     "text": [
      "    391/Unknown - 87s 259ms/step - loss: 0.3501 - accuracy: 0.85 - 87s 259ms/step - loss: 0.3506 - accuracy: 0.85 - 87s 259ms/step - loss: 0.3505 - accuracy: 0.85 - 88s 259ms/step - loss: 0.3501 - accuracy: 0.85 - 88s 259ms/step - loss: 0.3503 - accuracy: 0.85 - 88s 259ms/step - loss: 0.3501 - accuracy: 0.85 - 88s 259ms/step - loss: 0.3498 - accuracy: 0.85 - 89s 259ms/step - loss: 0.3496 - accuracy: 0.85 - 89s 259ms/step - loss: 0.3497 - accuracy: 0.85 - 89s 259ms/step - loss: 0.3494 - accuracy: 0.85 - 90s 260ms/step - loss: 0.3497 - accuracy: 0.85 - 90s 260ms/step - loss: 0.3499 - accuracy: 0.85 - 90s 260ms/step - loss: 0.3497 - accuracy: 0.85 - 90s 260ms/step - loss: 0.3497 - accuracy: 0.85 - 91s 260ms/step - loss: 0.3498 - accuracy: 0.85 - 91s 260ms/step - loss: 0.3495 - accuracy: 0.85 - 91s 260ms/step - loss: 0.3494 - accuracy: 0.85 - 91s 259ms/step - loss: 0.3495 - accuracy: 0.85 - 92s 259ms/step - loss: 0.3499 - accuracy: 0.85 - 92s 259ms/step - loss: 0.3496 - accuracy: 0.85 - 92s 259ms/step - loss: 0.3499 - accuracy: 0.85 - 92s 259ms/step - loss: 0.3497 - accuracy: 0.85 - 93s 259ms/step - loss: 0.3500 - accuracy: 0.85 - 93s 259ms/step - loss: 0.3499 - accuracy: 0.85 - 93s 260ms/step - loss: 0.3496 - accuracy: 0.85 - 94s 260ms/step - loss: 0.3496 - accuracy: 0.85 - 94s 260ms/step - loss: 0.3493 - accuracy: 0.85 - 94s 260ms/step - loss: 0.3496 - accuracy: 0.85 - 94s 260ms/step - loss: 0.3502 - accuracy: 0.85 - 94s 260ms/step - loss: 0.3502 - accuracy: 0.85 - 95s 260ms/step - loss: 0.3502 - accuracy: 0.85 - 95s 260ms/step - loss: 0.3502 - accuracy: 0.85 - 95s 260ms/step - loss: 0.3504 - accuracy: 0.85 - 96s 260ms/step - loss: 0.3504 - accuracy: 0.85 - 96s 260ms/step - loss: 0.3504 - accuracy: 0.85 - 96s 260ms/step - loss: 0.3501 - accuracy: 0.85 - 96s 260ms/step - loss: 0.3503 - accuracy: 0.85 - 97s 260ms/step - loss: 0.3503 - accuracy: 0.85 - 97s 260ms/step - loss: 0.3501 - accuracy: 0.85 - 97s 260ms/step - loss: 0.3502 - accuracy: 0.85 - 97s 260ms/step - loss: 0.3502 - accuracy: 0.85 - 98s 260ms/step - loss: 0.3496 - accuracy: 0.85 - 98s 260ms/step - loss: 0.3495 - accuracy: 0.85 - 98s 260ms/step - loss: 0.3499 - accuracy: 0.85 - 99s 260ms/step - loss: 0.3502 - accuracy: 0.85 - 99s 260ms/step - loss: 0.3505 - accuracy: 0.85 - 99s 260ms/step - loss: 0.3512 - accuracy: 0.85 - 99s 260ms/step - loss: 0.3512 - accuracy: 0.85 - 100s 260ms/step - loss: 0.3516 - accuracy: 0.851 - 100s 260ms/step - loss: 0.3516 - accuracy: 0.851 - 100s 260ms/step - loss: 0.3516 - accuracy: 0.851 - 100s 260ms/step - loss: 0.3513 - accuracy: 0.851 - 101s 260ms/step - loss: 0.3511 - accuracy: 0.852 - 101s 260ms/step - loss: 0.3508 - accuracy: 0.852 - 101s 260ms/step - loss: 0.3515 - accuracy: 0.852 - 102s 260ms/step - loss: 0.3511 - accuracy: 0.852 - 102s 261ms/step - loss: 0.3514 - accuracy: 0.852 - 102s 261ms/step - loss: 0.3514 - accuracy: 0.8522Without Padding: loss = 0.35136735389757034 \taccuracy=0.8521599769592285\n"
     ]
    }
   ],
   "source": [
    "##### B. Validate\n",
    "def pad_to_size(vec, size):\n",
    "    zeroz = [0] * (size - len(np.array(vec) ) )\n",
    "    vec.extend(zeroz)\n",
    "    return vec\n",
    "\n",
    "test_loss, test_acc = model.evaluate( test_x )\n",
    "print(\"Without Padding: loss = {} \\taccuracy={}\".format(test_loss, test_acc ) )\n",
    "\n",
    "\n",
    "# test_loss, test_acc = model.evaluate( pad_to_size(test_x, 64 ) ) \n",
    "# print(\"With Padding: loss = {} \\taccuracy={}\".format(test_loss, test_acc ) )"
   ]
  },
  {
   "cell_type": "code",
   "execution_count": 11,
   "metadata": {},
   "outputs": [
    {
     "data": {
      "image/png": "[encoded data removed]",
      "text/plain": [
       "<Figure size 432x288 with 1 Axes>"
      ]
     },
     "metadata": {
      "needs_background": "light"
     },
     "output_type": "display_data"
    }
   ],
   "source": [
    "##### Graphs \n",
    "plot_graphs(fhist, 'accuracy')\n"
   ]
  },
  {
   "cell_type": "code",
   "execution_count": 12,
   "metadata": {},
   "outputs": [
    {
     "data": {
      "image/png": "[encoded data removed]",
      "text/plain": [
       "<Figure size 432x288 with 1 Axes>"
      ]
     },
     "metadata": {
      "needs_background": "light"
     },
     "output_type": "display_data"
    }
   ],
   "source": [
    "plot_graphs(fhist, 'loss')"
   ]
  },
  {
   "cell_type": "markdown",
   "metadata": {},
   "source": [
    "# 5. Predict"
   ]
  },
  {
   "cell_type": "code",
   "execution_count": 16,
   "metadata": {},
   "outputs": [],
   "source": [
    "def predict_sentiment(observation, pad=False):\n",
    "    enc_observation = encoder.encode( observation )\n",
    "    \n",
    "    if pad:\n",
    "        enc_observation = pad_to_size( enc_observation, 64)\n",
    "        \n",
    "    enc_observation = tf.cast( enc_observation, tf.float32 )\n",
    "    \n",
    "    pred = model.predict( tf.expand_dims(enc_observation, 0 ) )\n",
    "    \n",
    "    return pred\n",
    "\n",
    "sample_reviews = [ \"That was such a good movie!\", \"That was terribly good!\", \n",
    "                  \"That was such a good movie  \",\n",
    "                  \"That was such a bad movie!\", \"Amazing! How can something so bad be out there!\"]\n"
   ]
  },
  {
   "cell_type": "code",
   "execution_count": 14,
   "metadata": {},
   "outputs": [
    {
     "name": "stdout",
     "output_type": "stream",
     "text": [
      "\n",
      " ==== NO PADDING ==== \n",
      "\n",
      "That was such a good movie! ===> [[0.23156986]]\n",
      "That was terribly good! ===> [[0.086781]]\n",
      "That was such a bad movie! ===> [[-0.44894505]]\n",
      "Amazing! How can something so bad be out there! ===> [[-0.62947047]]\n"
     ]
    }
   ],
   "source": [
    "print(\"\\n ==== NO PADDING ==== \\n\")\n",
    "for s in sample_reviews:\n",
    "    print(\"{} ===> {}\".format(s, predict_sentiment(s) ) ) \n",
    "    \n",
    "# print(\"\\n ==== YES PADDING ==== \\n\")\n",
    "# for s in sample_reviews:\n",
    "#     print(\"{} ===> {}\".format(s, predict_sentiment(s, pad=True) ) ) "
   ]
  },
  {
   "cell_type": "markdown",
   "metadata": {},
   "source": [
    "# 6. Stack multiple LSTM layers"
   ]
  },
  {
   "cell_type": "code",
   "execution_count": 17,
   "metadata": {},
   "outputs": [
    {
     "name": "stdout",
     "output_type": "stream",
     "text": [
      "Model: \"sequential\"\n",
      "_________________________________________________________________\n",
      "Layer (type)                 Output Shape              Param #   \n",
      "=================================================================\n",
      "embedding (Embedding)        (None, None, 64)          523840    \n",
      "_________________________________________________________________\n",
      "bidirectional (Bidirectional (None, None, 128)         66048     \n",
      "_________________________________________________________________\n",
      "bidirectional_1 (Bidirection (None, None, 128)         98816     \n",
      "_________________________________________________________________\n",
      "bidirectional_2 (Bidirection (None, None, 128)         98816     \n",
      "_________________________________________________________________\n",
      "dense (Dense)                (None, None, 64)          8256      \n",
      "_________________________________________________________________\n",
      "dropout (Dropout)            (None, None, 64)          0         \n",
      "_________________________________________________________________\n",
      "dense_1 (Dense)              (None, None, 1)           65        \n",
      "=================================================================\n",
      "Total params: 795,841\n",
      "Trainable params: 795,841\n",
      "Non-trainable params: 0\n",
      "_________________________________________________________________\n"
     ]
    }
   ],
   "source": [
    "n_lsmz = 3\n",
    "\n",
    "## create model\n",
    "model = compile_2class_lstm_model( encoder.vocab_size, n_lstmz=n_lsmz)\n",
    "model.summary()\n"
   ]
  },
  {
   "cell_type": "code",
   "execution_count": 15,
   "metadata": {
    "scrolled": false
   },
   "outputs": [
    {
     "name": "stdout",
     "output_type": "stream",
     "text": [
      "Model: \"sequential_1\"\n",
      "_________________________________________________________________\n",
      "Layer (type)                 Output Shape              Param #   \n",
      "=================================================================\n",
      "embedding_1 (Embedding)      (None, None, 64)          523840    \n",
      "_________________________________________________________________\n",
      "bidirectional_1 (Bidirection (None, None, 128)         66048     \n",
      "_________________________________________________________________\n",
      "bidirectional_2 (Bidirection (None, None, 128)         98816     \n",
      "_________________________________________________________________\n",
      "bidirectional_3 (Bidirection (None, None, 128)         98816     \n",
      "_________________________________________________________________\n",
      "dense_2 (Dense)              (None, None, 64)          8256      \n",
      "_________________________________________________________________\n",
      "dropout (Dropout)            (None, None, 64)          0         \n",
      "_________________________________________________________________\n",
      "dense_3 (Dense)              (None, None, 1)           65        \n",
      "=================================================================\n",
      "Total params: 795,841\n",
      "Trainable params: 795,841\n",
      "Non-trainable params: 0\n",
      "_________________________________________________________________\n",
      "Epoch 1/10\n",
      "391/391 - 12801s - loss: 0.6766 - accuracy: 0.5262 - val_loss: 0.6237 - val_accuracy: 0.5915\n",
      "Epoch 2/10\n",
      "391/391 - 14139s - loss: 0.5160 - accuracy: 0.7336 - val_loss: 0.5679 - val_accuracy: 0.5512\n",
      "Epoch 3/10\n",
      "391/391 - 13081s - loss: 0.4617 - accuracy: 0.7909 - val_loss: 0.4851 - val_accuracy: 0.7811\n",
      "Epoch 4/10\n",
      "391/391 - 13087s - loss: 0.5702 - accuracy: 0.6588 - val_loss: 0.5104 - val_accuracy: 0.8068\n",
      "Epoch 5/10\n",
      "391/391 - 13075s - loss: 0.4482 - accuracy: 0.8209 - val_loss: 0.4281 - val_accuracy: 0.8414\n",
      "Epoch 6/10\n",
      "391/391 - 13133s - loss: 0.4492 - accuracy: 0.8008 - val_loss: 0.6274 - val_accuracy: 0.5657\n",
      "Epoch 7/10\n",
      "391/391 - 13477s - loss: 0.5709 - accuracy: 0.5922 - val_loss: 0.5465 - val_accuracy: 0.5904\n",
      "INFO:tensorflow:Assets written to: IMDB_ltsm_model.rnn\\assets\n"
     ]
    },
    {
     "name": "stderr",
     "output_type": "stream",
     "text": [
      "INFO:tensorflow:Assets written to: IMDB_ltsm_model.rnn\\assets\n"
     ]
    },
    {
     "name": "stdout",
     "output_type": "stream",
     "text": [
      "\n",
      "{'loss': [0.6766876460456848, 0.5159222217941284, 0.461657157535553, 0.5701415099525452, 0.44845341547966006, 0.4490867226791382, 0.5710107383728027], 'accuracy': [0.5261898, 0.73360693, 0.7908917, 0.65883595, 0.8208728, 0.8007513, 0.5921765], 'val_loss': [0.6237304192369856, 0.567897106299315, 0.48508222824167413, 0.5104231122509598, 0.42810333720253557, 0.6273691770060897, 0.5465202890241238], 'val_accuracy': [0.59151256, 0.5512017, 0.7810826, 0.80681336, 0.84136283, 0.56572855, 0.59038454]}\n",
      "\n",
      "    175/Unknown - 2s 2s/step - loss: 0.5069 - accuracy: 0.65 - 5s 2s/step - loss: 0.5522 - accuracy: 0.57 - 7s 2s/step - loss: 0.5668 - accuracy: 0.58 - 10s 2s/step - loss: 0.5691 - accuracy: 0.580 - 13s 3s/step - loss: 0.5824 - accuracy: 0.587 - 15s 3s/step - loss: 0.5688 - accuracy: 0.588 - 18s 3s/step - loss: 0.5667 - accuracy: 0.596 - 21s 3s/step - loss: 0.5693 - accuracy: 0.591 - 23s 3s/step - loss: 0.5660 - accuracy: 0.592 - 26s 3s/step - loss: 0.5703 - accuracy: 0.595 - 28s 3s/step - loss: 0.5753 - accuracy: 0.595 - 30s 3s/step - loss: 0.5805 - accuracy: 0.600 - 33s 3s/step - loss: 0.5774 - accuracy: 0.599 - 36s 3s/step - loss: 0.5747 - accuracy: 0.597 - 38s 3s/step - loss: 0.5741 - accuracy: 0.595 - 40s 2s/step - loss: 0.5713 - accuracy: 0.596 - 43s 3s/step - loss: 0.5725 - accuracy: 0.593 - 46s 3s/step - loss: 0.5699 - accuracy: 0.593 - 48s 3s/step - loss: 0.5664 - accuracy: 0.596 - 51s 3s/step - loss: 0.5687 - accuracy: 0.598 - 54s 3s/step - loss: 0.5666 - accuracy: 0.598 - 57s 3s/step - loss: 0.5695 - accuracy: 0.598 - 59s 3s/step - loss: 0.5684 - accuracy: 0.594 - 62s 3s/step - loss: 0.5685 - accuracy: 0.591 - 63s 3s/step - loss: 0.5652 - accuracy: 0.590 - 65s 2s/step - loss: 0.5607 - accuracy: 0.591 - 67s 2s/step - loss: 0.5614 - accuracy: 0.588 - 70s 2s/step - loss: 0.5596 - accuracy: 0.583 - 72s 2s/step - loss: 0.5591 - accuracy: 0.584 - 74s 2s/step - loss: 0.5575 - accuracy: 0.583 - 75s 2s/step - loss: 0.5555 - accuracy: 0.584 - 77s 2s/step - loss: 0.5552 - accuracy: 0.585 - 80s 2s/step - loss: 0.5545 - accuracy: 0.584 - 82s 2s/step - loss: 0.5529 - accuracy: 0.585 - 83s 2s/step - loss: 0.5509 - accuracy: 0.587 - 86s 2s/step - loss: 0.5498 - accuracy: 0.587 - 88s 2s/step - loss: 0.5485 - accuracy: 0.588 - 91s 2s/step - loss: 0.5488 - accuracy: 0.587 - 93s 2s/step - loss: 0.5492 - accuracy: 0.587 - 95s 2s/step - loss: 0.5504 - accuracy: 0.587 - 98s 2s/step - loss: 0.5504 - accuracy: 0.587 - 100s 2s/step - loss: 0.5516 - accuracy: 0.58 - 102s 2s/step - loss: 0.5535 - accuracy: 0.58 - 105s 2s/step - loss: 0.5532 - accuracy: 0.58 - 107s 2s/step - loss: 0.5543 - accuracy: 0.58 - 110s 2s/step - loss: 0.5523 - accuracy: 0.58 - 112s 2s/step - loss: 0.5540 - accuracy: 0.58 - 115s 2s/step - loss: 0.5543 - accuracy: 0.58 - 116s 2s/step - loss: 0.5535 - accuracy: 0.58 - 119s 2s/step - loss: 0.5529 - accuracy: 0.58 - 121s 2s/step - loss: 0.5527 - accuracy: 0.58 - 123s 2s/step - loss: 0.5532 - accuracy: 0.58 - 126s 2s/step - loss: 0.5534 - accuracy: 0.58 - 128s 2s/step - loss: 0.5539 - accuracy: 0.58 - 131s 2s/step - loss: 0.5553 - accuracy: 0.58 - 133s 2s/step - loss: 0.5593 - accuracy: 0.58 - 136s 2s/step - loss: 0.5587 - accuracy: 0.58 - 138s 2s/step - loss: 0.5580 - accuracy: 0.58 - 141s 2s/step - loss: 0.5577 - accuracy: 0.59 - 143s 2s/step - loss: 0.5600 - accuracy: 0.59 - 145s 2s/step - loss: 0.5601 - accuracy: 0.59 - 147s 2s/step - loss: 0.5588 - accuracy: 0.58 - 149s 2s/step - loss: 0.5580 - accuracy: 0.58 - 152s 2s/step - loss: 0.5590 - accuracy: 0.58 - 154s 2s/step - loss: 0.5587 - accuracy: 0.58 - 157s 2s/step - loss: 0.5582 - accuracy: 0.58 - 159s 2s/step - loss: 0.5586 - accuracy: 0.58 - 162s 2s/step - loss: 0.5581 - accuracy: 0.58 - 164s 2s/step - loss: 0.5592 - accuracy: 0.58 - 166s 2s/step - loss: 0.5593 - accuracy: 0.58 - 168s 2s/step - loss: 0.5587 - accuracy: 0.58 - 170s 2s/step - loss: 0.5584 - accuracy: 0.58 - 172s 2s/step - loss: 0.5577 - accuracy: 0.58 - 175s 2s/step - loss: 0.5583 - accuracy: 0.58 - 178s 2s/step - loss: 0.5589 - accuracy: 0.58 - 180s 2s/step - loss: 0.5593 - accuracy: 0.58 - 182s 2s/step - loss: 0.5595 - accuracy: 0.58 - 184s 2s/step - loss: 0.5615 - accuracy: 0.58 - 186s 2s/step - loss: 0.5617 - accuracy: 0.58 - 188s 2s/step - loss: 0.5607 - accuracy: 0.58 - 191s 2s/step - loss: 0.5599 - accuracy: 0.58 - 193s 2s/step - loss: 0.5595 - accuracy: 0.58 - 195s 2s/step - loss: 0.5584 - accuracy: 0.58 - 198s 2s/step - loss: 0.5590 - accuracy: 0.58 - 201s 2s/step - loss: 0.5586 - accuracy: 0.58 - 203s 2s/step - loss: 0.5582 - accuracy: 0.58 - 206s 2s/step - loss: 0.5585 - accuracy: 0.58 - 209s 2s/step - loss: 0.5581 - accuracy: 0.58 - 211s 2s/step - loss: 0.5578 - accuracy: 0.58 - 213s 2s/step - loss: 0.5581 - accuracy: 0.58 - 216s 2s/step - loss: 0.5579 - accuracy: 0.58 - 219s 2s/step - loss: 0.5581 - accuracy: 0.58 - 221s 2s/step - loss: 0.5580 - accuracy: 0.58 - 223s 2s/step - loss: 0.5580 - accuracy: 0.58 - 226s 2s/step - loss: 0.5578 - accuracy: 0.58 - 227s 2s/step - loss: 0.5577 - accuracy: 0.58 - 230s 2s/step - loss: 0.5576 - accuracy: 0.58 - 232s 2s/step - loss: 0.5567 - accuracy: 0.58 - 234s 2s/step - loss: 0.5564 - accuracy: 0.58 - 237s 2s/step - loss: 0.5563 - accuracy: 0.58 - 239s 2s/step - loss: 0.5559 - accuracy: 0.58 - 242s 2s/step - loss: 0.5561 - accuracy: 0.58 - 245s 2s/step - loss: 0.5566 - accuracy: 0.58 - 247s 2s/step - loss: 0.5564 - accuracy: 0.58 - 250s 2s/step - loss: 0.5556 - accuracy: 0.58 - 252s 2s/step - loss: 0.5561 - accuracy: 0.58 - 254s 2s/step - loss: 0.5557 - accuracy: 0.58 - 256s 2s/step - loss: 0.5552 - accuracy: 0.58 - 259s 2s/step - loss: 0.5553 - accuracy: 0.58 - 262s 2s/step - loss: 0.5559 - accuracy: 0.58 - 264s 2s/step - loss: 0.5560 - accuracy: 0.58 - 267s 2s/step - loss: 0.5553 - accuracy: 0.58 - 270s 2s/step - loss: 0.5547 - accuracy: 0.58 - 272s 2s/step - loss: 0.5544 - accuracy: 0.58 - 279s 2s/step - loss: 0.5551 - accuracy: 0.58 - 281s 2s/step - loss: 0.5549 - accuracy: 0.58 - 284s 2s/step - loss: 0.5554 - accuracy: 0.58 - 286s 2s/step - loss: 0.5547 - accuracy: 0.58 - 288s 2s/step - loss: 0.5543 - accuracy: 0.58 - 290s 2s/step - loss: 0.5542 - accuracy: 0.58 - 292s 2s/step - loss: 0.5553 - accuracy: 0.58 - 294s 2s/step - loss: 0.5548 - accuracy: 0.58 - 297s 2s/step - loss: 0.5546 - accuracy: 0.58 - 299s 2s/step - loss: 0.5544 - accuracy: 0.58 - 301s 2s/step - loss: 0.5543 - accuracy: 0.58 - 304s 2s/step - loss: 0.5537 - accuracy: 0.58 - 307s 2s/step - loss: 0.5542 - accuracy: 0.58 - 309s 2s/step - loss: 0.5535 - accuracy: 0.58 - 311s 2s/step - loss: 0.5524 - accuracy: 0.58 - 314s 2s/step - loss: 0.5526 - accuracy: 0.58 - 316s 2s/step - loss: 0.5534 - accuracy: 0.58 - 318s 2s/step - loss: 0.5531 - accuracy: 0.58 - 320s 2s/step - loss: 0.5527 - accuracy: 0.58 - 322s 2s/step - loss: 0.5517 - accuracy: 0.58 - 324s 2s/step - loss: 0.5515 - accuracy: 0.58 - 327s 2s/step - loss: 0.5516 - accuracy: 0.58 - 329s 2s/step - loss: 0.5511 - accuracy: 0.58 - 332s 2s/step - loss: 0.5515 - accuracy: 0.58 - 333s 2s/step - loss: 0.5517 - accuracy: 0.58 - 336s 2s/step - loss: 0.5515 - accuracy: 0.58 - 338s 2s/step - loss: 0.5517 - accuracy: 0.58 - 341s 2s/step - loss: 0.5513 - accuracy: 0.58 - 343s 2s/step - loss: 0.5512 - accuracy: 0.58 - 345s 2s/step - loss: 0.5511 - accuracy: 0.58 - 348s 2s/step - loss: 0.5512 - accuracy: 0.58 - 351s 2s/step - loss: 0.5506 - accuracy: 0.58 - 353s 2s/step - loss: 0.5506 - accuracy: 0.58 - 355s 2s/step - loss: 0.5506 - accuracy: 0.58 - 358s 2s/step - loss: 0.5513 - accuracy: 0.58 - 360s 2s/step - loss: 0.5509 - accuracy: 0.58 - 362s 2s/step - loss: 0.5508 - accuracy: 0.58 - 365s 2s/step - loss: 0.5510 - accuracy: 0.58 - 367s 2s/step - loss: 0.5513 - accuracy: 0.58 - 369s 2s/step - loss: 0.5510 - accuracy: 0.58 - 372s 2s/step - loss: 0.5511 - accuracy: 0.58 - 374s 2s/step - loss: 0.5511 - accuracy: 0.58 - 376s 2s/step - loss: 0.5511 - accuracy: 0.58 - 378s 2s/step - loss: 0.5509 - accuracy: 0.58 - 381s 2s/step - loss: 0.5507 - accuracy: 0.58 - 382s 2s/step - loss: 0.5505 - accuracy: 0.58 - 385s 2s/step - loss: 0.5503 - accuracy: 0.58 - 387s 2s/step - loss: 0.5500 - accuracy: 0.58 - 389s 2s/step - loss: 0.5494 - accuracy: 0.58 - 391s 2s/step - loss: 0.5493 - accuracy: 0.58 - 393s 2s/step - loss: 0.5493 - accuracy: 0.58 - 395s 2s/step - loss: 0.5495 - accuracy: 0.58 - 398s 2s/step - loss: 0.5497 - accuracy: 0.58 - 400s 2s/step - loss: 0.5493 - accuracy: 0.58 - 402s 2s/step - loss: 0.5498 - accuracy: 0.58 - 404s 2s/step - loss: 0.5493 - accuracy: 0.58 - 406s 2s/step - loss: 0.5490 - accuracy: 0.58 - 409s 2s/step - loss: 0.5489 - accuracy: 0.58 - 412s 2s/step - loss: 0.5492 - accuracy: 0.58 - 415s 2s/step - loss: 0.5493 - accuracy: 0.58 - 422s 2s/step - loss: 0.5491 - accuracy: 0.5857    349/Unknown - 424s 2s/step - loss: 0.5489 - accuracy: 0.58 - 426s 2s/step - loss: 0.5487 - accuracy: 0.58 - 428s 2s/step - loss: 0.5489 - accuracy: 0.58 - 431s 2s/step - loss: 0.5488 - accuracy: 0.58 - 433s 2s/step - loss: 0.5501 - accuracy: 0.58 - 436s 2s/step - loss: 0.5505 - accuracy: 0.58 - 438s 2s/step - loss: 0.5506 - accuracy: 0.58 - 440s 2s/step - loss: 0.5503 - accuracy: 0.58 - 442s 2s/step - loss: 0.5503 - accuracy: 0.58 - 445s 2s/step - loss: 0.5505 - accuracy: 0.58 - 446s 2s/step - loss: 0.5498 - accuracy: 0.58 - 449s 2s/step - loss: 0.5501 - accuracy: 0.58 - 451s 2s/step - loss: 0.5499 - accuracy: 0.58 - 453s 2s/step - loss: 0.5501 - accuracy: 0.58 - 455s 2s/step - loss: 0.5503 - accuracy: 0.58 - 458s 2s/step - loss: 0.5498 - accuracy: 0.58 - 460s 2s/step - loss: 0.5495 - accuracy: 0.58 - 462s 2s/step - loss: 0.5499 - accuracy: 0.58 - 465s 2s/step - loss: 0.5498 - accuracy: 0.58 - 468s 2s/step - loss: 0.5499 - accuracy: 0.58 - 469s 2s/step - loss: 0.5495 - accuracy: 0.58 - 472s 2s/step - loss: 0.5494 - accuracy: 0.58 - 474s 2s/step - loss: 0.5495 - accuracy: 0.58 - 476s 2s/step - loss: 0.5494 - accuracy: 0.58 - 479s 2s/step - loss: 0.5494 - accuracy: 0.58 - 481s 2s/step - loss: 0.5495 - accuracy: 0.58 - 484s 2s/step - loss: 0.5492 - accuracy: 0.58 - 486s 2s/step - loss: 0.5490 - accuracy: 0.58 - 488s 2s/step - loss: 0.5490 - accuracy: 0.58 - 490s 2s/step - loss: 0.5492 - accuracy: 0.58 - 492s 2s/step - loss: 0.5489 - accuracy: 0.58 - 494s 2s/step - loss: 0.5486 - accuracy: 0.58 - 497s 2s/step - loss: 0.5486 - accuracy: 0.58 - 499s 2s/step - loss: 0.5484 - accuracy: 0.58 - 501s 2s/step - loss: 0.5485 - accuracy: 0.58 - 504s 2s/step - loss: 0.5483 - accuracy: 0.58 - 506s 2s/step - loss: 0.5485 - accuracy: 0.58 - 508s 2s/step - loss: 0.5484 - accuracy: 0.58 - 510s 2s/step - loss: 0.5488 - accuracy: 0.58 - 513s 2s/step - loss: 0.5486 - accuracy: 0.58 - 515s 2s/step - loss: 0.5488 - accuracy: 0.58 - 518s 2s/step - loss: 0.5488 - accuracy: 0.58 - 520s 2s/step - loss: 0.5487 - accuracy: 0.58 - 523s 2s/step - loss: 0.5487 - accuracy: 0.58 - 526s 2s/step - loss: 0.5485 - accuracy: 0.58 - 529s 2s/step - loss: 0.5484 - accuracy: 0.58 - 531s 2s/step - loss: 0.5481 - accuracy: 0.58 - 533s 2s/step - loss: 0.5481 - accuracy: 0.58 - 536s 2s/step - loss: 0.5482 - accuracy: 0.58 - 538s 2s/step - loss: 0.5481 - accuracy: 0.58 - 541s 2s/step - loss: 0.5482 - accuracy: 0.58 - 544s 2s/step - loss: 0.5483 - accuracy: 0.58 - 546s 2s/step - loss: 0.5483 - accuracy: 0.58 - 549s 2s/step - loss: 0.5483 - accuracy: 0.58 - 552s 2s/step - loss: 0.5482 - accuracy: 0.58 - 554s 2s/step - loss: 0.5483 - accuracy: 0.58 - 557s 2s/step - loss: 0.5483 - accuracy: 0.58 - 559s 2s/step - loss: 0.5483 - accuracy: 0.58 - 561s 2s/step - loss: 0.5484 - accuracy: 0.58 - 564s 2s/step - loss: 0.5486 - accuracy: 0.58 - 566s 2s/step - loss: 0.5484 - accuracy: 0.58 - 568s 2s/step - loss: 0.5487 - accuracy: 0.58 - 571s 2s/step - loss: 0.5491 - accuracy: 0.58 - 574s 2s/step - loss: 0.5489 - accuracy: 0.58 - 576s 2s/step - loss: 0.5490 - accuracy: 0.58 - 578s 2s/step - loss: 0.5490 - accuracy: 0.58 - 581s 2s/step - loss: 0.5487 - accuracy: 0.58 - 583s 2s/step - loss: 0.5485 - accuracy: 0.58 - 585s 2s/step - loss: 0.5482 - accuracy: 0.58 - 587s 2s/step - loss: 0.5483 - accuracy: 0.58 - 589s 2s/step - loss: 0.5482 - accuracy: 0.58 - 592s 2s/step - loss: 0.5480 - accuracy: 0.58 - 594s 2s/step - loss: 0.5480 - accuracy: 0.58 - 597s 2s/step - loss: 0.5477 - accuracy: 0.58 - 599s 2s/step - loss: 0.5475 - accuracy: 0.58 - 602s 2s/step - loss: 0.5471 - accuracy: 0.58 - 604s 2s/step - loss: 0.5472 - accuracy: 0.58 - 606s 2s/step - loss: 0.5470 - accuracy: 0.58 - 609s 2s/step - loss: 0.5471 - accuracy: 0.58 - 611s 2s/step - loss: 0.5472 - accuracy: 0.58 - 613s 2s/step - loss: 0.5473 - accuracy: 0.58 - 616s 2s/step - loss: 0.5472 - accuracy: 0.58 - 618s 2s/step - loss: 0.5471 - accuracy: 0.58 - 620s 2s/step - loss: 0.5467 - accuracy: 0.58 - 622s 2s/step - loss: 0.5467 - accuracy: 0.58 - 624s 2s/step - loss: 0.5467 - accuracy: 0.58 - 626s 2s/step - loss: 0.5466 - accuracy: 0.58 - 629s 2s/step - loss: 0.5466 - accuracy: 0.58 - 631s 2s/step - loss: 0.5466 - accuracy: 0.58 - 633s 2s/step - loss: 0.5469 - accuracy: 0.58 - 635s 2s/step - loss: 0.5470 - accuracy: 0.58 - 638s 2s/step - loss: 0.5471 - accuracy: 0.58 - 640s 2s/step - loss: 0.5472 - accuracy: 0.58 - 642s 2s/step - loss: 0.5475 - accuracy: 0.58 - 644s 2s/step - loss: 0.5473 - accuracy: 0.58 - 647s 2s/step - loss: 0.5471 - accuracy: 0.58 - 649s 2s/step - loss: 0.5469 - accuracy: 0.58 - 651s 2s/step - loss: 0.5470 - accuracy: 0.58 - 654s 2s/step - loss: 0.5470 - accuracy: 0.58 - 660s 2s/step - loss: 0.5467 - accuracy: 0.58 - 663s 2s/step - loss: 0.5467 - accuracy: 0.58 - 665s 2s/step - loss: 0.5467 - accuracy: 0.58 - 667s 2s/step - loss: 0.5464 - accuracy: 0.58 - 670s 2s/step - loss: 0.5465 - accuracy: 0.58 - 671s 2s/step - loss: 0.5466 - accuracy: 0.58 - 674s 2s/step - loss: 0.5466 - accuracy: 0.58 - 676s 2s/step - loss: 0.5468 - accuracy: 0.58 - 679s 2s/step - loss: 0.5467 - accuracy: 0.58 - 681s 2s/step - loss: 0.5467 - accuracy: 0.58 - 684s 2s/step - loss: 0.5467 - accuracy: 0.58 - 686s 2s/step - loss: 0.5465 - accuracy: 0.58 - 688s 2s/step - loss: 0.5463 - accuracy: 0.58 - 691s 2s/step - loss: 0.5461 - accuracy: 0.58 - 694s 2s/step - loss: 0.5461 - accuracy: 0.58 - 695s 2s/step - loss: 0.5462 - accuracy: 0.58 - 698s 2s/step - loss: 0.5459 - accuracy: 0.58 - 700s 2s/step - loss: 0.5459 - accuracy: 0.58 - 702s 2s/step - loss: 0.5457 - accuracy: 0.58 - 705s 2s/step - loss: 0.5460 - accuracy: 0.58 - 707s 2s/step - loss: 0.5458 - accuracy: 0.58 - 710s 2s/step - loss: 0.5459 - accuracy: 0.58 - 712s 2s/step - loss: 0.5461 - accuracy: 0.58 - 715s 2s/step - loss: 0.5461 - accuracy: 0.58 - 717s 2s/step - loss: 0.5460 - accuracy: 0.58 - 719s 2s/step - loss: 0.5462 - accuracy: 0.58 - 722s 2s/step - loss: 0.5461 - accuracy: 0.58 - 724s 2s/step - loss: 0.5462 - accuracy: 0.58 - 727s 2s/step - loss: 0.5460 - accuracy: 0.58 - 730s 2s/step - loss: 0.5462 - accuracy: 0.58 - 732s 2s/step - loss: 0.5461 - accuracy: 0.58 - 734s 2s/step - loss: 0.5463 - accuracy: 0.58 - 737s 2s/step - loss: 0.5465 - accuracy: 0.58 - 739s 2s/step - loss: 0.5463 - accuracy: 0.58 - 741s 2s/step - loss: 0.5463 - accuracy: 0.58 - 744s 2s/step - loss: 0.5466 - accuracy: 0.58 - 746s 2s/step - loss: 0.5466 - accuracy: 0.58 - 748s 2s/step - loss: 0.5466 - accuracy: 0.58 - 750s 2s/step - loss: 0.5467 - accuracy: 0.58 - 752s 2s/step - loss: 0.5470 - accuracy: 0.58 - 754s 2s/step - loss: 0.5469 - accuracy: 0.58 - 756s 2s/step - loss: 0.5469 - accuracy: 0.58 - 759s 2s/step - loss: 0.5470 - accuracy: 0.58 - 761s 2s/step - loss: 0.5472 - accuracy: 0.58 - 764s 2s/step - loss: 0.5472 - accuracy: 0.58 - 766s 2s/step - loss: 0.5473 - accuracy: 0.58 - 768s 2s/step - loss: 0.5473 - accuracy: 0.58 - 770s 2s/step - loss: 0.5476 - accuracy: 0.58 - 772s 2s/step - loss: 0.5475 - accuracy: 0.58 - 775s 2s/step - loss: 0.5479 - accuracy: 0.59 - 777s 2s/step - loss: 0.5475 - accuracy: 0.59 - 779s 2s/step - loss: 0.5475 - accuracy: 0.59 - 782s 2s/step - loss: 0.5474 - accuracy: 0.59 - 783s 2s/step - loss: 0.5473 - accuracy: 0.59 - 786s 2s/step - loss: 0.5471 - accuracy: 0.59 - 789s 2s/step - loss: 0.5471 - accuracy: 0.59 - 790s 2s/step - loss: 0.5470 - accuracy: 0.59 - 792s 2s/step - loss: 0.5471 - accuracy: 0.59 - 794s 2s/step - loss: 0.5470 - accuracy: 0.59 - 797s 2s/step - loss: 0.5471 - accuracy: 0.59 - 799s 2s/step - loss: 0.5470 - accuracy: 0.59 - 802s 2s/step - loss: 0.5471 - accuracy: 0.59 - 804s 2s/step - loss: 0.5470 - accuracy: 0.59 - 807s 2s/step - loss: 0.5469 - accuracy: 0.59 - 809s 2s/step - loss: 0.5470 - accuracy: 0.59 - 811s 2s/step - loss: 0.5469 - accuracy: 0.59 - 814s 2s/step - loss: 0.5467 - accuracy: 0.59 - 816s 2s/step - loss: 0.5467 - accuracy: 0.59 - 819s 2s/step - loss: 0.5465 - accuracy: 0.59 - 821s 2s/step - loss: 0.5467 - accuracy: 0.59 - 824s 2s/step - loss: 0.5467 - accuracy: 0.59 - 826s 2s/step - loss: 0.5468 - accuracy: 0.59 - 828s 2s/step - loss: 0.5467 - accuracy: 0.59 - 831s 2s/step - loss: 0.5465 - accuracy: 0.59 - 834s 2s/step - loss: 0.5464 - accuracy: 0.5903    391/Unknown - 835s 2s/step - loss: 0.5462 - accuracy: 0.59 - 838s 2s/step - loss: 0.5461 - accuracy: 0.59 - 840s 2s/step - loss: 0.5459 - accuracy: 0.59 - 843s 2s/step - loss: 0.5460 - accuracy: 0.59 - 845s 2s/step - loss: 0.5457 - accuracy: 0.59 - 847s 2s/step - loss: 0.5457 - accuracy: 0.59 - 849s 2s/step - loss: 0.5456 - accuracy: 0.59 - 851s 2s/step - loss: 0.5455 - accuracy: 0.59 - 854s 2s/step - loss: 0.5455 - accuracy: 0.59 - 859s 2s/step - loss: 0.5455 - accuracy: 0.59 - 861s 2s/step - loss: 0.5455 - accuracy: 0.59 - 863s 2s/step - loss: 0.5455 - accuracy: 0.59 - 865s 2s/step - loss: 0.5458 - accuracy: 0.58 - 867s 2s/step - loss: 0.5459 - accuracy: 0.58 - 870s 2s/step - loss: 0.5458 - accuracy: 0.58 - 872s 2s/step - loss: 0.5458 - accuracy: 0.58 - 875s 2s/step - loss: 0.5457 - accuracy: 0.58 - 878s 2s/step - loss: 0.5460 - accuracy: 0.58 - 881s 2s/step - loss: 0.5459 - accuracy: 0.58 - 883s 2s/step - loss: 0.5459 - accuracy: 0.58 - 885s 2s/step - loss: 0.5456 - accuracy: 0.58 - 888s 2s/step - loss: 0.5456 - accuracy: 0.58 - 890s 2s/step - loss: 0.5456 - accuracy: 0.58 - 892s 2s/step - loss: 0.5455 - accuracy: 0.58 - 894s 2s/step - loss: 0.5456 - accuracy: 0.58 - 897s 2s/step - loss: 0.5456 - accuracy: 0.58 - 899s 2s/step - loss: 0.5455 - accuracy: 0.58 - 902s 2s/step - loss: 0.5454 - accuracy: 0.58 - 905s 2s/step - loss: 0.5454 - accuracy: 0.58 - 907s 2s/step - loss: 0.5455 - accuracy: 0.58 - 909s 2s/step - loss: 0.5459 - accuracy: 0.58 - 912s 2s/step - loss: 0.5462 - accuracy: 0.58 - 915s 2s/step - loss: 0.5461 - accuracy: 0.58 - 917s 2s/step - loss: 0.5461 - accuracy: 0.58 - 920s 2s/step - loss: 0.5462 - accuracy: 0.58 - 922s 2s/step - loss: 0.5463 - accuracy: 0.58 - 924s 2s/step - loss: 0.5463 - accuracy: 0.58 - 927s 2s/step - loss: 0.5464 - accuracy: 0.58 - 929s 2s/step - loss: 0.5464 - accuracy: 0.59 - 932s 2s/step - loss: 0.5465 - accuracy: 0.59 - 934s 2s/step - loss: 0.5465 - accuracy: 0.59 - 937s 2s/step - loss: 0.5465 - accuracy: 0.59 - 937s 2s/step - loss: 0.5465 - accuracy: 0.5904\n",
      "Without Padding: loss = 0.5465202890241238 \taccuracy=0.5903845429420471\n",
      "\n",
      " ==== NO PADDING ==== \n",
      "\n",
      "That was such a good movie! ===> [[[0.0161148 ]\n",
      "  [0.02745106]\n",
      "  [0.03834603]\n",
      "  [0.04861787]\n",
      "  [0.05735411]\n",
      "  [0.06128221]\n",
      "  [0.06511625]]]\n",
      "That was terribly good! ===> [[[-0.0549936 ]\n",
      "  [-0.04631352]\n",
      "  [-0.03779726]\n",
      "  [-0.0234312 ]\n",
      "  [-0.01265819]]]\n",
      "That was such a bad movie! ===> [[[-0.21616684]\n",
      "  [-0.21382384]\n",
      "  [-0.2066185 ]\n",
      "  [-0.19837762]\n",
      "  [-0.18934178]\n",
      "  [-0.16632132]\n",
      "  [-0.14687526]]]\n",
      "Amazing! How can something so bad be out there! ===> [[[-0.46590015]\n",
      "  [-0.4776713 ]\n",
      "  [-0.48528588]\n",
      "  [-0.4855536 ]\n",
      "  [-0.48270944]\n",
      "  [-0.47006825]\n",
      "  [-0.45330885]\n",
      "  [-0.42784074]\n",
      "  [-0.40718427]\n",
      "  [-0.3771383 ]\n",
      "  [-0.3505407 ]\n",
      "  [-0.32767168]\n",
      "  [-0.30154362]]]\n"
     ]
    }
   ],
   "source": [
    "\n",
    "## train model \n",
    "fhist = train_model(model, train_x)\n",
    "print(\"\\n{}\\n\".format( fhist ) )\n",
    "\n",
    "## evaluate\n",
    "test_loss, test_acc = model.evaluate( test_x )\n",
    "print(\"\\nWithout Padding: loss = {} \\taccuracy={}\".format(test_loss, test_acc ) )\n",
    "\n",
    "# test_loss, test_acc = model.evaluate( pad_to_size(test_x , 64) ) \n",
    "# print(\"\\nWith Padding: loss = {} \\taccuracy={}\".format(test_loss, test_acc ) )\n",
    "\n",
    "## predict\n",
    "print(\"\\n ==== NO PADDING ==== \\n\")\n",
    "for s in sample_reviews:\n",
    "    print(\"{} ===> {}\".format(s, predict_sentiment(s) ) ) \n",
    "    \n",
    "# print(\"\\n ==== YES PADDING ==== \\n\")\n",
    "# for s in sample_reviews:\n",
    "#     print(\"{} ===> {}\".format(s, predict_sentiment(s, pad=True) ) ) "
   ]
  },
  {
   "cell_type": "code",
   "execution_count": 16,
   "metadata": {},
   "outputs": [
    {
     "data": {
      "image/png": "[encoded data removed]",
      "text/plain": [
       "<Figure size 432x288 with 1 Axes>"
      ]
     },
     "metadata": {
      "needs_background": "light"
     },
     "output_type": "display_data"
    },
    {
     "data": {
      "image/png": "[encoded data removed]",
      "text/plain": [
       "<Figure size 432x288 with 1 Axes>"
      ]
     },
     "metadata": {
      "needs_background": "light"
     },
     "output_type": "display_data"
    }
   ],
   "source": [
    "##### Graphs \n",
    "plot_graphs(fhist, 'accuracy')\n",
    "plot_graphs(fhist, 'loss')"
   ]
  },
  {
   "cell_type": "code",
   "execution_count": null,
   "metadata": {},
   "outputs": [
    {
     "name": "stdout",
     "output_type": "stream",
     "text": [
      "Epoch 1/4\n"
     ]
    }
   ],
   "source": [
    "## Let's check it out at 4 epochs where it seems to be at best performance\n",
    "## train model \n",
    "fhist = train_model(model, train_x, epochs=4, test_epochs=1,)\n",
    "print(\"\\n{}\\n\".format( fhist ) )\n",
    "\n",
    "## evaluate\n",
    "test_loss, test_acc = model.evaluate( test_x )\n",
    "print(\"\\nWithout Padding: loss = {} \\taccuracy={}\".format(test_loss, test_acc ) )\n",
    "\n",
    "# test_loss, test_acc = model.evaluate( pad_to_size(test_x , 64) ) \n",
    "# print(\"\\nWith Padding: loss = {} \\taccuracy={}\".format(test_loss, test_acc ) )\n",
    "\n",
    "## predict\n",
    "print(\"\\n ==== NO PADDING ==== \\n\")\n",
    "for s in sample_reviews:\n",
    "    print(\"{} ===> {}\".format(s, predict_sentiment(s) ) ) \n",
    "    "
   ]
  },
  {
   "cell_type": "code",
   "execution_count": null,
   "metadata": {},
   "outputs": [],
   "source": [
    "##### Graphs \n",
    "plot_graphs(fhist, 'accuracy')\n",
    "plot_graphs(fhist, 'loss')"
   ]
  },
  {
   "cell_type": "code",
   "execution_count": null,
   "metadata": {},
   "outputs": [],
   "source": []
  }
 ],
 "metadata": {
  "kernelspec": {
   "display_name": "Python 3",
   "language": "python",
   "name": "python3"
  },
  "language_info": {
   "codemirror_mode": {
    "name": "ipython",
    "version": 3
   },
   "file_extension": ".py",
   "mimetype": "text/x-python",
   "name": "python",
   "nbconvert_exporter": "python",
   "pygments_lexer": "ipython3",
   "version": "3.7.4"
  }
 },
 "nbformat": 4,
 "nbformat_minor": 2
}
