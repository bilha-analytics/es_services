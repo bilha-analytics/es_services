{
 "cells": [
  {
   "cell_type": "code",
   "execution_count": 1,
   "metadata": {},
   "outputs": [],
   "source": [
    "import pandas as pd\n",
    "import numpy as np\n",
    "import matplotlib.pyplot as plt\n",
    "import nltk\n",
    "\n",
    "import os, random\n",
    "\n",
    "%matplotlib inline"
   ]
  },
  {
   "cell_type": "code",
   "execution_count": 2,
   "metadata": {},
   "outputs": [],
   "source": [
    "## Going back to the basics once again @ tf.guide \n",
    "## https://developers.google.com/machine-learning/guides/text-classification/step-1 "
   ]
  },
  {
   "cell_type": "markdown",
   "metadata": {},
   "source": [
    "# Explore the data - IMDB\n",
    "Movie reviews and labels for if positive or negative"
   ]
  },
  {
   "cell_type": "code",
   "execution_count": 3,
   "metadata": {},
   "outputs": [],
   "source": [
    "def load_imdb_sentiment_analysis_dataset(data_path, seed=123):\n",
    "    \"\"\"Loads the IMDb movie reviews sentiment analysis dataset.\n",
    "\n",
    "    # Arguments\n",
    "        data_path: string, path to the data directory.\n",
    "        seed: int, seed for randomizer.\n",
    "\n",
    "    # Returns\n",
    "        A tuple of training and validation data.\n",
    "        Number of training samples: 25000\n",
    "        Number of test samples: 25000\n",
    "        Number of categories: 2 (0 - negative, 1 - positive)\n",
    "\n",
    "    # References\n",
    "        Mass et al., http://www.aclweb.org/anthology/P11-1015\n",
    "\n",
    "        Download and uncompress archive from:\n",
    "        http://ai.stanford.edu/~amaas/data/sentiment/aclImdb_v1.tar.gz\n",
    "    \"\"\"\n",
    "    imdb_data_path = os.path.join(data_path, 'aclImdb')\n",
    "\n",
    "    # Load the training data\n",
    "    train_texts = []\n",
    "    train_labels = []\n",
    "    for category in ['pos', 'neg']:\n",
    "        train_path = os.path.join(imdb_data_path, 'train', category)\n",
    "        for fname in sorted(os.listdir(train_path)):\n",
    "            if fname.endswith('.txt'):\n",
    "                try:\n",
    "                    with open(os.path.join(train_path, fname)) as f:\n",
    "                        train_texts.append(f.read())\n",
    "                    train_labels.append(0 if category == 'neg' else 1)\n",
    "                except: \n",
    "                    pass\n",
    "\n",
    "    # Load the validation data.\n",
    "    test_texts = []\n",
    "    test_labels = []\n",
    "    for category in ['pos', 'neg']:\n",
    "        test_path = os.path.join(imdb_data_path, 'test', category)\n",
    "        for fname in sorted(os.listdir(test_path)):\n",
    "            if fname.endswith('.txt'):\n",
    "                try:\n",
    "                    with open(os.path.join(test_path, fname)) as f:\n",
    "                        test_texts.append(f.read())\n",
    "                    test_labels.append(0 if category == 'neg' else 1)\n",
    "                except: \n",
    "                    pass\n",
    "\n",
    "    # Shuffle the training data and labels.\n",
    "    random.seed(seed)\n",
    "    random.shuffle(train_texts)\n",
    "    random.seed(seed)\n",
    "    random.shuffle(train_labels)\n",
    "\n",
    "    return ((np.array(train_texts), np.array(train_labels)),\n",
    "            (np.array(test_texts), np.array(test_labels)))\n",
    "    "
   ]
  },
  {
   "cell_type": "code",
   "execution_count": 4,
   "metadata": {},
   "outputs": [],
   "source": [
    "(train_x, train_y), (test_x, test_y) = load_imdb_sentiment_analysis_dataset( \"D:\\\\zRepoz\\\\datasets\\\\aclImdb_v1\")"
   ]
  },
  {
   "cell_type": "code",
   "execution_count": 5,
   "metadata": {},
   "outputs": [
    {
     "name": "stdout",
     "output_type": "stream",
     "text": [
      "Number of training observations: 1\n",
      "Number of testing observations: 1\n",
      "Number of unique labels/classes: Train = 2 : [0 1]\n",
      "Number of unique labels/classes: Test = 2 : [1 0]\n"
     ]
    }
   ],
   "source": [
    "print(\"Number of training observations: {}\".format(len(train_x.shape) ) )\n",
    "print(\"Number of testing observations: {}\".format(len(test_x.shape) ) )\n",
    "\n",
    "c = pd.Series(train_y).unique()\n",
    "print(\"Number of unique labels/classes: Train = {} : {}\".format(len(c), c) ) \n",
    "c = pd.Series(test_y).unique()\n",
    "print(\"Number of unique labels/classes: Test = {} : {}\".format(len(c), c) ) "
   ]
  },
  {
   "cell_type": "code",
   "execution_count": 6,
   "metadata": {},
   "outputs": [],
   "source": [
    "# # Words and vocabulary - training Vs test \n",
    "# for db in [train_x, test_x]:\n",
    "#     tokenz = nltk.word_tokenize( \" \".join( db ) )\n",
    "#     vocab = set([w.lower for w in tokenz])\n",
    "#     print( \"Number of words: {}, Vocab size: {}, Vocab-Word ratio: {}\".format(\n",
    "#         len(tokenz), len(vocab), len(vocab)/len(tokenz)\n",
    "#     ))"
   ]
  },
  {
   "cell_type": "code",
   "execution_count": 15,
   "metadata": {},
   "outputs": [
    {
     "name": "stdout",
     "output_type": "stream",
     "text": [
      "\n",
      " ----- train -----\n",
      "Number of words: 7050404, Vocab size: 134732, Vocab-Word ratio: 0.019109826897862874\n",
      "Most Common Words: \n",
      " [('the', 288934), (',', 275552), ('.', 236955), ('and', 156071), ('a', 155931), ('of', 143500), ('to', 133293), ('is', 109024), ('/', 102033), ('>', 101972)]\n"
     ]
    },
    {
     "data": {
      "image/png": "[encoded data removed]",
      "text/plain": [
       "<Figure size 432x288 with 1 Axes>"
      ]
     },
     "metadata": {
      "needs_background": "light"
     },
     "output_type": "display_data"
    },
    {
     "name": "stdout",
     "output_type": "stream",
     "text": [
      "\n",
      " ----- test -----\n",
      "Number of words: 6894989, Vocab size: 132716, Vocab-Word ratio: 0.01924818154169644\n",
      "Most Common Words: \n",
      " [('the', 283618), (',', 267819), ('.', 231902), ('a', 152768), ('and', 152428), ('of', 141243), ('to', 130074), ('is', 105426), ('/', 100252), ('>', 100142)]\n"
     ]
    },
    {
     "data": {
      "image/png": "[encoded data removed]",
      "text/plain": [
       "<Figure size 432x288 with 1 Axes>"
      ]
     },
     "metadata": {
      "needs_background": "light"
     },
     "output_type": "display_data"
    }
   ],
   "source": [
    "# using nltk @ train Vs test\n",
    "for db, dbname in [ (train_x, \"train\"), (test_x, \"test\")]:\n",
    "    print(\"\\n ----- {} -----\".format(dbname) )\n",
    "    fd = nltk.FreqDist( nltk.word_tokenize(\" \".join([ r for r in db]) )    )\n",
    "    \n",
    "#     tokenz = nltk.word_tokenize( db ) \n",
    "    vocab = set([w.lower for w in fd])\n",
    "    \n",
    "    print( \"Number of words: {}, Vocab size: {}, Vocab-Word ratio: {}\".format(\n",
    "        fd.N(), len(vocab), len(vocab)/fd.N()\n",
    "    ))\n",
    "    \n",
    "    print( \"Most Common Words: \\n\", fd.most_common(10) ) \n",
    "    \n",
    "    # plot top 50 words\n",
    "    fd.plot(50)\n",
    "    "
   ]
  },
  {
   "cell_type": "code",
   "execution_count": 17,
   "metadata": {},
   "outputs": [
    {
     "name": "stdout",
     "output_type": "stream",
     "text": [
      "Shapre of stats: 0        (71, 57, 0.8028169014084507, 0.04225352112676056)\n",
      "1        (154, 100, 0.6493506493506493, 0.0454545454545...\n",
      "2        (129, 89, 0.689922480620155, 0.05426356589147287)\n",
      "3        (329, 150, 0.45592705167173253, 0.072948328267...\n",
      "4        (398, 232, 0.5829145728643216, 0.0351758793969...\n",
      "                               ...                        \n",
      "24979    (222, 152, 0.6846846846846847, 0.0540540540540...\n",
      "24980    (213, 136, 0.6384976525821596, 0.0281690140845...\n",
      "24981    (372, 189, 0.5080645161290323, 0.0564516129032...\n",
      "24982    (335, 189, 0.564179104477612, 0.04179104477611...\n",
      "24983    (157, 104, 0.6624203821656051, 0.0382165605095...\n",
      "Length: 24984, dtype: object\n"
     ]
    }
   ],
   "source": [
    "# using nltk @ train entries\n",
    "\n",
    "def word_stats( rec_txt ): \n",
    "    fd = nltk.FreqDist( nltk.word_tokenize( rec_txt ) )\n",
    "    vocab = set([w.lower for w in fd])\n",
    "    # word count, vocab count, vocab richness, n of most common word\n",
    "    return ( fd.N(), len(vocab), len(vocab)/fd.N(), fd.freq( fd.max() )  )\n",
    "            \n",
    "    \n",
    "stats_per_review = pd.Series(train_x).apply( word_stats)\n",
    "\n",
    "print(\"Shapre of stats: {}\".format( stats_per_review) )\n"
   ]
  },
  {
   "cell_type": "code",
   "execution_count": 26,
   "metadata": {},
   "outputs": [
    {
     "name": "stdout",
     "output_type": "stream",
     "text": [
      "Summaries \n"
     ]
    },
    {
     "data": {
      "text/html": [
       "<div>\n",
       "<style scoped>\n",
       "    .dataframe tbody tr th:only-of-type {\n",
       "        vertical-align: middle;\n",
       "    }\n",
       "\n",
       "    .dataframe tbody tr th {\n",
       "        vertical-align: top;\n",
       "    }\n",
       "\n",
       "    .dataframe thead th {\n",
       "        text-align: right;\n",
       "    }\n",
       "</style>\n",
       "<table border=\"1\" class=\"dataframe\">\n",
       "  <thead>\n",
       "    <tr style=\"text-align: right;\">\n",
       "      <th></th>\n",
       "      <th>n_words</th>\n",
       "      <th>n_vocab</th>\n",
       "      <th>lexical_diversity</th>\n",
       "      <th>n_most_common_1</th>\n",
       "    </tr>\n",
       "  </thead>\n",
       "  <tbody>\n",
       "    <tr>\n",
       "      <td>count</td>\n",
       "      <td>24984.000000</td>\n",
       "      <td>24984.000000</td>\n",
       "      <td>24984.000000</td>\n",
       "      <td>24984.000000</td>\n",
       "    </tr>\n",
       "    <tr>\n",
       "      <td>mean</td>\n",
       "      <td>282.198407</td>\n",
       "      <td>153.607949</td>\n",
       "      <td>0.598191</td>\n",
       "      <td>0.056772</td>\n",
       "    </tr>\n",
       "    <tr>\n",
       "      <td>std</td>\n",
       "      <td>210.334267</td>\n",
       "      <td>86.442229</td>\n",
       "      <td>0.094301</td>\n",
       "      <td>0.018129</td>\n",
       "    </tr>\n",
       "    <tr>\n",
       "      <td>min</td>\n",
       "      <td>11.000000</td>\n",
       "      <td>11.000000</td>\n",
       "      <td>0.040268</td>\n",
       "      <td>0.023256</td>\n",
       "    </tr>\n",
       "    <tr>\n",
       "      <td>25%</td>\n",
       "      <td>151.000000</td>\n",
       "      <td>97.000000</td>\n",
       "      <td>0.534247</td>\n",
       "      <td>0.046125</td>\n",
       "    </tr>\n",
       "    <tr>\n",
       "      <td>50%</td>\n",
       "      <td>210.000000</td>\n",
       "      <td>127.000000</td>\n",
       "      <td>0.597786</td>\n",
       "      <td>0.054106</td>\n",
       "    </tr>\n",
       "    <tr>\n",
       "      <td>75%</td>\n",
       "      <td>344.000000</td>\n",
       "      <td>187.000000</td>\n",
       "      <td>0.658333</td>\n",
       "      <td>0.064103</td>\n",
       "    </tr>\n",
       "    <tr>\n",
       "      <td>max</td>\n",
       "      <td>2818.000000</td>\n",
       "      <td>727.000000</td>\n",
       "      <td>1.000000</td>\n",
       "      <td>0.946309</td>\n",
       "    </tr>\n",
       "  </tbody>\n",
       "</table>\n",
       "</div>"
      ],
      "text/plain": [
       "            n_words       n_vocab  lexical_diversity  n_most_common_1\n",
       "count  24984.000000  24984.000000       24984.000000     24984.000000\n",
       "mean     282.198407    153.607949           0.598191         0.056772\n",
       "std      210.334267     86.442229           0.094301         0.018129\n",
       "min       11.000000     11.000000           0.040268         0.023256\n",
       "25%      151.000000     97.000000           0.534247         0.046125\n",
       "50%      210.000000    127.000000           0.597786         0.054106\n",
       "75%      344.000000    187.000000           0.658333         0.064103\n",
       "max     2818.000000    727.000000           1.000000         0.946309"
      ]
     },
     "execution_count": 26,
     "metadata": {},
     "output_type": "execute_result"
    }
   ],
   "source": [
    "# summary stats per review \n",
    "mat = np.array(list(stats_per_review) )\n",
    "df = pd.DataFrame( mat )\n",
    "df.columns = [ 'n_words', 'n_vocab', 'lexical_diversity', 'n_most_common_1']\n",
    "df.head(4)\n",
    "print( \"Summaries \")\n",
    "df.describe()\n",
    "    "
   ]
  },
  {
   "cell_type": "code",
   "execution_count": null,
   "metadata": {},
   "outputs": [],
   "source": [
    "# "
   ]
  }
 ],
 "metadata": {
  "kernelspec": {
   "display_name": "Python 3",
   "language": "python",
   "name": "python3"
  },
  "language_info": {
   "codemirror_mode": {
    "name": "ipython",
    "version": 3
   },
   "file_extension": ".py",
   "mimetype": "text/x-python",
   "name": "python",
   "nbconvert_exporter": "python",
   "pygments_lexer": "ipython3",
   "version": "3.7.4"
  }
 },
 "nbformat": 4,
 "nbformat_minor": 2
}
