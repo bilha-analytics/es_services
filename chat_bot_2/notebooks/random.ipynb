{
 "cells": [
  {
   "cell_type": "code",
   "execution_count": null,
   "metadata": {},
   "outputs": [],
   "source": [
    "Coronavirus timeline:\n",
    "- January 19: 100 cases\n",
    "- January 24: 1,000 cases\n",
    "- February 12: 50,000 cases\n",
    "- March 6: 100,000 cases\n",
    "- March 18: 200,000 cases\n",
    "- March 21: 300,000 cases\n",
    "- March 24: 400,000 cases\n",
    "- March 26: 500,000 cases\n",
    "- March 28: 600,000 cases\n",
    "- March 29: 700,000 cases\n",
    "- March 31: 800,000 cases \n",
    "    \n",
    "    \n",
    "CoronaVirus in the EAC (Saturday 28th March)\n",
    "\n",
    "Rwanda - 60\n",
    "\n",
    "Kenya - 38\n",
    "\n",
    "Uganda - 30 \n",
    "\n",
    "Tanzania - 13\n",
    "\n",
    "Burundi - 0"
   ]
  }
 ],
 "metadata": {
  "kernelspec": {
   "display_name": "Python 3",
   "language": "python",
   "name": "python3"
  },
  "language_info": {
   "codemirror_mode": {
    "name": "ipython",
    "version": 3
   },
   "file_extension": ".py",
   "mimetype": "text/x-python",
   "name": "python",
   "nbconvert_exporter": "python",
   "pygments_lexer": "ipython3",
   "version": "3.7.4"
  }
 },
 "nbformat": 4,
 "nbformat_minor": 2
}
