{
 "cells": [
  {
   "cell_type": "markdown",
   "metadata": {},
   "source": [
    "# Intro\n",
    "Review how to do text classification using TensorFlow and Keras.\n",
    "- Using some nlkt for stats \n",
    "- Using sklearn for feature_extraction \n",
    "- Notes on choosing vectorization approach and model type \n",
    "- IMDB reviews dataset and n-gram MLP model \n",
    "- [Ref: Google ML Guide on Text Classification](https://developers.google.com/machine-learning/guides/text-classification)"
   ]
  },
  {
   "cell_type": "raw",
   "metadata": {},
   "source": [
    "<script>\n",
    "code_show=true; \n",
    "function code_toggle() {\n",
    " if (code_show){\n",
    " $('div.input').hide();\n",
    " } else {\n",
    " $('div.input').show();\n",
    " }\n",
    " code_show = !code_show\n",
    "} \n",
    "$( document ).ready(code_toggle);\n",
    "</script>\n",
    "<a href=\"javascript:code_toggle()\">Show/Hide Code</a>."
   ]
  },
  {
   "cell_type": "code",
   "execution_count": 1,
   "metadata": {},
   "outputs": [],
   "source": [
    "import pandas as pd\n",
    "import numpy as np\n",
    "import matplotlib.pyplot as plt\n",
    "import nltk\n",
    "\n",
    "import os, random\n",
    "\n",
    "%matplotlib inline\n",
    "\n",
    "import warnings\n",
    "warnings.filterwarnings('ignore')"
   ]
  },
  {
   "cell_type": "code",
   "execution_count": 2,
   "metadata": {},
   "outputs": [],
   "source": [
    "## Going back to the basics once again @ tf.guide \n",
    "## https://developers.google.com/machine-learning/guides/text-classification/step-1 "
   ]
  },
  {
   "cell_type": "markdown",
   "metadata": {},
   "source": [
    "# A. Explore the data - IMDB\n",
    "Movie reviews and labels for if positive or negative"
   ]
  },
  {
   "cell_type": "code",
   "execution_count": 3,
   "metadata": {},
   "outputs": [],
   "source": [
    "def load_imdb_sentiment_analysis_dataset(data_path, seed=123):\n",
    "    \"\"\"Loads the IMDb movie reviews sentiment analysis dataset.\n",
    "\n",
    "    # Arguments\n",
    "        data_path: string, path to the data directory.\n",
    "        seed: int, seed for randomizer.\n",
    "\n",
    "    # Returns\n",
    "        A tuple of training and validation data.\n",
    "        Number of training samples: 25000\n",
    "        Number of test samples: 25000\n",
    "        Number of categories: 2 (0 - negative, 1 - positive)\n",
    "\n",
    "    # References\n",
    "        Mass et al., http://www.aclweb.org/anthology/P11-1015\n",
    "\n",
    "        Download and uncompress archive from:\n",
    "        http://ai.stanford.edu/~amaas/data/sentiment/aclImdb_v1.tar.gz\n",
    "    \"\"\"\n",
    "    imdb_data_path = os.path.join(data_path, 'aclImdb')\n",
    "\n",
    "    # Load the training data\n",
    "    train_texts = []\n",
    "    train_labels = []\n",
    "    for category in ['pos', 'neg']:\n",
    "        train_path = os.path.join(imdb_data_path, 'train', category)\n",
    "        for fname in sorted(os.listdir(train_path)):\n",
    "            if fname.endswith('.txt'):\n",
    "                try:\n",
    "                    with open(os.path.join(train_path, fname)) as f:\n",
    "                        train_texts.append(f.read())\n",
    "                    train_labels.append(0 if category == 'neg' else 1)\n",
    "                except: \n",
    "                    pass\n",
    "\n",
    "    # Load the validation data.\n",
    "    test_texts = []\n",
    "    test_labels = []\n",
    "    for category in ['pos', 'neg']:\n",
    "        test_path = os.path.join(imdb_data_path, 'test', category)\n",
    "        for fname in sorted(os.listdir(test_path)):\n",
    "            if fname.endswith('.txt'):\n",
    "                try:\n",
    "                    with open(os.path.join(test_path, fname)) as f:\n",
    "                        test_texts.append(f.read())\n",
    "                    test_labels.append(0 if category == 'neg' else 1)\n",
    "                except: \n",
    "                    pass\n",
    "\n",
    "    # Shuffle the training data and labels.\n",
    "    random.seed(seed)\n",
    "    random.shuffle(train_texts)\n",
    "    random.seed(seed)\n",
    "    random.shuffle(train_labels)\n",
    "\n",
    "    return ((np.array(train_texts), np.array(train_labels)),\n",
    "            (np.array(test_texts), np.array(test_labels)))\n",
    "    "
   ]
  },
  {
   "cell_type": "code",
   "execution_count": 4,
   "metadata": {},
   "outputs": [],
   "source": [
    "(train_x, train_y), (test_x, test_y) = load_imdb_sentiment_analysis_dataset( \"D:\\\\zRepoz\\\\datasets\\\\aclImdb_v1\")"
   ]
  },
  {
   "cell_type": "code",
   "execution_count": 5,
   "metadata": {},
   "outputs": [
    {
     "name": "stdout",
     "output_type": "stream",
     "text": [
      "Number of training observations: 1\n",
      "Number of testing observations: 1\n",
      "Number of unique labels/classes: Train = 2 : [0 1]\n",
      "Number of unique labels/classes: Test = 2 : [1 0]\n",
      "Sample text: There's nothing wrong with a popcorn movie to keep you off the streets. It's just that some are better than others. This is very poor. The acting is awful, the script dire; and the special effects overrated.<br /><br />Why does Hollywood treat it's audience with such contempt? And why have they made a sequel?\n"
     ]
    }
   ],
   "source": [
    "print(\"Number of training observations: {}\".format(len(train_x.shape) ) )\n",
    "print(\"Number of testing observations: {}\".format(len(test_x.shape) ) )\n",
    "\n",
    "c = pd.Series(train_y).unique()\n",
    "print(\"Number of unique labels/classes: Train = {} : {}\".format(len(c), c) ) \n",
    "c = pd.Series(test_y).unique()\n",
    "print(\"Number of unique labels/classes: Test = {} : {}\".format(len(c), c) ) \n",
    "\n",
    "print(\"Sample text: {}\".format(train_x[0] ) )"
   ]
  },
  {
   "cell_type": "code",
   "execution_count": 6,
   "metadata": {},
   "outputs": [],
   "source": [
    "# # Words and vocabulary - training Vs test \n",
    "# for db in [train_x, test_x]:\n",
    "#     tokenz = nltk.word_tokenize( \" \".join( db ) )\n",
    "#     vocab = set([w.lower for w in tokenz])\n",
    "#     print( \"Number of words: {}, Vocab size: {}, Vocab-Word ratio: {}\".format(\n",
    "#         len(tokenz), len(vocab), len(vocab)/len(tokenz)\n",
    "#     ))"
   ]
  },
  {
   "cell_type": "code",
   "execution_count": 7,
   "metadata": {},
   "outputs": [
    {
     "name": "stdout",
     "output_type": "stream",
     "text": [
      "\n",
      " ----- train -----\n",
      "Number of words: 7050404, Vocab size: 134732, Vocab-Word ratio: 0.019109826897862874\n",
      "Most Common Words: \n",
      " [('the', 288934), (',', 275552), ('.', 236955), ('and', 156071), ('a', 155931), ('of', 143500), ('to', 133293), ('is', 109024), ('/', 102033), ('>', 101972)]\n"
     ]
    },
    {
     "data": {
      "image/png": "[encoded data removed]",
      "text/plain": [
       "<Figure size 432x288 with 1 Axes>"
      ]
     },
     "metadata": {
      "needs_background": "light"
     },
     "output_type": "display_data"
    },
    {
     "name": "stdout",
     "output_type": "stream",
     "text": [
      "\n",
      " ----- test -----\n",
      "Number of words: 6894989, Vocab size: 132716, Vocab-Word ratio: 0.01924818154169644\n",
      "Most Common Words: \n",
      " [('the', 283618), (',', 267819), ('.', 231902), ('a', 152768), ('and', 152428), ('of', 141243), ('to', 130074), ('is', 105426), ('/', 100252), ('>', 100142)]\n"
     ]
    },
    {
     "data": {
      "image/png": "[encoded data removed]",
      "text/plain": [
       "<Figure size 432x288 with 1 Axes>"
      ]
     },
     "metadata": {
      "needs_background": "light"
     },
     "output_type": "display_data"
    }
   ],
   "source": [
    "# using nltk @ train Vs test\n",
    "for db, dbname in [ (train_x, \"train\"), (test_x, \"test\")]:\n",
    "    print(\"\\n ----- {} -----\".format(dbname) )\n",
    "    fd = nltk.FreqDist( nltk.word_tokenize(\" \".join([ r for r in db]) )    )\n",
    "    \n",
    "#     tokenz = nltk.word_tokenize( db ) \n",
    "    vocab = set([w.lower for w in fd])\n",
    "    \n",
    "    print( \"Number of words: {}, Vocab size: {}, Vocab-Word ratio: {}\".format(\n",
    "        fd.N(), len(vocab), len(vocab)/fd.N()\n",
    "    ))\n",
    "    \n",
    "    print( \"Most Common Words: \\n\", fd.most_common(10) ) \n",
    "    \n",
    "    # plot top 50 words\n",
    "    fd.plot(50)\n",
    "    "
   ]
  },
  {
   "cell_type": "code",
   "execution_count": 8,
   "metadata": {},
   "outputs": [
    {
     "name": "stdout",
     "output_type": "stream",
     "text": [
      "Shapre of stats: 0        (71, 57, 0.8028169014084507, 0.04225352112676056)\n",
      "1        (154, 100, 0.6493506493506493, 0.0454545454545...\n",
      "2        (129, 89, 0.689922480620155, 0.05426356589147287)\n",
      "3        (329, 150, 0.45592705167173253, 0.072948328267...\n",
      "4        (398, 232, 0.5829145728643216, 0.0351758793969...\n",
      "                               ...                        \n",
      "24979    (222, 152, 0.6846846846846847, 0.0540540540540...\n",
      "24980    (213, 136, 0.6384976525821596, 0.0281690140845...\n",
      "24981    (372, 189, 0.5080645161290323, 0.0564516129032...\n",
      "24982    (335, 189, 0.564179104477612, 0.04179104477611...\n",
      "24983    (157, 104, 0.6624203821656051, 0.0382165605095...\n",
      "Length: 24984, dtype: object\n"
     ]
    }
   ],
   "source": [
    "# using nltk @ train entries\n",
    "\n",
    "def word_stats( rec_txt ): \n",
    "    fd = nltk.FreqDist( nltk.word_tokenize( rec_txt ) )\n",
    "    vocab = set([w.lower for w in fd])\n",
    "    # word count, vocab count, vocab richness, n of most common word\n",
    "    return ( fd.N(), len(vocab), len(vocab)/fd.N(), fd.freq( fd.max() )  )\n",
    "            \n",
    "    \n",
    "stats_per_review = pd.Series(train_x).apply( word_stats)\n",
    "\n",
    "print(\"Shapre of stats: {}\".format( stats_per_review) )\n"
   ]
  },
  {
   "cell_type": "code",
   "execution_count": 9,
   "metadata": {},
   "outputs": [
    {
     "name": "stdout",
     "output_type": "stream",
     "text": [
      "Summaries \n"
     ]
    },
    {
     "data": {
      "text/html": [
       "<div>\n",
       "<style scoped>\n",
       "    .dataframe tbody tr th:only-of-type {\n",
       "        vertical-align: middle;\n",
       "    }\n",
       "\n",
       "    .dataframe tbody tr th {\n",
       "        vertical-align: top;\n",
       "    }\n",
       "\n",
       "    .dataframe thead th {\n",
       "        text-align: right;\n",
       "    }\n",
       "</style>\n",
       "<table border=\"1\" class=\"dataframe\">\n",
       "  <thead>\n",
       "    <tr style=\"text-align: right;\">\n",
       "      <th></th>\n",
       "      <th>n_words</th>\n",
       "      <th>n_vocab</th>\n",
       "      <th>lexical_diversity</th>\n",
       "      <th>n_most_common_1</th>\n",
       "    </tr>\n",
       "  </thead>\n",
       "  <tbody>\n",
       "    <tr>\n",
       "      <td>count</td>\n",
       "      <td>24984.000000</td>\n",
       "      <td>24984.000000</td>\n",
       "      <td>24984.000000</td>\n",
       "      <td>24984.000000</td>\n",
       "    </tr>\n",
       "    <tr>\n",
       "      <td>mean</td>\n",
       "      <td>282.198407</td>\n",
       "      <td>153.607949</td>\n",
       "      <td>0.598191</td>\n",
       "      <td>0.056772</td>\n",
       "    </tr>\n",
       "    <tr>\n",
       "      <td>std</td>\n",
       "      <td>210.334267</td>\n",
       "      <td>86.442229</td>\n",
       "      <td>0.094301</td>\n",
       "      <td>0.018129</td>\n",
       "    </tr>\n",
       "    <tr>\n",
       "      <td>min</td>\n",
       "      <td>11.000000</td>\n",
       "      <td>11.000000</td>\n",
       "      <td>0.040268</td>\n",
       "      <td>0.023256</td>\n",
       "    </tr>\n",
       "    <tr>\n",
       "      <td>25%</td>\n",
       "      <td>151.000000</td>\n",
       "      <td>97.000000</td>\n",
       "      <td>0.534247</td>\n",
       "      <td>0.046125</td>\n",
       "    </tr>\n",
       "    <tr>\n",
       "      <td>50%</td>\n",
       "      <td>210.000000</td>\n",
       "      <td>127.000000</td>\n",
       "      <td>0.597786</td>\n",
       "      <td>0.054106</td>\n",
       "    </tr>\n",
       "    <tr>\n",
       "      <td>75%</td>\n",
       "      <td>344.000000</td>\n",
       "      <td>187.000000</td>\n",
       "      <td>0.658333</td>\n",
       "      <td>0.064103</td>\n",
       "    </tr>\n",
       "    <tr>\n",
       "      <td>max</td>\n",
       "      <td>2818.000000</td>\n",
       "      <td>727.000000</td>\n",
       "      <td>1.000000</td>\n",
       "      <td>0.946309</td>\n",
       "    </tr>\n",
       "  </tbody>\n",
       "</table>\n",
       "</div>"
      ],
      "text/plain": [
       "            n_words       n_vocab  lexical_diversity  n_most_common_1\n",
       "count  24984.000000  24984.000000       24984.000000     24984.000000\n",
       "mean     282.198407    153.607949           0.598191         0.056772\n",
       "std      210.334267     86.442229           0.094301         0.018129\n",
       "min       11.000000     11.000000           0.040268         0.023256\n",
       "25%      151.000000     97.000000           0.534247         0.046125\n",
       "50%      210.000000    127.000000           0.597786         0.054106\n",
       "75%      344.000000    187.000000           0.658333         0.064103\n",
       "max     2818.000000    727.000000           1.000000         0.946309"
      ]
     },
     "execution_count": 9,
     "metadata": {},
     "output_type": "execute_result"
    }
   ],
   "source": [
    "# summary stats per review \n",
    "mat = np.array(list(stats_per_review) )\n",
    "df = pd.DataFrame( mat )\n",
    "df.columns = [ 'n_words', 'n_vocab', 'lexical_diversity', 'n_most_common_1']\n",
    "df.head(4)\n",
    "print( \"Summaries \")\n",
    "df.describe()\n",
    "    "
   ]
  },
  {
   "cell_type": "code",
   "execution_count": 10,
   "metadata": {},
   "outputs": [
    {
     "data": {
      "image/png": "[encoded data removed]",
      "text/plain": [
       "<Figure size 432x288 with 1 Axes>"
      ]
     },
     "metadata": {
      "needs_background": "light"
     },
     "output_type": "display_data"
    }
   ],
   "source": [
    "# distribution plots\n",
    "plt.hist( df.n_words, bins=100 ); "
   ]
  },
  {
   "cell_type": "markdown",
   "metadata": {},
   "source": [
    "# B. Data Prep & Model Building"
   ]
  },
  {
   "cell_type": "markdown",
   "metadata": {},
   "source": [
    "### Guide from Tensor Team\n",
    "\n",
    "**How to Go About It** \n",
    "1. Calculate (n_observations / avg_words_per_observation ) t_ratio\n",
    "2. If above t_ratio < 1500, tokenize as n-grams and use a simple multi-layer perceptron (MLP) model to classify\n",
    "\n",
    "    a. tokenize into n-grams and vectorize \n",
    "    \n",
    "    b. Score importance of the vectors and then select top 20K << tf-idf \n",
    "    \n",
    "    c. build the multi-layer perceptron model\n",
    "    \n",
    "3. Else t_ratio > 1500, tokenize as words/sequences and use a sepCNN model to classify \n",
    "\n",
    "    a. tokenize into words and select top 20K words based on frequency \n",
    "    \n",
    "    b. vectorize the word sequences\n",
    "    \n",
    "    c. If t_ratio < 15,000, then use a fine-tuned pre-trained embedding with the sepCNN model.\n",
    "    \n",
    "4. Measure model performance with different hyper params to find best model configuration\n",
    "\n",
    "\n",
    "**So, above informs**\n",
    "- what learning algorighm or model to use\n",
    "- how to prepare the data for efficient learning \n",
    "\n",
    "The above is optimized for the best accuracy that could be achieved in the shortest compute time possible. Alternate approaches may fit better depending on what the goal is and data xtics\n",
    "\n",
    "\n",
    "[Ref @TensorGuide](https://developers.google.com/machine-learning/guides/text-classification/step-2-5)\n"
   ]
  },
  {
   "cell_type": "code",
   "execution_count": 11,
   "metadata": {},
   "outputs": [
    {
     "name": "stdout",
     "output_type": "stream",
     "text": [
      "threshold ratio: 88.53345512233625\n",
      "From n = 24984, avg_words  282.1984069804675\n"
     ]
    }
   ],
   "source": [
    "t_ratio = len(df) / df.n_words.mean()\n",
    "print(\"threshold ratio: {}\\nFrom n = {}, avg_words  {}\".format(t_ratio, len(df), df.n_words.mean() ) )"
   ]
  },
  {
   "cell_type": "markdown",
   "metadata": {},
   "source": [
    "From above t_ratio, then we need n-grams bow approach with an MLP\n",
    "\n",
    "**Model Types**\n",
    "- Those that use word ordering I.E. sequence models like CNN, RNN\n",
    "- Those that use bags/sets of words I.E. n-gram models like logit, simple MLP or fully connected NNs, gradient boosted trees and SVM\n",
    "\n",
    "\n",
    "### 1. Vectorization for n-gram models\n",
    "\n",
    "**Vectorization**\n",
    "TF-IDF > Count Encoding > One-hot Encoding \n",
    "A sample is a vector \n",
    "\n",
    "\n",
    "**Feature Selection**\n",
    "- may drop tokens extremly rare in the dataset\n",
    "- Score feature importance and keep most relevant. Often case 20K features max suffice else may overfit. \n",
    "\n",
    "**Normalization**\n",
    "Doesn't seem to add much value to text classification\n",
    "\n",
    "\n",
    "### 2. Vectorization for sequence models\n",
    "When word order is important\n",
    "\n",
    "Samples are not individual words but a sequence of words \n",
    "\n",
    "**Tokenization**\n",
    "word tokens out do character tokens. xter tokens may be used if texts have lots of typos, which is rare\n",
    "\n",
    "**Vectorization**\n",
    "Word embeddings > One-hot encoding \n",
    "A sample is n-D vector, where n = size(vocabulary) \n",
    "\n",
    "**Feature Selection**\n",
    "Same as with n-gram based models \n",
    "\n",
    "\n",
    "### 3. Label vectorization\n",
    "- Convert labels into numeric values like with an index \n",
    "- Internally, NNs will represent them using one-hot encoding to avoid inferring incorrect relations between them\n",
    "\n",
    "\n",
    "[Ref @Tensor Guide](https://developers.google.com/machine-learning/guides/text-classification/step-3)"
   ]
  },
  {
   "cell_type": "code",
   "execution_count": 12,
   "metadata": {},
   "outputs": [],
   "source": [
    "# for n-gram based vectorization \n",
    "from sklearn.feature_extraction.text import TfidfVectorizer\n",
    "from sklearn.feature_selection import SelectKBest\n",
    "from sklearn.feature_selection import f_classif\n",
    "\n",
    "# for sequence based vectorization\n",
    "from tensorflow.python.keras.preprocessing import sequence\n",
    "from tensorflow.python.keras.preprocessing import text\n",
    "\n",
    "# pickle vectorization models iff case e.g. with TF-IDF\n",
    "import pickle "
   ]
  },
  {
   "cell_type": "code",
   "execution_count": 13,
   "metadata": {},
   "outputs": [],
   "source": [
    "## Data prep into n-grams\n",
    "# 80% training split. Shuffle to clear inherent patterns in the db structure \n",
    "# How: 1. tokenize(n-grams, n>=1) 2. Vectorize(numerics) 3. Optimize vector rep\n",
    "\n",
    "max_featurez = 20000\n",
    "min_fq_for_relevance = 2\n",
    "\n",
    "\n",
    "'''\n",
    "n-gram based vectorization \n",
    "\n",
    "'''\n",
    "ngramz = (1,2)\n",
    "TOKEN_MODE = 'word' # word Vs character level \n",
    "\n",
    "def ngram_vectorizer(train_x, train_y, test_x):\n",
    "    # Create keyword arguments to pass to the 'tf-idf' vectorizer.\n",
    "    kwargs = {\n",
    "            'ngram_range': ngramz,  # Use 1-grams + 2-grams.\n",
    "            'dtype': 'int32',\n",
    "            'strip_accents': 'unicode',\n",
    "            'decode_error': 'replace',\n",
    "            'analyzer': TOKEN_MODE,  # Split text into word tokens.\n",
    "            'min_df': min_fq_for_relevance,\n",
    "    }\n",
    "    \n",
    "    tmd = TfidfVectorizer( **kwargs)\n",
    "    \n",
    "    #learn vocab from training set and vectorize\n",
    "    v_train_x = tmd.fit_transform( train_x) \n",
    "    v_test_x = tmd.transform( test_x)\n",
    "        \n",
    "    print( v_train_x[0] )\n",
    "    \n",
    "    # select top k features by f_classif and convert the vector to dense matrix b/c CountVectorizer produces sparse and tf and keras don't deal\n",
    "    selector = SelectKBest( f_classif, k=min(max_featurez, v_train_x.shape[1] ) )\n",
    "    selector.fit( v_train_x, train_y) \n",
    "    v_train_x = selector.transform( v_train_x).astype('float32').toarray().astype('float32')\n",
    "    v_test_x = selector.transform( v_test_x).astype('float32').toarray().astype('float32')\n",
    "    \n",
    "    # pickle the tmd for reuse at predict b/c encode input in same way \n",
    "    with open('tfidf_trained_model.zmd', 'wb') as fd:\n",
    "        pickle.dump(tmd, fd)\n",
    "        \n",
    "    with open('tfidf_trained_selector.zmd', 'wb') as fd:\n",
    "        pickle.dump(selector, fd)\n",
    "        \n",
    "    return v_train_x, v_test_x\n",
    "\n",
    "\n",
    "'''\n",
    "sequence based vectorization using keras\n",
    "'''\n",
    "max_seq_len = 500 #limit seq len; extras are truncated \n",
    "\n",
    "def sequence_vectorizer(train_x, test_y):\n",
    "    \n",
    "    #create vocab from training text \n",
    "    tokenizer = text.Tokenizer(num_words=max_featurez) \n",
    "    tokenizer.fit_on_texts( train_x )\n",
    "    \n",
    "    #vectorize @ \n",
    "    v_train_x = tokenizer.texts_to_sequences( train_x )\n",
    "    v_test_x = tokenizer.texts_to_sequences( test_x ) \n",
    "    \n",
    "#     print(v_train_x[0])\n",
    "    \n",
    "    # select top k features by \n",
    "    #get max sequence length \n",
    "    max_l = min( len( max(x_train, key=len) ), max_seq_len )\n",
    "    #fix sequences to max_seq_len by 1. pad shorter lengths and 2. truncate longer ones at the beginning\n",
    "    v_train_x = sequence.pad_sequences(v_train_x, maxlen=max_l)\n",
    "    v_test_x = sequence.pad_sequences(v_test_x, maxlen=max_l)\n",
    "    \n",
    "    return v_train_x, v_test_x, tokenizer.word_index\n"
   ]
  },
  {
   "cell_type": "markdown",
   "metadata": {},
   "source": [
    "# C. Model Building"
   ]
  },
  {
   "cell_type": "markdown",
   "metadata": {},
   "source": [
    "### 1. Constructing Last/Output Layer \n",
    "**Binary Classification**\n",
    "- Single output b/c p(in A) = p( not in B)\n",
    "- @tf.keras\n",
    "\n",
    "    - activation function = sigmoid,  \n",
    "    - loss function = binary cross-entropy, \n",
    "    \n",
    "**Multi-Class Classification**\n",
    "- n outputs where n is number of classes; one p(x) per class with sum 1\n",
    "- @tf.keras\n",
    "\n",
    "    - activation function = softmax,  \n",
    "    - loss function = categorical cross-entropy, \n",
    "    \n",
    "### 2. Constructing n-gram model\n",
    "- recall: logits, gradient boosting machines, MLP, SVM\n",
    "- MLP often does better; simple, good accuracy, little computation \n",
    "\n",
    "\n",
    "### 3. Constructing sequence model \n",
    "- recall: CNN, RNN,\n",
    "- SepCNN found to do better and is data and compute efficient \n",
    "- First layer is usually the embedding layer, that learns relationship between words in a dense vector space\n",
    "- Words are often not unique to a dataset (in same lang) so can borrow embeddings learnt from other datasets; i.e. pre-trained embeddings e.g. GloVe (Wikipedia data mainly, so may missout on conversation aspects of a chat or review for instance??)\n",
    "\n",
    "    - **Fine tuned emebdding:** At first round, freeze to pretrained embedding weights and train rest of the layers. At subsequent round allow embedding layer to also learn. For large datasets may be just as good as training embeddings from scratch\n",
    "    \n",
    "- \n",
    "    \n",
    "[Ref @TensorGuide](https://developers.google.com/machine-learning/guides/text-classification/step-4)"
   ]
  },
  {
   "cell_type": "code",
   "execution_count": 14,
   "metadata": {},
   "outputs": [],
   "source": [
    "from tensorflow import keras"
   ]
  },
  {
   "cell_type": "code",
   "execution_count": 15,
   "metadata": {},
   "outputs": [],
   "source": [
    "## 1. output layer define args  \n",
    "def get_last_layer(n_classez):\n",
    "    if n_classez == 2:\n",
    "        activation = 'sigmoid'\n",
    "        units = 1\n",
    "    else:\n",
    "        activation = 'softmax'\n",
    "        units = n_classez\n",
    "    return units, activation\n",
    "\n",
    "## 2. n-gram based MLP \n",
    "'''\n",
    "- dropout layer for regularization to prevent overfitting \n",
    "'''\n",
    "def ngram_mlp_model(n_hidden_layerz, hidden_unitz, dropout_ratez, input_shapez, n_classez):\n",
    "    \n",
    "    out_unitz, out_activation = get_last_layer(n_classez)\n",
    "    \n",
    "    md = keras.models.Sequential()\n",
    "    \n",
    "    md.add( keras.layers.Dropout(rate=dropout_ratez, input_shape=input_shapez) ) \n",
    "    \n",
    "    for _ in range(n_hidden_layerz - 1):\n",
    "        md.add( keras.layers.Dense(units=hidden_unitz, activation='relu') ) \n",
    "        md.add( keras.layers.Dropout(rate=dropout_ratez))\n",
    "        \n",
    "    md.add( keras.layers.Dense(units=out_unitz, activation=out_activation) ) \n",
    "    \n",
    "    return( md )\n",
    "\n",
    "## 3. sequence based model @ \n",
    "'''\n",
    "A 4-layer SepCNN (depthwise separable CNN): https://arxiv.org/abs/1610.02357 \n",
    "'''\n",
    "def seq_sepCNN(\n",
    "    blockz, # number of pairs of sepCNN and pooling blocks \n",
    "    filterz, # output dimension of the layers\n",
    "    kernel_sizez, # len of the convolution window \n",
    "    embedding_dimz, # embedding vector dimension \n",
    "    dropout_ratez,  # for Dropout layer\n",
    "    pool_sizez, # for MaxPooling layer \n",
    "    input_shapez, n_classez, n_featurez,\n",
    "    use_pretrained_embeddz = False, \n",
    "    is_embedding_trainablez = False,\n",
    "    embedding_matrixz = None # dict with embedding coefficients \n",
    "): \n",
    "    out_unitz, out_activation = get_last_layer(n_classez)\n",
    "    \n",
    "    md = keras.models.Sequential()\n",
    "    \n",
    "    #Embedding Layer: set if pre-trained and freeze or unfreeze as required \n",
    "    if use_pretrained_embeddz:\n",
    "        md.add( keras.layers.Embedding(\n",
    "            input_dim = n_featurez,\n",
    "            output_dim = embedding_dimz,\n",
    "            input_length = input_shapez[0], \n",
    "            weights = [embedding_matrixz],\n",
    "            trainable = is_embedding_trainablez ))        \n",
    "    else:\n",
    "        md.add( keras.layers.Embedding(\n",
    "            input_dim = n_featurez,\n",
    "            output_dim = embedding_dimz,\n",
    "            input_length = input_shapez[0] ))\n",
    "        \n",
    "    for _ in range( blockz - 1):\n",
    "        md.add( keras.layers.Dropout( rate=dropout_ratez) )\n",
    "        md.add( keras.layers.SeparableConv1D(\n",
    "            filters = filterz, \n",
    "            kernel_size = kernel_sizez, \n",
    "            activation = 'relu', \n",
    "            bias_initializer = 'random_uniform', \n",
    "            depthwise_initializer = 'random_uniform', \n",
    "            padding = 'same' ))\n",
    "        md.add(keras.layers.MaxPooling1D(pool_size=pool_sizez) ) \n",
    "    \n",
    "    md.add( keras.layers.SeparableConv1D(\n",
    "        filters = filterz * 2, \n",
    "        kernel_size = kernel_sizez, \n",
    "        activation = 'relu', \n",
    "        bias_initializer = 'random_uniform', \n",
    "        depthwise_initializer = 'random_uniform', \n",
    "        padding = 'same' ))\n",
    "    \n",
    "    md.add( keras.layers.SeparableConv1D(\n",
    "        filters = filterz * 2, \n",
    "        kernel_size = kernel_sizez, \n",
    "        activation = 'relu', \n",
    "        bias_initializer = 'random_uniform', \n",
    "        depthwise_initializer = 'random_uniform', \n",
    "        padding = 'same' ))\n",
    "    \n",
    "    md.add( keras.layers.GlobalAveragePooling1D( ) )\n",
    "    \n",
    "    md.add( keras.layers.Dropout(rate=dropout_ratez) )\n",
    "    \n",
    "    md.add( keras.layers.Dense(out_unitz, activation=out_activation) )\n",
    "    \n",
    "    return md"
   ]
  },
  {
   "cell_type": "code",
   "execution_count": 16,
   "metadata": {},
   "outputs": [],
   "source": [
    "# ngram_mlp_model(4, 10, 0.1, [14, 3], 3).summary()\n",
    "\n",
    "# seq_sepCNN( 2, 11, 3, 7, 0.1, 4, [14, 3], 3, 13).summary()\n"
   ]
  },
  {
   "cell_type": "markdown",
   "metadata": {},
   "source": [
    "# D. Training the Model\n",
    "predict using current model state --> assess goodness --> update model weights and params --> repeat to convergence \n",
    "\n",
    "Three key params\n",
    "1. **Metric:** how to assess goodness. E.G. accuracy= n(correct)/n(all samples) \n",
    "2. **Loss Function:** loss to be minimize while tuning weights. E.G. cross-entropy, which works well for classification problems \n",
    "3. **Optimizer:** how weights are updated using loss function output. E.G. adam, which is popular \n",
    "\n",
    "**Training hyper params**\n",
    "General \n",
    "- Number of layers: Represents complexity of how much to be learnt and so over/underfitting. For text classification: 2 hidden layers for MLP and 4 for sepCNN\n",
    "\n",
    "- Number of units per layer: Try to minimize information loss between layers. 32 or 64 units seem to do \n",
    "\n",
    "- Dropout rate: Dropout layers are for regularization to avoid overfitting. 0.2 to 0.5 should do\n",
    "\n",
    "- Learning rate: rate at which weights change; large rate = large swings. Start at 1e-4 and increase if training is too slow. Check out decreasing rate learning rate too.  \n",
    "\n",
    "SepCNN specific \n",
    "- Kernel size: convolution window size. Go for 3 or 5. \n",
    "\n",
    "- Embedding dimension: recommended = 50 - 300. \n"
   ]
  },
  {
   "cell_type": "code",
   "execution_count": 17,
   "metadata": {},
   "outputs": [],
   "source": [
    "### Add learning params to keras models using model.compile \n",
    "### Training keras models using model.fit \n",
    "\n",
    "def train_ngram_model(\n",
    "    train_test_data, \n",
    "    learning_rate=1e-3, epochs=10, batch_size=128, layerz=2, unitz=64, dropout=0.2 ):\n",
    "    \n",
    "    # 1. fetch data \n",
    "    (train_x, train_y), (test_x, test_y) = train_test_data\n",
    "    \n",
    "    #TODO: verify n_classes are similar between test and train \n",
    "    num_classez = len( pd.Series(train_y).unique() )\n",
    "    \n",
    "    # 2. vectorize texts \n",
    "    v_train_x, v_test_x = ngram_vectorizer( train_x, train_y, test_x)\n",
    "    \n",
    "    # 3. create model \n",
    "    model = ngram_mlp_model(\n",
    "        n_hidden_layerz=layerz,\n",
    "        hidden_unitz=unitz,\n",
    "        dropout_ratez=dropout,\n",
    "        input_shapez=v_train_x.shape[1:], \n",
    "        n_classez=num_classez)\n",
    "    \n",
    "    # 4. complie @ metric accuracy, optimizer adam and loss binary Vs multi-class \n",
    "    loss = 'binary_crossentropy' if num_classez == 2 else 'sparse_categorical_crossentropy'\n",
    "    optimizer = keras.optimizers.Adam(lr=learning_rate)\n",
    "    model.compile( optimizer=optimizer, loss=loss, metrics=['acc'] ) \n",
    "    \n",
    "    # 5. create callback for early stopping on validation loss if not loss decrease in two consecutive tries\n",
    "    callbacks = [\n",
    "        keras.callbacks.EarlyStopping(monitor='val_loss', patience=2)\n",
    "    ]\n",
    "    \n",
    "    # 6. train and validate \n",
    "    train_history = model.fit(\n",
    "        v_train_x,\n",
    "        train_y, \n",
    "        epochs = epochs,\n",
    "        callbacks=callbacks,\n",
    "        validation_data=(v_test_x, test_y), \n",
    "        verbose=1, # log once per epoch = 2       \n",
    "#         batch_size=batch_size\n",
    "    )\n",
    "    \n",
    "    #7. save model\n",
    "    model.save( 'IMDB_ngram_mlp_model.h5') \n",
    "    \n",
    "    train_history = train_history.history\n",
    "    \n",
    "    return train_history['val_acc'][-1], train_history['val_loss'][-1]"
   ]
  },
  {
   "cell_type": "code",
   "execution_count": 18,
   "metadata": {
    "scrolled": false
   },
   "outputs": [
    {
     "name": "stderr",
     "output_type": "stream",
     "text": [
      "C:\\Users\\bilha\\Anaconda3\\lib\\site-packages\\sklearn\\feature_extraction\\text.py:1616: UserWarning: Only (<class 'numpy.float64'>, <class 'numpy.float32'>, <class 'numpy.float16'>) 'dtype' should be used. int32 'dtype' will be converted to np.float64.\n",
      "  UserWarning)\n"
     ]
    },
    {
     "name": "stdout",
     "output_type": "stream",
     "text": [
      "  (0, 436264)\t0.14184279221351037\n",
      "  (0, 435788)\t0.030428523609670303\n",
      "  (0, 434358)\t0.10401265231633247\n",
      "  (0, 434219)\t0.07109304780418932\n",
      "  (0, 429023)\t0.10414843465774476\n",
      "  (0, 428476)\t0.180259074830679\n",
      "  (0, 426469)\t0.05147421092664268\n",
      "  (0, 424259)\t0.14903091595010673\n",
      "  (0, 424220)\t0.12153850464166552\n",
      "  (0, 424156)\t0.10838936392513034\n",
      "  (0, 407351)\t0.123326770921155\n",
      "  (0, 406810)\t0.03900035446611739\n",
      "  (0, 396004)\t0.16216020175021273\n",
      "  (0, 395990)\t0.10257996203620415\n",
      "  (0, 389718)\t0.08588777846923827\n",
      "  (0, 387689)\t0.020134471980400307\n",
      "  (0, 382617)\t0.04239052065225393\n",
      "  (0, 381613)\t0.02082177680659653\n",
      "  (0, 380093)\t0.11186267273101246\n",
      "  (0, 379641)\t0.03476361564080383\n",
      "  (0, 378932)\t0.11125810368250727\n",
      "  (0, 378674)\t0.034802107638283855\n",
      "  (0, 374092)\t0.11509220449558201\n",
      "  (0, 373838)\t0.09444536829881364\n",
      "  (0, 373235)\t0.07424433687286579\n",
      "  :\t:\n",
      "  (0, 166496)\t0.1594496491762602\n",
      "  (0, 165467)\t0.02968022225233819\n",
      "  (0, 115817)\t0.06867263676204087\n",
      "  (0, 108559)\t0.17680562094122604\n",
      "  (0, 108423)\t0.051197673184103946\n",
      "  (0, 104874)\t0.16912548108691328\n",
      "  (0, 104873)\t0.12103336655909162\n",
      "  (0, 88854)\t0.189934906741332\n",
      "  (0, 88853)\t0.13226691597288473\n",
      "  (0, 62239)\t0.12153850464166552\n",
      "  (0, 60400)\t0.0290493482416794\n",
      "  (0, 60148)\t0.05809611122311086\n",
      "  (0, 53837)\t0.07943298580804563\n",
      "  (0, 53542)\t0.050896253515148926\n",
      "  (0, 42528)\t0.12205748383228254\n",
      "  (0, 42385)\t0.07291503534125192\n",
      "  (0, 41217)\t0.14087121743036102\n",
      "  (0, 41031)\t0.06876710855645173\n",
      "  (0, 32508)\t0.12530163663618415\n",
      "  (0, 32323)\t0.030056811703666364\n",
      "  (0, 27680)\t0.10578418133617128\n",
      "  (0, 26860)\t0.037695416775394085\n",
      "  (0, 18752)\t0.03917237457430988\n",
      "  (0, 6185)\t0.0770079273522793\n",
      "  (0, 6030)\t0.04809851295980139\n",
      "Train on 24984 samples, validate on 24985 samples\n",
      "Epoch 1/10\n",
      "24984/24984 [==============================] - 9s 342us/sample - loss: 0.3336 - acc: 0.8854 - val_loss: 0.2438 - val_acc: 0.9021\n",
      "Epoch 2/10\n",
      "24984/24984 [==============================] - 8s 331us/sample - loss: 0.1557 - acc: 0.9425 - val_loss: 0.2341 - val_acc: 0.9045\n",
      "Epoch 3/10\n",
      "24984/24984 [==============================] - 8s 325us/sample - loss: 0.1092 - acc: 0.9622 - val_loss: 0.2504 - val_acc: 0.8993\n",
      "Epoch 4/10\n",
      "24984/24984 [==============================] - 8s 322us/sample - loss: 0.0808 - acc: 0.9729 - val_loss: 0.2724 - val_acc: 0.8940\n",
      "COMPLETED @ Accuracy: 0.8939763903617859 Loss: 0.2723893711477226\n"
     ]
    }
   ],
   "source": [
    "a, l = train_ngram_model( ((train_x, train_y), (test_x, test_y)) )\n",
    "\n",
    "print( \"COMPLETED @ Accuracy: {} Loss: {}\".format(a, l))"
   ]
  },
  {
   "cell_type": "markdown",
   "metadata": {},
   "source": [
    "# E. Use it"
   ]
  },
  {
   "cell_type": "code",
   "execution_count": 19,
   "metadata": {},
   "outputs": [],
   "source": [
    "import tensorflow as tf"
   ]
  },
  {
   "cell_type": "code",
   "execution_count": 20,
   "metadata": {},
   "outputs": [
    {
     "name": "stdout",
     "output_type": "stream",
     "text": [
      "Model: \"sequential\"\n",
      "_________________________________________________________________\n",
      "Layer (type)                 Output Shape              Param #   \n",
      "=================================================================\n",
      "dropout (Dropout)            (None, 20000)             0         \n",
      "_________________________________________________________________\n",
      "dense (Dense)                (None, 64)                1280064   \n",
      "_________________________________________________________________\n",
      "dropout_1 (Dropout)          (None, 64)                0         \n",
      "_________________________________________________________________\n",
      "dense_1 (Dense)              (None, 1)                 65        \n",
      "=================================================================\n",
      "Total params: 1,280,129\n",
      "Trainable params: 1,280,129\n",
      "Non-trainable params: 0\n",
      "_________________________________________________________________\n",
      "Loaded Model: None\n",
      "========\n",
      "\n",
      "Loaded TF-IDF Vectorizer: TfidfVectorizer(analyzer='word', binary=False, decode_error='replace',\n",
      "                dtype='int32', encoding='utf-8', input='content',\n",
      "                lowercase=True, max_df=1.0, max_features=None, min_df=2,\n",
      "                ngram_range=(1, 2), norm='l2', preprocessor=None,\n",
      "                smooth_idf=True, stop_words=None, strip_accents='unicode',\n",
      "                sublinear_tf=False, token_pattern='(?u)\\\\b\\\\w\\\\w+\\\\b',\n",
      "                tokenizer=None, use_idf=True, vocabulary=None)\n",
      "========\n",
      "\n",
      "Loaded Selector: SelectKBest(k=20000, score_func=<function f_classif at 0x0000029D304E6DC8>)\n",
      "========\n",
      "\n"
     ]
    }
   ],
   "source": [
    "# A. Load saved model and TF-IDF vectorizer \n",
    "\n",
    "# 1. load model\n",
    "trained_model = keras.models.load_model( 'IMDB_ngram_mlp_model.h5')\n",
    "print(\"Loaded Model: {}\\n========\\n\".format(trained_model.summary() ) )\n",
    "\n",
    "# 2. load vectorizer\n",
    "with open('tfidf_trained_model.zmd', 'rb') as fd:\n",
    "    tfidf = pickle.load(fd)    \n",
    "print(\"Loaded TF-IDF Vectorizer: {}\\n========\\n\".format(tfidf) )\n",
    "\n",
    "# 3. Load features selector \n",
    "with open('tfidf_trained_selector.zmd', 'rb') as fd:\n",
    "    fselector = pickle.load(fd)    \n",
    "print(\"Loaded Selector: {}\\n========\\n\".format(fselector) )\n"
   ]
  },
  {
   "cell_type": "code",
   "execution_count": 21,
   "metadata": {
    "scrolled": false
   },
   "outputs": [
    {
     "name": "stdout",
     "output_type": "stream",
     "text": [
      "\n",
      "PREDICTION RESULTS: That was such a good movie! ==> [[0.4416152]]\n",
      "\n",
      "PREDICTION RESULTS: That was terribly good! ==> [[0.08398636]]\n",
      "\n",
      "PREDICTION RESULTS: That was such a bad movie! ==> [[0.00255422]]\n",
      "\n",
      "PREDICTION RESULTS: Amazing! How can something so bad be out there! ==> [[0.44646907]]\n"
     ]
    }
   ],
   "source": [
    "# B. Do some prediction \n",
    "sample_reviews = [ \"That was such a good movie!\", \"That was terribly good!\", \n",
    "                  \"That was such a bad movie!\", \"Amazing! How can something so bad be out there!\"]\n",
    "\n",
    "for s in sample_reviews:\n",
    "#     # 1. prep input string same as training strings : TODO save vectorizer to file as well so don't have to recreate it each time \n",
    "#     _, v_input_x = ngram_vectorizer(train_x, train_y, [s])\n",
    "\n",
    "    # 1. use saved tfidf vectorizer & k-best selector: vectorize, select top k and make dense\n",
    "    v_input_x = tfidf.transform(  [s] )\n",
    "    v_input_x = fselector.transform( v_input_x).astype('float32').toarray().astype('float32')\n",
    "   \n",
    "    # 2. run prediction \n",
    "    lbl = trained_model.predict( v_input_x )\n",
    "    # 3. And we have .....\n",
    "    print(\"\\nPREDICTION RESULTS: {} ==> {}\".format(s, lbl) )"
   ]
  },
  {
   "cell_type": "code",
   "execution_count": 22,
   "metadata": {},
   "outputs": [
    {
     "name": "stdout",
     "output_type": "stream",
     "text": [
      "PYI version:  2.3.1\n",
      "TF version:  2.2.4-tf\n"
     ]
    },
    {
     "name": "stderr",
     "output_type": "stream",
     "text": [
      "Using TensorFlow backend.\n"
     ]
    }
   ],
   "source": [
    "import keras as keras_pyi\n",
    "from tensorflow import  keras as keras_tf\n",
    "\n",
    "print(\"PYI version: \", keras_pyi.__version__)\n",
    "print(\"TF version: \", keras_tf.__version__)"
   ]
  },
  {
   "cell_type": "code",
   "execution_count": null,
   "metadata": {},
   "outputs": [],
   "source": []
  }
 ],
 "metadata": {
  "kernelspec": {
   "display_name": "Python 3",
   "language": "python",
   "name": "python3"
  },
  "language_info": {
   "codemirror_mode": {
    "name": "ipython",
    "version": 3
   },
   "file_extension": ".py",
   "mimetype": "text/x-python",
   "name": "python",
   "nbconvert_exporter": "python",
   "pygments_lexer": "ipython3",
   "version": "3.7.4"
  }
 },
 "nbformat": 4,
 "nbformat_minor": 2
}
